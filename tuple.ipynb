{
 "cells": [
  {
   "cell_type": "markdown",
   "id": "0e753112-1042-4063-8259-8927f7d9c002",
   "metadata": {
    "slideshow": {
     "slide_type": "slide"
    },
    "tags": []
   },
   "source": [
    "# Tuple\n",
    "\n",
    "Tuple adalah salah satu tipe data barisan dalam Python yang memiliki sifat *immutable* atau tidak bisa diubah. Ini berarti elemen-elemen yang ada di dalam sebuah tuple, tidak bisa kita ubah, baik ditambah, dikurangi, diganti, atau diubah urutannya.\n",
    "\n",
    "Kita bisa mendefinisikan sebuah tuple dengan beberapa cara:\n",
    "* Menggunakan tanda kurung untuk tuple kosong: `()`\n",
    "* Menggunakan (membubuhi) tanda koma (`,`) untuk tuple dengan 1 elemen, misal: `a,` atau `(a,)`\n",
    "* Mendaftar elemen-elemen yang dipisahkan dengan tanda koma, misal: `a, b, c` atau `(a, b, c, d)`\n",
    "* Menggunakan fungsi bawaan `tuple()`"
   ]
  },
  {
   "cell_type": "code",
   "execution_count": null,
   "id": "31df77cb-3451-4a62-8d97-83c6a73f9448",
   "metadata": {},
   "outputs": [],
   "source": [
    "print(type((10)))\n",
    "print(type((10,)))\n",
    "print(type([10]))"
   ]
  },
  {
   "cell_type": "markdown",
   "id": "353696f5-53ee-46a9-9cf1-dc40c0bf10b6",
   "metadata": {
    "slideshow": {
     "slide_type": "slide"
    },
    "tags": []
   },
   "source": [
    "## Mendefinisikan Tuple dengan `,` dan `()`\n",
    "\n",
    "Kita bisa membuat tuple kosong hanya dengan membuat tanda kurung `()` tanpa ada elemen di dalamnya.\n",
    "\n",
    "```python\n",
    "empty_tuple = ()\n",
    "```\n",
    "\n",
    "Berbeda dengan list, kita bisa membungkus beberapa elemen dengan tanda kurung untuk mendefinisikan tuple dengan `,` yang memisahkan setiap elemennya.\n",
    "\n",
    "```python\n",
    "ceo = (\"mark\", \"elon\")\n",
    "```\n",
    "\n",
    "Penggunaan tanda kurung sebenarnya opsional jika kita membuat tuple yang memiliki satu atau beberapa elemen di dalamnya.\n",
    "\n",
    "```python\n",
    "# ini adalah tuple yang sama dengan `ceo`\n",
    "same_ceo = \"mark\", \"elon\"\n",
    "\n",
    "# ini juga tuple dengan satu elemen\n",
    "bootcamp = \"bitlabs\",\n",
    "```"
   ]
  },
  {
   "cell_type": "code",
   "execution_count": null,
   "id": "092487e2-15b6-4ab0-afe8-6a7ffeaa8d00",
   "metadata": {
    "slideshow": {
     "slide_type": "subslide"
    },
    "tags": []
   },
   "outputs": [],
   "source": [
    "empty_tuple = ()\n",
    "print(empty_tuple, type(empty_tuple))\n",
    "\n",
    "ceo = (\"mark\", \"elon\")\n",
    "print(ceo, type(ceo))\n",
    "\n",
    "same_ceo = \"mark\", \"elon\"\n",
    "print(same_ceo, type(same_ceo))\n",
    "\n",
    "bootcamp = \"bitlabs\",\n",
    "print(bootcamp, type(bootcamp))\n",
    "\n",
    "str_bootcamp = \"bitlabs\"\n",
    "print(str_bootcamp, type(str_bootcamp))\n",
    "print(str_bootcamp == bootcamp)"
   ]
  },
  {
   "cell_type": "code",
   "execution_count": null,
   "id": "40a7c259-930b-43e0-b032-2a336c9c08db",
   "metadata": {},
   "outputs": [],
   "source": [
    "tuple_of_names = [\"john\", \"andersen\"], [\"josh\", \"andrew\"]\n",
    "print(tuple_of_names)\n",
    "\n",
    "list_of_names = [[\"john\", \"andersen\"], [\"josh\", \"andrew\"]]\n",
    "print(list_of_names)"
   ]
  },
  {
   "cell_type": "markdown",
   "id": "a5344079-4bee-4b46-8b02-26d3b53e7e01",
   "metadata": {
    "slideshow": {
     "slide_type": "subslide"
    },
    "tags": []
   },
   "source": [
    "Tuple yang termasuk dalam kategori *sequence* dalam Python, juga memiliki sistem indeks dan irisan yang sama dengan list. Tidak ada yang berbeda dalam hal ini.\n",
    "\n",
    "```python\n",
    "# akses ceo pertama\n",
    "print(ceo[0])\n",
    "\n",
    "# akses ceo terakhir dengan indeks negatif\n",
    "print(ceo[-1])\n",
    "```"
   ]
  },
  {
   "cell_type": "markdown",
   "id": "1228a3cb-6c76-46e4-b762-b89b00ae2b9d",
   "metadata": {
    "slideshow": {
     "slide_type": "subslide"
    },
    "tags": []
   },
   "source": [
    "Misalkan, kita ingin membongkar elemen `same_ceo` ke dalam variabel `first_ceo` dan `second_ceo`. Kita bisa melakukan *indexing* dan memasukkan nilainya ke dalam variabel tersebut satu persatu seperti di bawah ini.\n",
    "\n",
    "```python\n",
    "first_ceo = ceo[0]\n",
    "second_ceo = ceo[1]\n",
    "```\n",
    "\n",
    "Atau, cara lain yang lebih *pythonic*\n",
    "\n",
    "```python\n",
    "first_ceo, second_ceo = ceo\n",
    "```"
   ]
  },
  {
   "cell_type": "markdown",
   "id": "b7f33620-a408-4792-937a-67aafd8f0b01",
   "metadata": {
    "slideshow": {
     "slide_type": "subslide"
    },
    "tags": []
   },
   "source": [
    "<div class=\"alert alert-block alert-info\">\n",
    "    <b>Kuis:</b> Dengan <em>unpacking</em>, definisikan variabel <code>longitude</code> dan <code>latitude</code> dari variabel <code>location</code> pada cell bawah ini\n",
    "</div>"
   ]
  },
  {
   "cell_type": "code",
   "execution_count": null,
   "id": "92fb8639-aa41-4649-9add-df9b432260e3",
   "metadata": {},
   "outputs": [],
   "source": [
    "location = -6.91589099562453, 107.62285836361218\n",
    "print(location)\n",
    "\n",
    "# KETIK DI SINI\n",
    "# longitude = location[0]\n",
    "# latitude = location[1]\n",
    "longitude, latitude = location\n",
    "print(longitude, latitude)"
   ]
  },
  {
   "cell_type": "markdown",
   "id": "d0eb6371-4197-4f3b-a2af-444d8e7be7a2",
   "metadata": {
    "slideshow": {
     "slide_type": "slide"
    },
    "tags": []
   },
   "source": [
    "## Mendefinisikan Tuple dengan `tuple()`\n",
    "\n",
    "Sebagai contoh, kita lakukan hal yang sama seperti pada [list](./list.ipynb) sebelumnya pada string `\"bitlabs\"`. Selain itu, masih ingat dengan variabel `first_quarter_months`? Kita bisa mengubah list tersebut menjadi tuple dengan fungsi `tuple`."
   ]
  },
  {
   "cell_type": "code",
   "execution_count": null,
   "id": "5f163b29-4272-4890-8104-df251f59d8ac",
   "metadata": {},
   "outputs": [],
   "source": [
    "first_quarter_months = [\"January\", \"February\", \"March\"]\n",
    "\n",
    "print(first_quarter_months, type(first_quarter_months))\n",
    "print(tuple(first_quarter_months), type(tuple(first_quarter_months)))\n",
    "print(tuple())\n",
    "print(tuple(\"bitlabs\"))"
   ]
  },
  {
   "cell_type": "code",
   "execution_count": null,
   "id": "b43b7f19-f57f-4934-b593-a5202816c4cd",
   "metadata": {},
   "outputs": [],
   "source": [
    "first_quarter_months.append(\"June\")"
   ]
  },
  {
   "cell_type": "code",
   "execution_count": null,
   "id": "a5660ade-1fb3-43d3-8027-282940469636",
   "metadata": {},
   "outputs": [],
   "source": [
    "first_quarter_months"
   ]
  },
  {
   "cell_type": "code",
   "execution_count": null,
   "id": "8d8aa172-b058-467a-b258-2aa9da644de1",
   "metadata": {},
   "outputs": [],
   "source": [
    "first_quarter_months.append(9)"
   ]
  },
  {
   "cell_type": "code",
   "execution_count": null,
   "id": "66ada5ce-4e3d-4dfc-87d8-16eeccd5ef57",
   "metadata": {},
   "outputs": [],
   "source": [
    "first_quarter_months.append(True)\n",
    "new_months = first_quarter_months.append(1+8j)"
   ]
  },
  {
   "cell_type": "code",
   "execution_count": null,
   "id": "92458b5c-cb16-49f4-957d-11192382fd58",
   "metadata": {},
   "outputs": [],
   "source": [
    "first_quarter_months"
   ]
  },
  {
   "cell_type": "code",
   "execution_count": null,
   "id": "b9414fd9-3669-48d7-9040-ec85501997a4",
   "metadata": {},
   "outputs": [],
   "source": [
    "new_months, None"
   ]
  },
  {
   "cell_type": "code",
   "execution_count": null,
   "id": "ce113aea-9889-45f5-94e9-8bbabec5901f",
   "metadata": {},
   "outputs": [],
   "source": [
    "list_ceo = list(ceo)\n",
    "print(list_ceo)\n",
    "\n",
    "list_ceo[0] = \"william\"\n",
    "print(list_ceo)"
   ]
  },
  {
   "cell_type": "code",
   "execution_count": null,
   "id": "c67be0bb-f4d1-4fbc-a4ad-3f32ac28d2de",
   "metadata": {},
   "outputs": [],
   "source": [
    "# ceo[0] = \"william\"    # will throw error"
   ]
  },
  {
   "cell_type": "code",
   "execution_count": null,
   "id": "07c9bff5-da40-4f1e-8872-ae0bfa259563",
   "metadata": {},
   "outputs": [],
   "source": [
    "ceo.count(\"mark\"), ceo.index(\"mark\")"
   ]
  },
  {
   "cell_type": "markdown",
   "id": "058f296a-081d-4535-be46-7b1f1a840c39",
   "metadata": {
    "slideshow": {
     "slide_type": "subslide"
    },
    "tags": []
   },
   "source": [
    "<div class=\"alert alert-block alert-info\">\n",
    "<p><b>Kuis:</b></p>\n",
    "<p>Misal didefinisikan variabel di bawah ini.</p>\n",
    "<pre>\n",
    "tuple_x = list(), str(), int(), float()\n",
    "tuple_y = (list(), str(), int(), float())\n",
    "</pre>\n",
    "\n",
    "\n",
    "<p>Kira-kira apa yang ditampilkan dari kode di bawah?</p>\n",
    "<pre>\n",
    "print(tuple_x == tuple_y)\n",
    "print(tuple_y[0])\n",
    "</pre>\n",
    "</div>"
   ]
  },
  {
   "cell_type": "code",
   "execution_count": null,
   "id": "f29571e8-a608-4ffa-a974-7f8cb6643bd4",
   "metadata": {},
   "outputs": [],
   "source": [
    "# KETIK DI SINI"
   ]
  }
 ],
 "metadata": {
  "kernelspec": {
   "display_name": "Python 3 (ipykernel)",
   "language": "python",
   "name": "python3"
  },
  "language_info": {
   "codemirror_mode": {
    "name": "ipython",
    "version": 3
   },
   "file_extension": ".py",
   "mimetype": "text/x-python",
   "name": "python",
   "nbconvert_exporter": "python",
   "pygments_lexer": "ipython3",
   "version": "3.9.5"
  }
 },
 "nbformat": 4,
 "nbformat_minor": 5
}
