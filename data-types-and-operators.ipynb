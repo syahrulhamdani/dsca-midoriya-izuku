{
 "cells": [
  {
   "cell_type": "markdown",
   "id": "16fbea1a-0e1b-481f-921d-a8ae18fcca0c",
   "metadata": {
    "slideshow": {
     "slide_type": "slide"
    },
    "tags": []
   },
   "source": [
    "# Tipe Data dan Operator\n",
    "\n",
    "Setiap pemrograman memiliki tipe data bawaan, begitu juga Python. Dalam notebook ini, kita akan mulai berkenalan dengan tipe data yang ada dalam Python dan juga bagaimana kita bisa menggunakan Python untuk melakukan operasi-operasi yang biasa kita lakukan menggunakan kalkulator."
   ]
  },
  {
   "cell_type": "markdown",
   "id": "d574c278-1e97-4abf-a6c4-fa6f91524e01",
   "metadata": {
    "slideshow": {
     "slide_type": "slide"
    },
    "tags": []
   },
   "source": [
    "## Python Sebagai Kalkulator\n",
    "\n",
    "Beberapa operator di Python:\n",
    "* `+` penjumlahan\n",
    "* `-` pengurangan\n",
    "* `*` perkalian\n",
    "* `/` pembagian\n",
    "* `**` operasi eksponen/pangkat (bahasa pemrograman yang lain mungkin menggunakan `^`)\n",
    "* `//` pembagian yang hasillnya dibulatkan ke bawah."
   ]
  },
  {
   "cell_type": "markdown",
   "id": "efd6fd3b-a0a3-4888-97c5-adb4cc3ba50e",
   "metadata": {
    "slideshow": {
     "slide_type": "subslide"
    },
    "tags": []
   },
   "source": [
    "<div class=\"alert alert-block alert-info\">\n",
    "    <strong>Kuis:</strong> Sebagai pekerja lepas, pemasukan tiap bulan saya tidak tentu. Bulan Januari kemairn saya mendapat pemasukan sebesar 1 juta rupiah, Februari Rp 500.000,-, dan Rp 800.000,- di bulan Maret. Berapa rata-rata pendapatan saya pada kuartal pertama di tahun ini?\n",
    "</div>"
   ]
  },
  {
   "cell_type": "code",
   "execution_count": null,
   "id": "9bbae8c3-3112-452a-b986-0dd606f599c0",
   "metadata": {},
   "outputs": [],
   "source": [
    "print(# KETIK DI SINI)"
   ]
  },
  {
   "cell_type": "markdown",
   "id": "29544ce9-f8fb-4439-81f5-e9ce03a68f43",
   "metadata": {
    "slideshow": {
     "slide_type": "slide"
    },
    "tags": []
   },
   "source": [
    "<div class=\"alert alert-block alert-info\">\n",
    "<code>print</code> adalah fungsi bawaan dari Python yang digunakan untuk menampilkan nilai masukan (<em>input</em>) apapun ke luaran sebagai <strong>teks</strong>\n",
    "</div>"
   ]
  },
  {
   "cell_type": "code",
   "execution_count": null,
   "id": "89e6b958-39e9-46f8-aad5-fbecc029f2d4",
   "metadata": {},
   "outputs": [],
   "source": [
    "print(25 + 30)\n",
    "print(25 - 30)\n",
    "print(5 * 10)\n",
    "print(6 / 3)"
   ]
  },
  {
   "cell_type": "code",
   "execution_count": null,
   "id": "3856320e-42c0-409a-bcbd-3a9ea23d10b7",
   "metadata": {},
   "outputs": [],
   "source": [
    "print(25 + 30)\n",
    "print(10 - 5 * 20)\n",
    "print(4 / 2)\n",
    "print(4 % 2)\n",
    "print(4 % 3)    # 4 = 1*3 + 1\n",
    "print(12 ** 2)\n",
    "print(111 // 5)"
   ]
  },
  {
   "cell_type": "code",
   "execution_count": null,
   "id": "45700e8f-2dd5-485c-9f4d-17668b9fd248",
   "metadata": {},
   "outputs": [],
   "source": [
    "print(10 - 5 * 20)\n",
    "25 + 35"
   ]
  },
  {
   "cell_type": "code",
   "execution_count": null,
   "id": "adc7b6ae-b9cd-4e64-a4bc-dd15b797ff34",
   "metadata": {},
   "outputs": [],
   "source": [
    "print(10)"
   ]
  },
  {
   "cell_type": "markdown",
   "id": "a58efcc3-24c8-46b4-84df-47394998ad2b",
   "metadata": {
    "slideshow": {
     "slide_type": "slide"
    },
    "tags": []
   },
   "source": [
    "## Variabel dan Operator Penugasan\n",
    "\n",
    "Kita bisa mendefinisikan variabel dengan menggunakan operator `=`, sebagai contoh, `current_year = 2021`. Di sini, `current_year` adalah **nama variabel**, **=** adalah operator penugasan (*assignment operator*), yang diberi nilai **2021**.\n",
    "\n",
    "Jika kita ingin mendefinisikan lebih dari satu variabel, kita bisa menuliskan seperti di bawah ini.\n",
    "\n",
    "```python\n",
    "x = 10\n",
    "y = 7\n",
    "z = 12\n",
    "```\n",
    "\n",
    "atau, cara pendefinisian yang lebih *pythonic*,\n",
    "\n",
    "```python\n",
    "x, y, z = 10, 7, 12\n",
    "```"
   ]
  },
  {
   "cell_type": "markdown",
   "id": "6246cc42-238a-40f4-bff2-5dc990bb9e9b",
   "metadata": {
    "slideshow": {
     "slide_type": "subslide"
    },
    "tags": []
   },
   "source": [
    "Dalam pendefinisian variabel, ada beberapa aturan yang perlu diperhatikan:\n",
    "1. Hanya gunakan **huruf**, **angka**, dan **garis bawah (`_`)**.\n",
    "2. **Jangan** menggunakan **spasi**.\n",
    "3. **Diawali** dengan **huruf** atau **garis bawah**\n",
    "4. Tidak bisa menggunakan **kata kunci yang sudah dipakai** yang merupakan bawaan dari Python. Contoh kata kunci bawaan yang tidak bisa kita pakai seperti pada gambar di bawah ini dan selengkapnya bisa dilihat [di sini](https://pentangle.net/python/handbook/node52.html).\n",
    "5. Cara yang lebih *pythonic* untuk menamai variabel adalah dengan menggunakan semua **hurus kecil** dan setiap suku kata **dipisahkan** oleh **garis bawah (`_`)**."
   ]
  },
  {
   "cell_type": "markdown",
   "id": "4fae37bd-6d06-440d-a0e7-bf7f722287e3",
   "metadata": {
    "slideshow": {
     "slide_type": "subslide"
    },
    "tags": []
   },
   "source": [
    "![](../../assets/images/python-keywords.png)\n",
    "\n",
    "<div class=\"alert alert-info alert-block\">\n",
    "    Cara kita menamai sebuah variabel disebut dengan <b>snake case</b> karena kita cenderung menghubungkan atau memisahkan setiap suku kata dengan garis bawah, layaknya tubuh ular.\n",
    "</div>"
   ]
  },
  {
   "cell_type": "code",
   "execution_count": null,
   "id": "1fd0f693-ef4f-4030-bfa8-957f182770ab",
   "metadata": {},
   "outputs": [],
   "source": [
    "x, y, z = 1, 2, 3\n",
    "print(x)\n",
    "print(y)\n",
    "print(z)\n",
    "print(x, y, z)"
   ]
  },
  {
   "cell_type": "code",
   "execution_count": null,
   "id": "05b8e6de-33cc-4e46-83b1-716eed14ddbc",
   "metadata": {
    "slideshow": {
     "slide_type": "slide"
    },
    "tags": []
   },
   "outputs": [],
   "source": [
    "# akan muncul error karena ada spasi\n",
    "my population = 12091849"
   ]
  },
  {
   "cell_type": "code",
   "execution_count": null,
   "id": "1e771d3a-26e5-4553-8396-4a30936ecc1e",
   "metadata": {},
   "outputs": [],
   "source": [
    "# akan muncul error karena diawali dengan angka\n",
    "1_var = 100"
   ]
  },
  {
   "cell_type": "code",
   "execution_count": null,
   "id": "2daf9e45-2dbd-4a98-83bc-9c1057e4868a",
   "metadata": {},
   "outputs": [],
   "source": [
    "current_year = 2021\n",
    "last_year = 2020\n",
    "last_year = 2022\n",
    "\n",
    "print(current_year, last_year, lastYear)"
   ]
  },
  {
   "cell_type": "code",
   "execution_count": null,
   "id": "9036853a-1f1e-4067-b609-b81f2e8c6902",
   "metadata": {},
   "outputs": [],
   "source": [
    "# ini adalah baris komentar dalam Python (baris yang dimulai dengan `#`)\n",
    "x, y, z = 10, 11, 12\n",
    "\n",
    "print(x)\n",
    "print(y)\n",
    "print(z)"
   ]
  },
  {
   "cell_type": "code",
   "execution_count": null,
   "id": "66891921-01f0-4b84-bfd6-016d30ac7bec",
   "metadata": {},
   "outputs": [],
   "source": [
    "month9 = 10000\n",
    "month_9 = 10000\n",
    "print(month9, month_9)"
   ]
  },
  {
   "cell_type": "markdown",
   "id": "a6861c31-5bd0-4178-8d39-ae6b998c26d3",
   "metadata": {
    "slideshow": {
     "slide_type": "slide"
    },
    "tags": []
   },
   "source": [
    "## Operator Penugasan Lain\n",
    "\n",
    "Selain `=`, ada beberapa operator penugasan lain yang mungkin berguna dan menyingkat penulisan seperti `+=`, `-=`, atau juga `*=`.\n",
    "\n",
    "Sebagai contoh, jika kita ingin melakukan perubahan variabel `current_year`, kita bisa menulis\n",
    "\n",
    "```python\n",
    "current_year = current_year + 1\n",
    "```\n",
    "\n",
    "Karena kita hanya akan memperbarui nilai `current_year` dan akan masih menggunakan nama variabel yang sama, kita bisa menggunakan operator `+=`. Sehinga, akan jadi seperti\n",
    "\n",
    "```python\n",
    "current_year += 1\n",
    "```"
   ]
  },
  {
   "cell_type": "code",
   "execution_count": null,
   "id": "67c0c09f-dd84-4c8d-a82c-d5e67f5297fd",
   "metadata": {},
   "outputs": [],
   "source": [
    "my_population = 1200000\n",
    "my_population = my_population + 1000000\n",
    "print(my_population)\n",
    "\n",
    "my_population *= 0.5\n",
    "print(my_population)\n",
    "\n",
    "my_population **= 2\n",
    "print(my_population)"
   ]
  },
  {
   "cell_type": "markdown",
   "id": "da577a10-2e35-4736-a2d3-c52e37167ab3",
   "metadata": {
    "slideshow": {
     "slide_type": "subslide"
    },
    "tags": []
   },
   "source": [
    "Selain operator penugasan di atas, ada juga operator perbandingan yang digunakan untuk membandingkan suatu nilai dengan nilai lainnya. Berikut adalah tabel operator perbandingan.\n",
    "\n",
    "|Symbol Use Case|Bool|Operation|\n",
    "|---------------|----|---------|\n",
    "| 5 < 3 | False | Less Than\n",
    "| 5 > 3 | True | Greater Than\n",
    "| 3 <= 3 | True | Less Than or Equal To\n",
    "| 3 >= 5 | False | Greater Than or Equal To\n",
    "| 3 == 5 | False | Equal To\n",
    "| 3 != 5 | True | Not Equal To\n",
    "\n",
    "Hasil dari operasi perbandingan tersebut adalah sebuah `Boolean`, yaitu salah satu tipe data yang menyatakan suatu objek bernilai **benar** (`True`) atau **salah** (`False`)."
   ]
  },
  {
   "cell_type": "code",
   "execution_count": null,
   "id": "74e987f0-9c42-40a7-a1d3-fb66f097dbcf",
   "metadata": {},
   "outputs": [],
   "source": [
    "3 == 5"
   ]
  },
  {
   "cell_type": "markdown",
   "id": "f1a3fcc9-ada1-4fa0-8029-6af694a162a2",
   "metadata": {
    "slideshow": {
     "slide_type": "slide"
    },
    "tags": []
   },
   "source": [
    "## Tipe Data dalam Python\n",
    "\n",
    "### Numerik\n",
    "\n",
    "Tipe data pertama yang akan kita bahas adalah tipe data numerik. Dalam tipe data numerik, terdapat dua jenis tipe data:\n",
    "* `int`, untuk nilai-nilai bilangan bulat\n",
    "* `float`, untuk nilai-nilai bilangan desimal atau real\n",
    "* `complex`, untuk nilai-nilai bilanga kompleks\n",
    "\n",
    "<div class=\"alert alert-block alert-info\">\n",
    "Untuk mengetahui tipe data suatu objek dalam Python, kita bisa menggunakan fungsi bawaan Python yaitu `type`, misal `type(10)`.\n",
    "</div>"
   ]
  },
  {
   "cell_type": "markdown",
   "id": "52a5623e-9b24-4363-8030-bfc7d1d2693c",
   "metadata": {
    "slideshow": {
     "slide_type": "subslide"
    },
    "tags": []
   },
   "source": [
    "#### Integers\n",
    "\n",
    "Dengan kita menulis `1`, `-10`, `1000000`, `-999`, dan sejenisnya, kita sudah menginisiasi data integer. Sebagai contoh, kita bisa mencari tahu secara langsung tipe data dari nilai tersebut atau juga dengan mendefinisikannya ke dalam sebuah variabel.\n",
    "\n",
    "```python\n",
    "print(type(1), type(-10))\n",
    "```\n",
    "\n",
    "atau dengan memasukkannya ke dalam variabel seperti berikut.\n",
    "\n",
    "```python\n",
    "value = -100\n",
    "print(type(value))\n",
    "```"
   ]
  },
  {
   "cell_type": "code",
   "execution_count": null,
   "id": "ca5cc910-8682-4041-aa8e-6f2949cf9216",
   "metadata": {},
   "outputs": [],
   "source": [
    "print(type(10), type(0))\n",
    "print(type(1), type(-10))"
   ]
  },
  {
   "cell_type": "code",
   "execution_count": null,
   "id": "7d87aeac-03dd-4d2c-a9ef-a54798b59849",
   "metadata": {},
   "outputs": [],
   "source": [
    "print(\"tipe data dari\", current_year, \":\", type(current_year))\n",
    "print(\"tipe data dari\", last_year, \":\", type(last_year))"
   ]
  },
  {
   "cell_type": "markdown",
   "id": "8937ba50-1051-484f-83c7-7ff1e5cd2b69",
   "metadata": {
    "slideshow": {
     "slide_type": "subslide"
    },
    "tags": []
   },
   "source": [
    "#### Float\n",
    "\n",
    "Tipe data `float` adalah semua nilai desimal seperti `0.14`, `-10.2092`, dan bahkan `100.0`. Contoh terakhir bertipe data `float` karena meskipun dalam matematika sama dengan `100`, tapi karena kita membubuhi notasi desimal (`.`), maka Python akan menganggap objek tersebut bertipe data `float`."
   ]
  },
  {
   "cell_type": "code",
   "execution_count": null,
   "id": "62036b23-3317-459e-814a-b6cf0c0c301c",
   "metadata": {},
   "outputs": [],
   "source": [
    "print(3.15, type(3.14))\n",
    "print(.5101, type(.05101))\n",
    "print(10.0, type(10.0))\n",
    "print(10., type(10.))    # float\n",
    "print(10, type(10))    # integer"
   ]
  },
  {
   "cell_type": "markdown",
   "id": "c5c04d5b-274a-4f10-922f-fa7bccf06d1a",
   "metadata": {
    "slideshow": {
     "slide_type": "subslide"
    },
    "tags": []
   },
   "source": [
    "Python juga menyediakan fungsi bawaan `float` dan `int` yang salah satu kegunaanny adalah untuk mengubah tipe data yang awalnya integer menjadi float dan sebaliknya.\n",
    "\n",
    "<div class=\"alert alert-success alert-block\">\n",
    "    fungsi <code>float</code> dan <code>int</code> juga bisa digunakan untuk mendefinisikan nilai kosong (<math>0</math>) jika kita memanggilnya tanpa ada argumen\n",
    "\n",
    "<pre>\n",
    "simple_int = int()\n",
    "simple_float = float()\n",
    "</pre>\n",
    "</div>"
   ]
  },
  {
   "cell_type": "code",
   "execution_count": null,
   "id": "f4f38117-ea58-47b0-926f-4e5f6de5d7d6",
   "metadata": {},
   "outputs": [],
   "source": [
    "# konversi tipe data dari float ke int, dan sebaliknya\n",
    "x_int = 10\n",
    "y_float = 3.14\n",
    "\n",
    "x_float = float(x_int)\n",
    "y_int = int(y_float)\n",
    "\n",
    "print(x_int, y_int)\n",
    "print(x_float, y_float)\n",
    "print(float(y_float))"
   ]
  },
  {
   "cell_type": "code",
   "execution_count": null,
   "id": "bb50e8ba-00aa-4b22-8551-724abfab5dc9",
   "metadata": {},
   "outputs": [],
   "source": [
    "simple_int = int()\n",
    "simple_float = float()\n",
    "\n",
    "print(simple_int, simple_float)\n",
    "print(simple_int == 0)\n",
    "print(simple_float == 0.)"
   ]
  },
  {
   "cell_type": "code",
   "execution_count": null,
   "id": "a7d20092-9712-4fb3-9d5c-7c455bd97a9a",
   "metadata": {},
   "outputs": [],
   "source": [
    "type(1), type(True), type(3.14), type(\"python\")"
   ]
  },
  {
   "cell_type": "markdown",
   "id": "edf2969c-8f63-424d-804e-f2d874b135e3",
   "metadata": {
    "slideshow": {
     "slide_type": "slide"
    },
    "tags": []
   },
   "source": [
    "### Teks\n",
    "\n",
    "Suatu teks, dalam Python, diwakili dengan tipe data `str` (baca: *string*). Teks adalah salah satu tipe data barisan dalam Python. Ada beberapa cara untuk mendefiniskan teks, yaitu membungkus teks dengan:\n",
    "* *double quotes* (`\"\"`)\n",
    "* *single quotes* (`''`)\n",
    "* *triple double quotes* (`\"\"\" \"\"\"`)\n",
    "* atau, *triple single quotes* (`''' '''`)\n",
    "\n",
    "Kita bisa menggunakan *double qoutes* atau *single qoute* untuk menulis teks dalam satu baris yang sama dan menggunakan *triple double quotes* atau *triple single quotes* untuk lebih dari satu baris."
   ]
  },
  {
   "cell_type": "markdown",
   "id": "063c1907-5343-43bb-ab83-00594d231178",
   "metadata": {
    "slideshow": {
     "slide_type": "slide"
    },
    "tags": []
   },
   "source": [
    "<div class=\"alert alert-block alert-info\">\n",
    "<p><b>Kuis:</b> Coba buat 3 variabel yang memuat masing-masing teks di bawah ini sesuai dengan nama variabel yang sudah ditentukan:</p>\n",
    "<ul>\n",
    "<li>nama variabel → <code>bootcamp</code>\n",
    "<pre>\n",
    "Selamat datang di Bitlabs!\n",
    "</pre>\n",
    "</li>\n",
    "<li>nama variabel → <code>novel</code>\n",
    "<pre>\n",
    "\"Arif, cepat ke sini!\", ujar ibunya.\n",
    "</pre>\n",
    "</li>\n",
    "<li>\n",
    "nama variabel → <code>text</code>\n",
    "<pre>\n",
    "Mungkin al'ad sudah tidak sanggup.\n",
    "\n",
    "Tapi, apa mungkin?\n",
    "</pre>\n",
    "</li>\n",
    "</ul>\n",
    "</div>"
   ]
  },
  {
   "cell_type": "code",
   "execution_count": null,
   "id": "948d3a70-c84c-4040-8240-9ee02b89b6b8",
   "metadata": {},
   "outputs": [],
   "source": [
    "bootcamp = 'Selamat datang di Bitlabs!'\n",
    "novel = \"\"\"\"Arif, cepat ke sini!\", ujar ibunya.\"\"\"\n",
    "text = \"\"\"Mungkin al'ad sudah tidak sanggup.\n",
    "\n",
    "Tapi, apa mungkin?\"\"\"\n",
    "\n",
    "print(bootcamp)\n",
    "print(novel)\n",
    "print(text)"
   ]
  },
  {
   "cell_type": "markdown",
   "id": "085b89fa-9fb5-4553-b8cd-48a467b9fce1",
   "metadata": {
    "slideshow": {
     "slide_type": "subslide"
    },
    "tags": []
   },
   "source": [
    "<div class=\"alert alert-block alert-info\">\n",
    "    <b>Kuis:</b> Perbaiki variabel <code>fix</code> di cell bawah ini supaya dapat ditampilkan.\n",
    "</div>"
   ]
  },
  {
   "cell_type": "code",
   "execution_count": null,
   "id": "82b441a8-eb41-466c-adc3-5201cf43abbd",
   "metadata": {},
   "outputs": [],
   "source": [
    "fix = '\n",
    "\"Apa mungkin, kita diam saja melihat 'ain diperlakukan seperti itu?\", tanya usop.\n",
    "\n",
    "Ihsan pun diam, berpikir. \n",
    "\"\n",
    "\n",
    "print(fix)"
   ]
  },
  {
   "cell_type": "markdown",
   "id": "8b376313-9288-4030-be1d-640249d10505",
   "metadata": {
    "slideshow": {
     "slide_type": "slide"
    },
    "tags": []
   },
   "source": [
    "### Boolean\n",
    "\n",
    "Jika kita lihat kembali tabel [operator perbandingan](comparison-operator) di atas, semua nilai yang dikembalikan bertipe `boolean` atau `bool`. Nilai boolean terdiri dari 2 jenis, `True` dan `False`. Dalam bahasa pemrograman lain, penulisannya mungkin akan sedikit berbeda, seperti javascript menggunakan huruf kecil `true`.\n",
    "\n",
    "Nilai `True` dan `False` juga sering dikonversi ke dalam bentuk numerik yang memiliki nilai `1` dan `0` secara berturut-turut. Mari kita coba di cell bawah ini."
   ]
  },
  {
   "cell_type": "code",
   "execution_count": null,
   "id": "23dda006-34f1-4b90-8c02-095320a82083",
   "metadata": {},
   "outputs": [],
   "source": [
    "print(5 < 3)\n",
    "print(3 <= 5)\n",
    "print(5 != 5.)\n",
    "print(0 != 0.)\n",
    "print(\"bit\" == \"bit\")\n",
    "print(\"bit\" == \"Bit\")\n",
    "print(\"abjad\" > \"Abjad\")\n",
    "print(\"abjad\" > \"abjaf\")\n",
    "print(\"abjad\" < \"abjaf\")\n",
    "print(\"a10\" >= \"a11\")\n",
    "print(10 >= 101)"
   ]
  },
  {
   "cell_type": "code",
   "execution_count": null,
   "id": "a65589d5-ffc0-489f-91b4-8fb7f279cd3e",
   "metadata": {},
   "outputs": [],
   "source": [
    "x, z"
   ]
  },
  {
   "cell_type": "code",
   "execution_count": null,
   "id": "97fe6d54-1bcd-43f5-bc4d-5c7f6417459c",
   "metadata": {},
   "outputs": [],
   "source": [
    "is_more = x > z\n",
    "print(is_more, type(is_more))\n",
    "\n",
    "is_x_more_z = x > z\n",
    "print(is_x_more_z, type(is_x_more_z))"
   ]
  },
  {
   "cell_type": "markdown",
   "id": "199e364e-543c-4b84-b1e1-d0d865baec06",
   "metadata": {
    "slideshow": {
     "slide_type": "subslide"
    },
    "tags": []
   },
   "source": [
    "Kita juga bisa menggabungkan beberapa perbandingan menggunakan logika penggabungan `and`, `or`, atau `not`.  Selengkapnya dapat dilihat pada tabel di bawah ini.\n",
    "\n",
    "|Logical Use Case|Bool|Operation|\n",
    "|---------------|----|---------|\n",
    "| 15 < 13 `and` 5 == 5 | False | `and` - Dievaluasi `True` jika semua pernyataan benar\n",
    "| 15 > 13 `or` 5 != 5. | True | `or` - Dievaluasi `True` jika salah satu pernyataan benar\n",
    "| `not` 15 < 13 | True | `not` - Kebalikan dari nilai boolean"
   ]
  },
  {
   "cell_type": "markdown",
   "id": "7f1dc136-1028-4be5-bba8-e938f2f78716",
   "metadata": {
    "slideshow": {
     "slide_type": "subslide"
    },
    "tags": []
   },
   "source": [
    "<div class=\"alert alert-block alert-info\">\n",
    "<p><b>Kuis</b> Lengkapilah tabel kebenaran di bawah ini jika kita definisikan <code>p = q = 1</code>.</p>\n",
    "<div>\n",
    "    <table>\n",
    "        <tr>\n",
    "            <th>p</th>\n",
    "            <th>q</th>\n",
    "            <th>p and q</th>\n",
    "            <th>p or q</th>\n",
    "        </tr>\n",
    "        <tr>\n",
    "            <td>p</td>\n",
    "            <td>q</td>\n",
    "            <td>True</td>\n",
    "            <td>True</td>\n",
    "        </tr>\n",
    "        <tr>\n",
    "            <td>p</td>\n",
    "            <td>not q</td>\n",
    "            <td>...</td>\n",
    "            <td>...</td>\n",
    "        </tr>\n",
    "        <tr>\n",
    "            <td>not p</td>\n",
    "            <td>q</td>\n",
    "            <td>...</td>\n",
    "            <td>...</td>\n",
    "        </tr>\n",
    "        <tr>\n",
    "            <td>not p</td>\n",
    "            <td>not q</td>\n",
    "            <td>False</td>\n",
    "            <td>False</td>\n",
    "        </tr>\n",
    "    </table>\n",
    "</div>"
   ]
  },
  {
   "cell_type": "code",
   "execution_count": null,
   "id": "8189a846-452f-470c-a2df-06bf21b3af84",
   "metadata": {},
   "outputs": [],
   "source": [
    "p = q = 1\n",
    "\n",
    "p_and_notq = # KETIK DI SINI\n",
    "notp_and_q = # KETIK DI SINI\n",
    "notp_and_notq = # KETIK DI SINI\n",
    "\n",
    "p_or_notq = # KETIK DI SINI\n",
    "notp_or_q = # KETIK DI SINI\n",
    "notp_or_notq = # KETIK DI SINI"
   ]
  },
  {
   "cell_type": "markdown",
   "id": "f912c764-58eb-4bdc-afac-49ad54e355f0",
   "metadata": {
    "slideshow": {
     "slide_type": "slide"
    },
    "tags": []
   },
   "source": [
    "Jika kita memasukkan nilai boolean ke dalam fungsi bawaan `int` atau `float`, maka nilai `True` akan berubah menjadi `1` dan `1.0` untuk integer dan float secara berturut-turut, dan sebaliknya untuk `False`.\n",
    "\n",
    "Python juga menyediakan fungsi bawaan `bool` yang bisa mengonversi tipe data lain ke dalam bentuk boolean.\n",
    "\n",
    "```python\n",
    "print(bool(0))\n",
    "print(bool(1))\n",
    "print(bool(\"False\"))\n",
    "print(bool(\"\"))\n",
    "print(bool(0.))\n",
    "print(bool)\n",
    "```"
   ]
  },
  {
   "cell_type": "code",
   "execution_count": null,
   "id": "cc8e1379-2ed5-42a4-a500-1c53eef83e06",
   "metadata": {},
   "outputs": [],
   "source": [
    "print(int(True), int(False))\n",
    "print(float(True), float(False))\n",
    "\n",
    "print(bool(0), bool(1))\n",
    "print(bool(0.), bool(1.))\n",
    "\n",
    "print(bool(\"False\"), bool(\"\"))\n",
    "print(bool(10923489), bool(0))"
   ]
  }
 ],
 "metadata": {
  "jupytext": {
   "text_representation": {
    "format_name": "myst"
   }
  },
  "kernelspec": {
   "display_name": "Python 3 (ipykernel)",
   "language": "python",
   "name": "python3"
  },
  "language_info": {
   "codemirror_mode": {
    "name": "ipython",
    "version": 3
   },
   "file_extension": ".py",
   "mimetype": "text/x-python",
   "name": "python",
   "nbconvert_exporter": "python",
   "pygments_lexer": "ipython3",
   "version": "3.9.5"
  }
 },
 "nbformat": 4,
 "nbformat_minor": 5
}
