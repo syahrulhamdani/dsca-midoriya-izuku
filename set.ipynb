{
 "cells": [
  {
   "cell_type": "markdown",
   "id": "ab76cadc-721a-4975-8e6f-5f03730f1542",
   "metadata": {
    "slideshow": {
     "slide_type": "slide"
    },
    "tags": []
   },
   "source": [
    "# Set\n",
    "\n",
    "Set adalah sebuah struktur data dalam Python yang **tidak terurut** (*unordered*), *immutable*, dan setiap elemennya unik. Oleh karena setiap elemen dalam `set` adalah unik, maka tidak ada duplikat di dalamny, meskipun kita \"dengan sengaja\" mendefinisikan `set` dengan nilai duplikat."
   ]
  },
  {
   "cell_type": "markdown",
   "id": "005f9312-921b-4840-81bf-55cab28a64d2",
   "metadata": {
    "slideshow": {
     "slide_type": "slide"
    },
    "tags": []
   },
   "source": [
    "## Mendefinisikan Set dengan `{}`\n",
    "\n",
    "Cara pertama untuk mendefinisikan `set` adalah dengan mendaftarkan objek-objek yang memiliki nilai *hash* di dalam `{}` dan setiap elemennya dipisahkan dengan `,`."
   ]
  },
  {
   "cell_type": "code",
   "execution_count": null,
   "id": "1797fcbc-4b5e-4590-98c5-f0072be90398",
   "metadata": {},
   "outputs": [],
   "source": [
    "set_is_unique = {1, 2, 3, 4, 4, 5, 1, \"Stuart\"}  # akan menghasilkan {1, 2, 3, 4, 5}\n",
    "list_isnt_unique = [1, 2, 3, 4, 4, 5, 1]\n",
    "string_in_set = {\"Bob\", \"Michael\", \"Kevin\", \"Stuart\", \"Bob\", \"Stuart\", 3}\n",
    "\n",
    "print(list_isnt_unique)\n",
    "print(set_is_unique, type(set_is_unique))\n",
    "print(string_in_set, type(string_in_set))"
   ]
  },
  {
   "cell_type": "code",
   "execution_count": null,
   "id": "ff8e97b8-2a05-4a11-a5cf-4bae229e981c",
   "metadata": {},
   "outputs": [],
   "source": [
    "set_is_unique[0]"
   ]
  },
  {
   "cell_type": "code",
   "execution_count": null,
   "id": "d493def7-3637-4b1d-91c3-21f85db68cdc",
   "metadata": {},
   "outputs": [],
   "source": [
    "set_of_list = {[1, 2, 3], [1, 2, 4], [2, 4, 1], [1, 2, 4]}\n",
    "print(set_of_list)"
   ]
  },
  {
   "cell_type": "markdown",
   "id": "e3b25f48-d5b7-422e-8c52-89b089fc085b",
   "metadata": {
    "slideshow": {
     "slide_type": "subslide"
    },
    "tags": []
   },
   "source": [
    "Tipe data `set` merepresentasikan arti sebenarnya, yaitu **himpunan**. Di matematika, kita mengenal ciri-ciri himpunan dan juga operasi yang melibatkan himpunan, seperti irisan, gabungan, dan lainnya.\n",
    "\n",
    "<div align=\"middle\">\n",
    "<img src=\"../../../assets/images/set-illustration.png\" width=\"50%\">\n",
    "</div>\n",
    "\n",
    "Untuk mendukung operasi tersebut, Python sudah menyediakan beberapa fungsi dan metode bawaan. Silakan baca dokumentasi Python [ini](https://docs.python.org/3.8/library/stdtypes.html#set-types-set-frozenset). Mari kita coba implementasikan beberapa pada kuis berikut."
   ]
  },
  {
   "cell_type": "markdown",
   "id": "5d55a15c-d57c-4f36-bf3f-3120ce476e1f",
   "metadata": {
    "slideshow": {
     "slide_type": "subslide"
    },
    "tags": []
   },
   "source": [
    "> **Kuis:**\n",
    "Menggunakan fungsi dan metode bawaan untuk `set`, jawab/implementasikan soal di bawah ini:\n",
    "> 1. Definisikan 2 set menurut gambar di atas, dengan nama variabel `female_names` (kiri) dan `male_names` (kanan).\n",
    "2. Tampilkan 2 variabel tersebut dan jumlah masing-masing elemen.\n",
    "3. Buat variabel `all_names` yang berisikan semua nama gabungan dari `female_names` dan `male_names`.\n",
    "4. Buat variabel `female_male_names` yang memuat nama yang bisa termasuk dalam dua himpunan tersebut.\n",
    "5. Buat variabel `only_females` dan `only_males` yang memuat nama-nama dalam `female_names` yang tidak ada dalam `male_names` dan sebaliknya, secara beruturut-turut."
   ]
  },
  {
   "cell_type": "code",
   "execution_count": null,
   "id": "4bcbca9c-0ca3-4c52-8e9a-aecc1286e11a",
   "metadata": {},
   "outputs": [],
   "source": [
    "# KETIK DI SINI\n",
    "female_names = {\"Sue\", \"Mary\", \"Kate\", \"Lee\"}\n",
    "male_names = {\"Eric\", \"Lee\", \"Tom\", \"Adam\"}\n",
    "print(\"female names:\", female_names)\n",
    "print(\"male names:\", male_names)\n",
    "\n",
    "all_names = female_names.union(male_names)\n",
    "print(\"all unique names:\", all_names)\n",
    "\n",
    "female_male_names = female_names.intersection(male_names)\n",
    "print(female_male_names)"
   ]
  },
  {
   "cell_type": "code",
   "execution_count": null,
   "id": "2ed501fb-8291-4854-9090-67c04b154669",
   "metadata": {},
   "outputs": [],
   "source": [
    "print(female_names - male_names)\n",
    "print(male_names - female_names)"
   ]
  },
  {
   "cell_type": "markdown",
   "id": "b6cb2053-80e8-4eea-a345-b7c7b3faed2e",
   "metadata": {
    "slideshow": {
     "slide_type": "slide"
    },
    "tags": []
   },
   "source": [
    "## Mendefinisikan Set dengan Fungsi `set()`\n",
    "\n",
    "Sama dengan `tuple` dan `list`, untuk mendefinisikan set, Python menyediakan fungsi bawaan `set()` yang bisa digunakan untuk mendefinisikan set kosong (*empty set*) dan mengonversi objek dengan tipe data lain menjadi set.\n",
    "\n",
    "Mari kita coba implementasi kode di bawah ini.\n",
    "\n",
    "```python\n",
    "empty_set = set()\n",
    "purchased_history = [\"batman\", \"robin\", \"iron man\", \"robin\", \"captain america\",\n",
    "                     \"iron man\", \"iron man\", \"superman\", \"batman\", \"superman\"]\n",
    "unique_purchased = set(purchased_history)\n",
    "```"
   ]
  },
  {
   "cell_type": "code",
   "execution_count": null,
   "id": "80761a5a-e4fd-46e1-abe1-beb818c383c0",
   "metadata": {},
   "outputs": [],
   "source": [
    "empty_set = set()\n",
    "purchased_history = [\"batman\", \"robin\", \"iron man\", \"robin\", \"captain america\",\n",
    "                     \"iron man\", \"iron man\", \"superman\", \"batman\", \"superman\"]\n",
    "unique_purchased = set(purchased_history)\n",
    "print(purchased_history)\n",
    "print(unique_purchased)"
   ]
  }
 ],
 "metadata": {
  "kernelspec": {
   "display_name": "Python 3 (ipykernel)",
   "language": "python",
   "name": "python3"
  },
  "language_info": {
   "codemirror_mode": {
    "name": "ipython",
    "version": 3
   },
   "file_extension": ".py",
   "mimetype": "text/x-python",
   "name": "python",
   "nbconvert_exporter": "python",
   "pygments_lexer": "ipython3",
   "version": "3.9.5"
  }
 },
 "nbformat": 4,
 "nbformat_minor": 5
}
