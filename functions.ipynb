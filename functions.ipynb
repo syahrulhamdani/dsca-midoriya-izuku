{
 "cells": [
  {
   "cell_type": "markdown",
   "id": "62e870dd-938f-4013-bbc3-f853d5c0c028",
   "metadata": {
    "slideshow": {
     "slide_type": "slide"
    },
    "tags": []
   },
   "source": [
    "# Fungsi\n",
    "\n",
    "Fungsi adalah salah satu cara untuk **mengelompokkan dan mengorganisir** kode menjadi **bagian-bagian yang lebih mudah untuk di kelola**. Kode-kode yang memiliki alur dan tujuan yang sama dikelompokkan agar bisa digunakan kembali tanpa menulis ulang.\n",
    "\n",
    "Kita bisa anggap sebuah fungsi sebagai **kumpulan kode yang bekerja untuk suatu tugas tertentu yang bisa menerima *input* apapun jenisnya dan berapapun jumlahnya, serta mengembalikan *output* apapun jenisnya dan berapapun jumlahnya**."
   ]
  },
  {
   "cell_type": "markdown",
   "id": "a18eec58-f50d-4812-9b78-d40dfe765ffb",
   "metadata": {
    "slideshow": {
     "slide_type": "slide"
    },
    "tags": []
   },
   "source": [
    "## Mendefinisikan Fungsi dengan `def`\n",
    "\n",
    "Untuk mendefinisikan fungsi, kita mulai dengan kata kunci `def`, diikuti oleh **nama fungsi** (aturan penamaan sama dengan variabel), tanda kurung (`()`) yang berisikan nol atau lebih parameter masukan yang diperlukan fungsi tersebut, dan diakhiri dengan `:`.\n",
    "\n",
    "```python\n",
    "def do_nothing():\n",
    "    pass\n",
    "```\n",
    "\n",
    "> Pernyataan `pass` pada Python digunakan sebagai penampung atau *placeholder* untuk kode nantinya. Ketika dieksekusi, `pass` tidak melakukan apa-apa, tapi kode tetap berjalan tanpa eror kekosongan kode, karena kode kosong (*empty code*) tidak diperbolehkan dalam sebuah perulangan, pendefinisian fungsi, pendefinisan kelas (*class*), atau pernyataan kondisional `if`."
   ]
  },
  {
   "cell_type": "code",
   "execution_count": null,
   "id": "689c2187-63dc-4d33-a6fa-77a01d86ab5a",
   "metadata": {},
   "outputs": [],
   "source": [
    "def do_nothing():\n",
    "    pass"
   ]
  },
  {
   "cell_type": "markdown",
   "id": "8027e16a-4261-4272-a66b-fb2ab6ab3732",
   "metadata": {
    "slideshow": {
     "slide_type": "subslide"
    },
    "tags": []
   },
   "source": [
    "### Pemanggilan Fungsi\n",
    "\n",
    "Fungsi yang sudah didefinisikan dapat digunakan dengan cara memanggilnya dengan menuliskan nama fungsi, diikuti dengan tanda kurung, dan menyediakan parameter masukan sesuai dengan yang dibutuhkan oleh fungsi tersebut (jika diperlukan)"
   ]
  },
  {
   "cell_type": "code",
   "execution_count": null,
   "id": "64055a4f-383c-41a4-ab81-789bd5a26753",
   "metadata": {},
   "outputs": [],
   "source": [
    "print(type(do_nothing))"
   ]
  },
  {
   "cell_type": "code",
   "execution_count": null,
   "id": "bf35fbed-df40-4a79-986e-c983e97a4dfc",
   "metadata": {},
   "outputs": [],
   "source": [
    "do_nothing()"
   ]
  },
  {
   "cell_type": "markdown",
   "id": "d86e01d8-3735-476e-9ace-c4f66f0cd7ce",
   "metadata": {
    "slideshow": {
     "slide_type": "slide"
    },
    "tags": []
   },
   "source": [
    "Sekarang, kita coba buat fungsi baru yang masih tidak memerlukan parameter masukan, tapi akan menampilkan suatu string dengan fungsi `print`."
   ]
  },
  {
   "cell_type": "code",
   "execution_count": null,
   "id": "8bc67b2d-1729-492c-a6e6-54d02ac175e4",
   "metadata": {},
   "outputs": [],
   "source": [
    "def make_sound():\n",
    "    print(\"moo..\")"
   ]
  },
  {
   "cell_type": "code",
   "execution_count": null,
   "id": "b1e90b9f-ab30-4d66-b8f6-84a1f6c2c793",
   "metadata": {
    "slideshow": {
     "slide_type": "subslide"
    },
    "tags": []
   },
   "outputs": [],
   "source": [
    "make_sound()"
   ]
  },
  {
   "cell_type": "code",
   "execution_count": null,
   "id": "65baef7a-716d-4570-98b3-ea38dc010443",
   "metadata": {},
   "outputs": [],
   "source": [
    "make_sound()\n",
    "make_sound()\n",
    "make_sound()"
   ]
  },
  {
   "cell_type": "code",
   "execution_count": null,
   "id": "03e3ff35-fdcf-463a-b3be-738153c6f32f",
   "metadata": {},
   "outputs": [],
   "source": [
    "10"
   ]
  },
  {
   "cell_type": "code",
   "execution_count": null,
   "id": "e8ff4005-ba5f-4e11-adbf-07935ecda8b3",
   "metadata": {},
   "outputs": [],
   "source": [
    "print(10)"
   ]
  },
  {
   "cell_type": "markdown",
   "id": "1447ea65-5288-4979-ae40-d7ab1c268027",
   "metadata": {
    "slideshow": {
     "slide_type": "slide"
    },
    "tags": []
   },
   "source": [
    "Fungsi `make_sound` yang sudah didefinisikan, jika dipanggil, akan menampilkan string `\"moo..\"` sesuai dengan blok kode di dalamnya.\n",
    "\n",
    "### Pernyataan `return` pada Fungsi\n",
    "\n",
    "Sekarang, kita coba buat fungsi yang mengembalikan sebuah nilai `True` seperti di bawah ini."
   ]
  },
  {
   "cell_type": "code",
   "execution_count": null,
   "id": "87999e4f-4ce0-49f2-9e0c-3482bad7b459",
   "metadata": {},
   "outputs": [],
   "source": [
    "def agree():\n",
    "    return True"
   ]
  },
  {
   "cell_type": "code",
   "execution_count": null,
   "id": "2c5933a8-b51d-4916-8bc6-1fddad5d2728",
   "metadata": {},
   "outputs": [],
   "source": [
    "def print_true():\n",
    "    print(True)"
   ]
  },
  {
   "cell_type": "code",
   "execution_count": null,
   "id": "aab7fd0d-9ad5-4ec6-bff2-c736cf5883b8",
   "metadata": {
    "tags": []
   },
   "outputs": [],
   "source": [
    "agree()"
   ]
  },
  {
   "cell_type": "markdown",
   "id": "9faaceee-ae36-40a3-8e37-5e609c965bd3",
   "metadata": {
    "slideshow": {
     "slide_type": "subslide"
    },
    "tags": []
   },
   "source": [
    "Suatu fungsi yang memiliki pernyataan `return`, akan **mengembalikan sebuah nilai keluaran ke pernyataan yang memanggilnya**. Jika kita ingin mengembalikan lebih dari satu nilai dari suatu fungsi, maka kita bisa tulis nilai-nilai tersebut dan dipisahkan dengan `,`, seperti `return value1, value2`.\n",
    "\n",
    "> Suatu fungsi yang tidak memiliki pernyataan `return`, seperti pada fungsi `do_nothing` ataupun `make_sound`, maka nilai balikannya adalah `None`."
   ]
  },
  {
   "cell_type": "code",
   "execution_count": null,
   "id": "bdad419c-0c9b-4d30-87c3-a5ce6ddc7261",
   "metadata": {},
   "outputs": [],
   "source": [
    "def return_none():\n",
    "    return"
   ]
  },
  {
   "cell_type": "code",
   "execution_count": null,
   "id": "cd69934a-3ed3-4c57-a938-dbd516c9fc50",
   "metadata": {},
   "outputs": [],
   "source": [
    "sound = make_sound()\n",
    "is_agree = agree()\n",
    "none_value = return_none()"
   ]
  },
  {
   "cell_type": "markdown",
   "id": "5434e85f-0dbc-49c2-a89a-9b2a364564c4",
   "metadata": {},
   "source": [
    "Setelah kita jalankan cell di atas, kita mendapatkan tampilan `moo..` yang berasal dari fungsi `make_sound`. Sedangkan, variabel `is_agree` tidak menampilkan apa-apa. Ini sama halnya saat kita mendefinisikan variabel sebelumnya, kita hanya memberikan nilai pada variabel."
   ]
  },
  {
   "cell_type": "code",
   "execution_count": null,
   "id": "fa110b15-d5f9-40ad-878a-4113a3c434f2",
   "metadata": {},
   "outputs": [],
   "source": [
    "print(sound)\n",
    "print(none_value)\n",
    "print(is_agree)"
   ]
  },
  {
   "cell_type": "markdown",
   "id": "84824f4e-cd60-4af9-9bcf-71e638deeec9",
   "metadata": {
    "slideshow": {
     "slide_type": "subslide"
    },
    "tags": []
   },
   "source": [
    "Karena fungsi `agree` mengembalikan nilai boolean, maka kita bisa gunakan fungsi tersebut sebagai kondisi dalam `if`."
   ]
  },
  {
   "cell_type": "code",
   "execution_count": null,
   "id": "961664fb-6a9e-4560-b676-556acd3dfd11",
   "metadata": {},
   "outputs": [],
   "source": [
    "if agree():\n",
    "    print(\"Awesome!\")\n",
    "else:\n",
    "    print(\"Very unexpected..\")"
   ]
  },
  {
   "cell_type": "code",
   "execution_count": null,
   "id": "523a4583-299e-400a-8be9-b4fc7b9a8d48",
   "metadata": {},
   "outputs": [],
   "source": [
    "bool(None)"
   ]
  },
  {
   "cell_type": "code",
   "execution_count": null,
   "id": "1a0c3e98-510c-45d9-8873-a5cf637ac4b9",
   "metadata": {},
   "outputs": [],
   "source": [
    "if print_true():\n",
    "    print(\"Awesome!\")\n",
    "else:\n",
    "    print(\"Very unexpected..\")"
   ]
  },
  {
   "cell_type": "markdown",
   "id": "e33aed50-b18d-4eb8-89d4-c2bc9d2f6f00",
   "metadata": {
    "slideshow": {
     "slide_type": "slide"
    },
    "tags": []
   },
   "source": [
    "### Fungsi dengan Parameter Masukan\n",
    "\n",
    "Misalkan kita ingin membuat sebuah fungsi, yang bisa gunakan berkali-kali, untuk menghitung volume sebuah silinder. Ada beberapa hal yang harus kita ketahui terlebih dahulu:\n",
    "1. Nilai $\\Pi$\n",
    "2. Tinggi silinder\n",
    "3. Jari-jari silinder\n",
    "\n",
    "Ingat bahwa persamaan volume silinder adalah\n",
    "\n",
    "$$\n",
    "V = \\Pi \\cdot r^2 \\cdot h\n",
    "$$"
   ]
  },
  {
   "cell_type": "code",
   "execution_count": null,
   "id": "b74b829a-de91-4cb5-a744-2005679ae906",
   "metadata": {},
   "outputs": [],
   "source": [
    "def cylinder_volume(radius, height):\n",
    "    pi = 3.14\n",
    "    return pi * height * radius**2"
   ]
  },
  {
   "cell_type": "code",
   "execution_count": null,
   "id": "c9ed8437-5b05-4379-8c28-04d3305402ac",
   "metadata": {
    "tags": []
   },
   "outputs": [],
   "source": [
    "volume = cylinder_volume(3, 10)\n",
    "print(\"Cylinder volume:\", volume)"
   ]
  },
  {
   "cell_type": "code",
   "execution_count": null,
   "id": "d68d6321-82d2-4859-8ab4-f8fece11e3b6",
   "metadata": {},
   "outputs": [],
   "source": [
    "print(\"Cylinder volume:\", cylinder_volume(1, 1))\n",
    "print(\"Cylinder volume:\", cylinder_volume(1, 2))\n",
    "print(\"Cylinder volume:\", cylinder_volume(10, 10))"
   ]
  },
  {
   "cell_type": "markdown",
   "id": "796b9199-a07a-4ae5-9c90-1213c5acb67b",
   "metadata": {
    "slideshow": {
     "slide_type": "slide"
    },
    "tags": []
   },
   "source": [
    "> **Kuis:** Buatlah sebuah fungsi `commentary` yang menerima masukan dalam parameter `color` dan mengembalikan string tertentu sesuai dengan nilai `color` pada tabel di bawah ini.\n",
    ">\n",
    "> | color | comment |\n",
    "| --- | --- |\n",
    "| red | It's a tomato |\n",
    "| green | It's a green pepper |\n",
    "| bees | I don't know what it is, but looks like a bee |\n",
    ">\n",
    "> Jika nilai `color` tidak tersedia dalam tabel di atas, kembalikan string dengan pola di bawah ini\n",
    ">\n",
    ">```python\n",
    "\"I've never heard of the color\" + color + \"before\"\n",
    "```"
   ]
  },
  {
   "cell_type": "code",
   "execution_count": null,
   "id": "0c845d1e-27f7-45e4-bb59-e8be5dd72f6f",
   "metadata": {},
   "outputs": [],
   "source": [
    "def direct_return():\n",
    "    print(\"Returning something\")\n",
    "    return \"something\"\n",
    "    print(\"Done returning something\")\n",
    "\n",
    "direct_return()"
   ]
  },
  {
   "cell_type": "code",
   "execution_count": null,
   "id": "2b48e149-86a3-42a7-8e14-8bf60a717f16",
   "metadata": {},
   "outputs": [],
   "source": [
    "def commentary(color):\n",
    "    # KETIK DI SINI\n",
    "    if color == \"red\":\n",
    "        return \"It's a tomato\"\n",
    "\n",
    "    if color == \"green\":\n",
    "        return \"It's a green pepper\"\n",
    "\n",
    "    if color == \"bees\":\n",
    "        return \"I don't know what it is, but looks like a bee\"\n",
    "\n",
    "    return \"I've never heard of the color \" + color + \" before\""
   ]
  },
  {
   "cell_type": "code",
   "execution_count": null,
   "id": "11f3bdb5-441e-4762-a27d-b747a147e9ad",
   "metadata": {},
   "outputs": [],
   "source": [
    "def say_hi(name):\n",
    "    return \"Hi, \" + name + \"!\""
   ]
  },
  {
   "cell_type": "code",
   "execution_count": null,
   "id": "b942be33-308b-4e18-a696-2862c533a33e",
   "metadata": {},
   "outputs": [],
   "source": [
    "say_hi(\"data science\")"
   ]
  },
  {
   "cell_type": "code",
   "execution_count": null,
   "id": "99141504-ff89-48ba-a272-430f3828a436",
   "metadata": {},
   "outputs": [],
   "source": [
    "# color = \"green\"\n",
    "\n",
    "# if color == \"red\":\n",
    "#     comment = \"It's a tomato\"\n",
    "# if color == \"green\":\n",
    "#     comment = \"It's a green pepper\"\n",
    "# if color == \"bees\":\n",
    "#     comment = \"I don't know what it is, but looks like a bee\"\n",
    "\n",
    "# comment = \"I've never heard of the color \" + color + \" before\"\n",
    "\n",
    "# print(comment)"
   ]
  },
  {
   "cell_type": "code",
   "execution_count": null,
   "id": "0a2f6377-6594-4398-a190-87bddf238320",
   "metadata": {},
   "outputs": [],
   "source": [
    "commentary(\"python\")"
   ]
  },
  {
   "cell_type": "markdown",
   "id": "405d4868-fe2e-45e3-b550-20d976c1ceef",
   "metadata": {
    "slideshow": {
     "slide_type": "slide"
    },
    "tags": []
   },
   "source": [
    "## Argumen dan Parameter\n",
    "\n",
    "Argumen dan parameter beberapa kali disebut pada penjelasan di atas. Kedua istilah ini seringkali disebut untuk mengacu pada hal yang sama, meskipun argumen berbeda dengan parameter. Fungsi `cylinder_volume` sebelumnya memiliki **2 parameter**, `height` dan `radius`. Saat `cylinder_volume` dipanggil, kita menyediakkan **2 argumen**, `10` dan `3` untuk `radius` dan `height` secara berturut-turut.\n",
    "\n",
    "> *Saying it another way: they're called __arguments__ ouside of the function, but __parameters__ inside.*"
   ]
  },
  {
   "cell_type": "code",
   "execution_count": null,
   "id": "766ba76b-c93d-4866-9b33-5085dabc7a62",
   "metadata": {},
   "outputs": [],
   "source": [
    "r = 1    # positional argument for radius\n",
    "h = 2    # positional argument for height\n",
    "\n",
    "V = cylinder_volume(r, h)\n",
    "print(V)"
   ]
  },
  {
   "cell_type": "code",
   "execution_count": null,
   "id": "846fe0aa-f326-4682-af9d-c4042cc0e508",
   "metadata": {},
   "outputs": [],
   "source": [
    "def echo(anything):\n",
    "    return anything + \" \" + anything"
   ]
  },
  {
   "cell_type": "code",
   "execution_count": null,
   "id": "f3d56646-8d81-44f3-8c5c-70f2c496ffdd",
   "metadata": {},
   "outputs": [],
   "source": [
    "text = \"python\"\n",
    "echo(text)"
   ]
  },
  {
   "cell_type": "markdown",
   "id": "778ffe2e-f9e1-44b9-bb6b-8f874cd30f24",
   "metadata": {
    "slideshow": {
     "slide_type": "subslide"
    },
    "tags": []
   },
   "source": [
    "Jika kita memasukkan sejumlah argumen yang kurang atau lebih dari jumlah parameter yang seharusnya fungsi tersebut butuhkan, maka kita akan mendapatkan eror `TypeError` yang memberi tahu kita bahwa ada kesalahan dalam memasukkan argumen. Perhatikan contoh kode di bawah ini."
   ]
  },
  {
   "cell_type": "code",
   "execution_count": null,
   "id": "8b7ba820-e509-4300-9814-a7cbd36a2382",
   "metadata": {},
   "outputs": [],
   "source": [
    "cylinder_volume(10)"
   ]
  },
  {
   "cell_type": "code",
   "execution_count": null,
   "id": "df2439d9-1490-4e89-98c5-fe904c82749e",
   "metadata": {},
   "outputs": [],
   "source": [
    "echo(100, 200)"
   ]
  },
  {
   "cell_type": "markdown",
   "id": "c2404321-a527-47f2-a2be-e4b0bed97ae5",
   "metadata": {
    "slideshow": {
     "slide_type": "slide"
    },
    "tags": []
   },
   "source": [
    "### Menyediakan Argumen berdasarkan Posisi\n",
    "\n",
    "Nilai yang kita masukkan saat pemanggilan `cylinder_volume` akan disimpan ke masing-masing parameter sesuai dengan **posisinya**. Artinya, `cylinder_volume(10, 3)` akan menugaskan `radius=10` dan `height=3`, sesuai dengan posisi parameter saat pendefinisian fungsi `def cylinder_volume(radius, height)`. Jika kita balik argumennya dan memanggil dengan `cylinder_volume(3, 10)`, maka sekarang nilai `10` dan `3` akan disimpan pada parameter `height` dan `radius` secara berturut-turut.\n",
    "\n",
    "> Nilai atau ekspresi yang kita memasukkan argumen ke dalam sebuah fungsi apa adanya (hanya berupa nilai/ekspresi) disebut sebagai ***positional argument***. Kita bisa bilang bahwa `radius` dan `height` diberikan *positional arguments* saat kita memanggilnya dengan `cylinder_volume`."
   ]
  },
  {
   "cell_type": "markdown",
   "id": "d3021e93-f469-4e46-a0d2-22b8a73a38f2",
   "metadata": {
    "slideshow": {
     "slide_type": "slide"
    },
    "tags": []
   },
   "source": [
    "### Menyediakan Argumen berdasarkan Nama Parameter\n",
    "\n",
    "Jika kita memasukkan nilai saat pemanggilan suatu fungsi dengan juga menyediakan nama parameternya secara eksplisit, maka urutan posisi argumen mana yang disimpan dalam parameter yang mana tidak lagi berlaku.\n",
    "\n",
    "Fungsi di bawah ini akan mengembalikan sebuah boolean `True` jika dan hanya jika nilai `x` berada di dalam interval $[lower, upper]$ dan `False` jika sebaliknya."
   ]
  },
  {
   "cell_type": "code",
   "execution_count": null,
   "id": "a656f038-0301-4ea2-af01-8672d7e1cf05",
   "metadata": {},
   "outputs": [],
   "source": [
    "def is_bounded(x, lower, upper):\n",
    "    print(\"{} <= {} <= {}\".format(lower, x, upper))\n",
    "    return lower <= x <= upper"
   ]
  },
  {
   "cell_type": "code",
   "execution_count": null,
   "id": "321875c1-5323-4e71-85dc-587460f2b154",
   "metadata": {},
   "outputs": [],
   "source": [
    "is_bounded(2, 3, 4)"
   ]
  },
  {
   "cell_type": "code",
   "execution_count": null,
   "id": "39e70b53-b585-40ae-af78-c584d850b574",
   "metadata": {},
   "outputs": [],
   "source": [
    "is_bounded(5, 1, 10)"
   ]
  },
  {
   "cell_type": "code",
   "execution_count": null,
   "id": "e2dc2929-c11e-40c8-986f-2b0cbedd4e4c",
   "metadata": {},
   "outputs": [],
   "source": [
    "is_bounded(1, 5, 10)"
   ]
  },
  {
   "cell_type": "code",
   "execution_count": null,
   "id": "840eeb13-b29c-410d-9633-057badfafb5f",
   "metadata": {},
   "outputs": [],
   "source": [
    "is_bounded(2, 3, 4)"
   ]
  },
  {
   "cell_type": "code",
   "execution_count": null,
   "id": "9dfc497b-3131-4751-a519-63c62132a1a7",
   "metadata": {},
   "outputs": [],
   "source": [
    "is_bounded(lower=2, x=3, upper=4)"
   ]
  },
  {
   "cell_type": "markdown",
   "id": "f347b954-7dfa-4a15-93fb-655229225939",
   "metadata": {
    "slideshow": {
     "slide_type": "subslide"
    },
    "tags": []
   },
   "source": [
    "Pemanggilan fungsi yang pertama, `is_bounded(2, 3, 4)`, menghasilkan nilai `False` karena `x=2`, `lower=3`, dan `upper=4`, sehingga `3 <= 2 <= 4` sama dengan `False`. Sedangkan, pada pemanggilan fungsi yang kedua,  argumen pertama `is_bounded` ditujukan untuk `lower` dengan menuliskan `lower=2`. Urutan parameter tidak berlaku di sini dan yang terpenting adalah semua parameter yang **dibutuhkan** fungsi ditentukan."
   ]
  },
  {
   "cell_type": "code",
   "execution_count": null,
   "id": "f8612947-ff9b-43da-930a-b2336a8fb44a",
   "metadata": {},
   "outputs": [],
   "source": [
    "# pernyataan di bawah ini semuanya ekuivalen\n",
    "print(is_bounded(3, 2, 4))\n",
    "print(is_bounded(upper=4, lower=2, x=3))\n",
    "print(is_bounded(upper=4, x=3, lower=2))"
   ]
  },
  {
   "cell_type": "markdown",
   "id": "f5631b9a-e1d6-40fa-87da-cf9651cff315",
   "metadata": {},
   "source": [
    "Pemberian argumen dengan cara seperti ini disebut dengan ***keyword argument***, yaitu pemberian argumen dengan *keyword* parameter yang dituju. *Keyword argument* adalah sebuah argumen yang didahului oleh pengindentifikasi (misal `name=`) dalam sebuah pemanggilan fungsi."
   ]
  },
  {
   "cell_type": "markdown",
   "id": "b52f09c7-ae95-4645-b7b0-a79c101720ca",
   "metadata": {
    "slideshow": {
     "slide_type": "slide"
    },
    "tags": []
   },
   "source": [
    "> **Kuis:**\n",
    ">\n",
    "> Buatlah sebuah fungsi `readable_timedelta` yang menerima satu masukan `days`, dan mengembalikan sebuah string yang menyatakan berapa minggu dan berapa hari nilai `days` tersebut. Sebagai contoh, penggunaan fungsi di bawah ini\n",
    ">\n",
    "> ```python\n",
    "> readable_timedelta(10)\n",
    "> ```\n",
    ">\n",
    "> <br>akan mengembalikan\n",
    ">\n",
    "> ```python\n",
    "\"1 week(s) and 3 day(s)\"\n",
    "```"
   ]
  },
  {
   "cell_type": "code",
   "execution_count": null,
   "id": "5d537cc3-e36b-4dd6-97e0-327917487012",
   "metadata": {},
   "outputs": [],
   "source": [
    "# KETIK DI SINI\n",
    "def readable_timedelta(days):\n",
    "    pass"
   ]
  },
  {
   "cell_type": "code",
   "execution_count": null,
   "id": "a8b44f32-106c-4ea1-b0b7-a8ae7a151907",
   "metadata": {},
   "outputs": [],
   "source": [
    "readable_timedelta(10)"
   ]
  },
  {
   "cell_type": "markdown",
   "id": "61f5eb65-0bb1-49c2-af5c-630e6677193a",
   "metadata": {
    "slideshow": {
     "slide_type": "slide"
    },
    "tags": []
   },
   "source": [
    "Tidak semua argumen harus disediakan dengan *keyword argument*. Kita juga bisa menggabungkan *positional argument* dengan *keyword argment* seperti di bawah ini.\n",
    "\n",
    "> Jika kita sudah memberikan argumen dalam bentuk *keyword argument*, maka argumen-argumen setelahnya juga harus dalam *keyword argument*. Jika setelah *keyword argument* kita memberikan argumen sebagai *positional argument*, maka akan memunculkan eror `SyntaxError`."
   ]
  },
  {
   "cell_type": "code",
   "execution_count": null,
   "id": "3cc7a32b-dcc0-4e02-8b01-691b07b4d259",
   "metadata": {},
   "outputs": [],
   "source": [
    "is_bounded(3, lower=2, upper=4)"
   ]
  },
  {
   "cell_type": "code",
   "execution_count": null,
   "id": "675d00a2-d710-4d35-b1a1-1511c9fe1327",
   "metadata": {},
   "outputs": [],
   "source": [
    "is_bounded(3, upper=3, 2)"
   ]
  },
  {
   "cell_type": "code",
   "execution_count": null,
   "id": "600d096f-5802-433a-9134-1b6ef598303e",
   "metadata": {},
   "outputs": [],
   "source": [
    "is_bounded(2, 3, upper=4)"
   ]
  },
  {
   "cell_type": "code",
   "execution_count": null,
   "id": "119186e4-b5f6-42f9-b1d8-e93b62855528",
   "metadata": {},
   "outputs": [],
   "source": [
    "is_bounded(2, lower=3, upper=4)"
   ]
  },
  {
   "cell_type": "markdown",
   "id": "04879fcd-40a1-4d62-80f8-77cc8f04d8ef",
   "metadata": {},
   "source": [
    "Potongan kode di atas berarti kita menyediakan argumen `3` sebagai *positional argument* sehingga akan ditempatkan sesuai dengan posisi pertama parameter fungsi, yaitu `x`. Sedangkan, argumen `2` dan `3` sebagai *keyword argument* yang tidak dipengaruhi oleh posisi parameter."
   ]
  },
  {
   "cell_type": "markdown",
   "id": "d56ee95d-e707-4fdd-8fe9-1a4463100388",
   "metadata": {
    "slideshow": {
     "slide_type": "slide"
    },
    "tags": []
   },
   "source": [
    "### Argumen dengan Nilai Default\n",
    "\n",
    "Kita bisa menyediakan nilai default parameter saat pendefinisian fungsi. Nilai default ini akan dipakai jika fungsi dipanggil **tanpa menyediakan argumen** untuk parameter tersebut atau memang ingin **menggunakan nilai default**."
   ]
  },
  {
   "cell_type": "code",
   "execution_count": null,
   "id": "13e97509-9203-4046-b2ac-381d967c3c40",
   "metadata": {},
   "outputs": [],
   "source": [
    "# lower -> optional argument\n",
    "# upper -> optional argument\n",
    "# x -> required positional argument\n",
    "def is_bounded(x, lower=0, upper=10):\n",
    "    print(\"{} <= {} <= {}\".format(lower, x, upper))\n",
    "    return lower <= x <= upper"
   ]
  },
  {
   "cell_type": "code",
   "execution_count": null,
   "id": "cdd0684c-74ec-469d-8e7a-a795a45b8c52",
   "metadata": {},
   "outputs": [],
   "source": [
    "is_bounded(2)"
   ]
  },
  {
   "cell_type": "code",
   "execution_count": null,
   "id": "3ad58005-1414-4334-8f14-0c1a2133943e",
   "metadata": {},
   "outputs": [],
   "source": [
    "is_bounded(8)"
   ]
  },
  {
   "cell_type": "markdown",
   "id": "98dd08ac-e978-45f1-818c-30ce170c64e6",
   "metadata": {
    "slideshow": {
     "slide_type": "subslide"
    },
    "tags": []
   },
   "source": [
    "Tentu saja, jika kita ingin menggunakan interval yang berbeda, kita bisa memberikan argumen sendiri yang akan mengganti argumen default fungsi."
   ]
  },
  {
   "cell_type": "code",
   "execution_count": null,
   "id": "549a50d6-1376-441e-be50-93e2a826952f",
   "metadata": {},
   "outputs": [],
   "source": [
    "is_bounded(2, upper=1)"
   ]
  },
  {
   "cell_type": "code",
   "execution_count": null,
   "id": "84defcf9-f5be-45cf-b8f0-bebb496bf423",
   "metadata": {},
   "outputs": [],
   "source": [
    "is_bounded(2, lower=5)"
   ]
  },
  {
   "cell_type": "code",
   "execution_count": null,
   "id": "81d458a6-94b0-411f-8a05-a59a449e0ba7",
   "metadata": {},
   "outputs": [],
   "source": [
    "print(is_bounded(5, 0, 1))\n",
    "print(is_bounded(x=5, lower=0, upper=1))"
   ]
  },
  {
   "cell_type": "markdown",
   "id": "3ae460b4-3be4-4f5b-9aa3-01400382eaee",
   "metadata": {
    "slideshow": {
     "slide_type": "subslide"
    },
    "tags": []
   },
   "source": [
    "Pendefinisian fungsi dengan argumen default pada parameter tidak boleh diikuti oleh *positional argument*, seperti di bawah ini. Definisi fungsi seperti itu akan memunculkan eror `SyntaxError`, sama dengan saat kita menyediakan *keyword argument* dan diikuti oleh *positional argument* sebelumya."
   ]
  },
  {
   "cell_type": "code",
   "execution_count": null,
   "id": "53365437-fe21-4ca4-afd7-23d1a9a9286b",
   "metadata": {},
   "outputs": [],
   "source": [
    "def is_bounded(x=1, lower=0, upper=10):\n",
    "    print(\"{} <= {} <= {}\".format(lower, x, upper))\n",
    "    return lower <= x <= upper"
   ]
  },
  {
   "cell_type": "code",
   "execution_count": null,
   "id": "da0e3eb3-add4-4424-a8c9-d243416fb0ed",
   "metadata": {},
   "outputs": [],
   "source": [
    "print(is_bounded())\n",
    "print(is_bounded(5))"
   ]
  },
  {
   "cell_type": "code",
   "execution_count": null,
   "id": "2e75a9d1-7966-4f42-963a-7f91bc1f1f71",
   "metadata": {},
   "outputs": [],
   "source": [
    "print(1, [2, 3], 4, 5, 6, \"ini\", \"juga\", \"tampil\")"
   ]
  },
  {
   "cell_type": "markdown",
   "id": "d55aaac4-d80d-4e31-8b2d-6bb677b12081",
   "metadata": {
    "slideshow": {
     "slide_type": "slide"
    },
    "tags": []
   },
   "source": [
    "### *Variable-length Positional Argument*\n",
    "\n",
    "Python membolehkan kita untuk menyediakan *positional argument* berapapun jumlahnya. Hal ini dapat dilakukan dengan mendefinisikan fungsi dengan parameter yang diawali oleh `*`.\n",
    "\n",
    "```python\n",
    "def func(*args):\n",
    "    return args\n",
    "```\n",
    "\n",
    "Dengan mengawali parameter dengan `*`, parameter `args` dalam fungsi di atas bisa menerima masukan argumen berapapun jumlahnya, mulai dari 0 sampai sebanyak apapun. Argumen-argumen yang dimasukkan dalam `func` dipisahkan dengan `,` layaknya kita memberi masukan untuk beberapa parameter."
   ]
  },
  {
   "cell_type": "code",
   "execution_count": null,
   "id": "84a920d1-becb-44d6-b0b6-3f378830f3e1",
   "metadata": {
    "slideshow": {
     "slide_type": "subslide"
    },
    "tags": []
   },
   "outputs": [],
   "source": [
    "def func(*args):\n",
    "    return args, type(args)"
   ]
  },
  {
   "cell_type": "code",
   "execution_count": null,
   "id": "5eea0d95-80e5-4d41-9681-d177f75e6977",
   "metadata": {},
   "outputs": [],
   "source": [
    "func()"
   ]
  },
  {
   "cell_type": "code",
   "execution_count": null,
   "id": "8aaccf8f-52a1-4936-8c03-570b4af6f894",
   "metadata": {},
   "outputs": [],
   "source": [
    "func(1, 2)"
   ]
  },
  {
   "cell_type": "code",
   "execution_count": null,
   "id": "4ab3408d-2e24-4ba5-af64-3bbbe126861c",
   "metadata": {},
   "outputs": [],
   "source": [
    "func(1, 3, 5, 7, \"done!\", \"bitlabs\", \"python\", \"machine learning\")"
   ]
  },
  {
   "cell_type": "code",
   "execution_count": null,
   "id": "1ce63559-064b-4098-a6e7-90430cdd3b47",
   "metadata": {},
   "outputs": [],
   "source": [
    "func([\"a\", \"list\"], (\"another\", \"tuple\"), True, False)"
   ]
  },
  {
   "cell_type": "markdown",
   "id": "e1b2b17a-69cf-44a3-89b8-7f33943050b6",
   "metadata": {
    "slideshow": {
     "slide_type": "subslide"
    },
    "tags": []
   },
   "source": [
    "> Penggunaan nama parameter `args` dalam *variable-length positional argument* adalah konvensi pada Python yang bertujuan untuk memberitahu pengembang bahwa argumen-argumen yang diberikan akan di bungkus bersamaan.\n",
    "\n",
    "Fitur ini juga bisa dikombinasikan dengan *positional argument* dan juga *keyword argument*."
   ]
  },
  {
   "cell_type": "code",
   "execution_count": null,
   "id": "eb40f0d8-0972-43ef-9754-753ceb41b01e",
   "metadata": {},
   "outputs": [],
   "source": [
    "def do_mean(prefix, *data, suffix, x, y):\n",
    "    print(\"prefix:\", prefix)\n",
    "    print(\"suffix:\", suffix)\n",
    "    print(\"x:\", x)\n",
    "    print(\"y:\", y)\n",
    "\n",
    "    if len(data):\n",
    "        return sum(data) / len(data)\n",
    "    return \"no data provided\""
   ]
  },
  {
   "cell_type": "code",
   "execution_count": null,
   "id": "f8239bf9-88dd-411d-9c0f-eb6a2876a8bd",
   "metadata": {},
   "outputs": [],
   "source": [
    "do_mean(100, 1, 2, 3, 4, 5, 6, 7, 8, 9, suffix=50, y=10, x=5)"
   ]
  },
  {
   "cell_type": "markdown",
   "id": "e06c7ba8-b377-4683-85f5-0e8690fee558",
   "metadata": {
    "slideshow": {
     "slide_type": "subslide"
    },
    "tags": []
   },
   "source": [
    "Perhatikan bahwa arugmen untuk `suffix` harus diberikan sebagai *keyword argument*. Jika tidak, maka Python akan kebingungan menentukan apakah argumen tersebut termasuk ke dalam `data` atau sudah ke dalam `suffix`. Oleh karena itu, kita akan mendapat eror `TypeError` seperti di bawah ini."
   ]
  },
  {
   "cell_type": "code",
   "execution_count": null,
   "id": "25628330-dcdb-4404-af96-36941c647416",
   "metadata": {},
   "outputs": [],
   "source": [
    "do_mean(1, 2, 3, 4)"
   ]
  },
  {
   "cell_type": "markdown",
   "id": "2819946d-c653-47f5-a6a2-ba4fc9b8bdbd",
   "metadata": {},
   "source": [
    "Karena `data` bisa menerima 0 argumen, maka `do_mean(1, suffix=2)` akan mengembalikan `\"no data provided\"` seperti cell di bawah ini."
   ]
  },
  {
   "cell_type": "code",
   "execution_count": null,
   "id": "a751c01b-73ca-4b4d-b8a9-8ebc0f3428ad",
   "metadata": {},
   "outputs": [],
   "source": [
    "do_mean(suffix=2, x=1, y=1, prefix=1)"
   ]
  },
  {
   "cell_type": "code",
   "execution_count": null,
   "id": "0264ef45-313b-4751-be94-c9a6549f61b8",
   "metadata": {},
   "outputs": [],
   "source": [
    "def extend(sequence, *args):\n",
    "    for arg in args:\n",
    "        sequence.append(arg)\n",
    "    return sequence"
   ]
  },
  {
   "cell_type": "code",
   "execution_count": null,
   "id": "988ae2cc-cacf-475b-98c4-8c84fd59ee3c",
   "metadata": {},
   "outputs": [],
   "source": [
    "names = [\"josh\", \"eric\", \"joe\"]\n",
    "extend(names, \"putra\", \"bangsa\", \"putri\", \"eko\", \"surya\")\n",
    "print(names)"
   ]
  },
  {
   "cell_type": "code",
   "execution_count": null,
   "id": "a2b996b1-2e0d-4070-b9c4-e907867dbd96",
   "metadata": {},
   "outputs": [],
   "source": [
    "names = [\"josh\", \"eric\", \"joe\"]\n",
    "extend(names, *[\"putra\", \"bangsa\", \"putri\"], *[\"eko\", \"surya\"])\n",
    "print(names)"
   ]
  },
  {
   "cell_type": "code",
   "execution_count": null,
   "id": "b5f24382-e290-4389-92ea-c4b32650c84e",
   "metadata": {},
   "outputs": [],
   "source": [
    "extend(names, 1, 2, 3)"
   ]
  },
  {
   "cell_type": "markdown",
   "id": "cf37e03f-4321-4fd8-bee8-0f1f81515762",
   "metadata": {
    "slideshow": {
     "slide_type": "slide"
    },
    "tags": []
   },
   "source": [
    "### *Variable-length Keyword Argument*\n",
    "\n",
    "Selain dengan *positional argument*, Python membolehkan kita untuk menyediakan *keyword argument* berapapun banyaknya dan apapun *keyword*-nya. Kita bisa melakukan ini dengan mengawali parameter dengan `**`.\n",
    "\n",
    "```python\n",
    "def func(**kwargs):\n",
    "    return kwargs\n",
    "```\n",
    "\n",
    "Berbeda dengan sebelumnya, argume-argumen tersebut sekarang memiliki parameter yang melekat, sehingga semuanya akan dibungkus ke dalam sebuah `dict`."
   ]
  },
  {
   "cell_type": "code",
   "execution_count": null,
   "id": "254daac4-1198-47b5-9c0b-ffd1bfc1fbfe",
   "metadata": {},
   "outputs": [],
   "source": [
    "def func(**kwargs):\n",
    "    return kwargs"
   ]
  },
  {
   "cell_type": "code",
   "execution_count": null,
   "id": "adf25e1f-9d41-4d14-8555-98e4fa49bb7a",
   "metadata": {},
   "outputs": [],
   "source": [
    "func(name=\"bitlabs\", rank=1, another=\"another\", whatever=\"whatever\", params=\"params\")"
   ]
  },
  {
   "cell_type": "code",
   "execution_count": null,
   "id": "c0bab72e-e99e-449f-abfc-dcf45fdb57f4",
   "metadata": {},
   "outputs": [],
   "source": [
    "func()"
   ]
  },
  {
   "cell_type": "markdown",
   "id": "44797181-fe0b-4e3b-a622-73a45486c966",
   "metadata": {
    "slideshow": {
     "slide_type": "subslide"
    },
    "tags": []
   },
   "source": [
    "Kita juga mengombinasikan fitur ini dengan jenis argumen yang sudah kita pelajari selama ini. Mari kita modifikasi sekali lagi fungsi `func` untuk mengakomodir eksperimen kita."
   ]
  },
  {
   "cell_type": "code",
   "execution_count": null,
   "id": "d1521afe-b38e-4298-b495-5343a7495289",
   "metadata": {},
   "outputs": [],
   "source": [
    "def func(x, y, *args, **kwargs):\n",
    "    print(\"x:\", x)\n",
    "    print(\"y:\", y)\n",
    "    print(\"args:\", args)\n",
    "    print(\"kwargs\", kwargs)"
   ]
  },
  {
   "cell_type": "code",
   "execution_count": null,
   "id": "7b6a9cb1-82aa-4745-b280-2e64cd473bf4",
   "metadata": {},
   "outputs": [],
   "source": [
    "func(1, 2, 3, 4, 5, 6, (9, 10), name=\"bitlabs\", year=2021)"
   ]
  },
  {
   "cell_type": "code",
   "execution_count": null,
   "id": "0a081239-1c08-4d00-9c1b-4bc83f3362e2",
   "metadata": {},
   "outputs": [],
   "source": [
    "func(1, y=2, name=\"data science\", language=\"python\")"
   ]
  },
  {
   "cell_type": "code",
   "execution_count": null,
   "id": "1b2e0365-ca1b-400e-845e-656866e2b6ba",
   "metadata": {},
   "outputs": [],
   "source": [
    "func(1, 2, 3, 4, args=10, name=\"data science\", language=\"python\")"
   ]
  },
  {
   "cell_type": "code",
   "execution_count": null,
   "id": "566b54e4-fdec-4f27-b332-20b2af73c00c",
   "metadata": {},
   "outputs": [],
   "source": [
    "extend(names, 10)"
   ]
  },
  {
   "cell_type": "markdown",
   "id": "b093b010-f02f-4de6-ba41-bfb8ea788c50",
   "metadata": {},
   "source": [
    "> Python mengutamakan *readability* yang berarti kode yang ditulis haruslah mudah dibaca dan dipahami, baik bagi pengembang, pengguna, ataupun pembaca. Oleh karena itu, coba **baca, eksplor, dan terapkan** bagaimana kita membuat dokumentasi fungsi yang sudah kita buat melalui link berikut: [PEP-257 Docstring Convention](https://www.python.org/dev/peps/pep-0257/)"
   ]
  },
  {
   "cell_type": "code",
   "execution_count": null,
   "id": "514c2786-43ea-4eb5-a993-4960c74ac9a6",
   "metadata": {},
   "outputs": [],
   "source": [
    "def is_bounded(x, lower, upper):\n",
    "    \"\"\"Check whether lower <= x <= upper.\n",
    "    \n",
    "    Returns:\n",
    "        bool: True if lower <= x <= upper, False otherwise\n",
    "    \"\"\"\n",
    "    print(\"{} <= {} <= {}\".format(lower, x, upper))\n",
    "    return lower <= x <= upper"
   ]
  },
  {
   "cell_type": "code",
   "execution_count": null,
   "id": "b3f9121f-7da1-4bfe-a982-feae76dfebdb",
   "metadata": {},
   "outputs": [],
   "source": [
    "is_bounded()"
   ]
  },
  {
   "cell_type": "markdown",
   "id": "75e9d8b3-7587-4b09-b0d8-a039c67293c6",
   "metadata": {
    "slideshow": {
     "slide_type": "slide"
    },
    "tags": []
   },
   "source": [
    "## Cakupan Variabel\n",
    "\n",
    "Cakupan variabel (*variable scope*) merujuk pada bagaimana suatu variabel dapat diakses oleh interpreter. Variabel-variabel atau parameter dalam sebuah fungsi **hanya bisa diakses dan berlaku di dalam fungsi** tersebut.\n",
    "\n",
    "Andaikan kita mendefinisikan variabel dengan nama yang sama diluar fungsi tersebut, maka fungsi tersebut tetap menggunakan variabel yang didefinisikan di dalamnya. Akan tetapi, jika kita mendefinisikan variabel di luar fungsi, lalu mengaksesnya di dalam fungsi, di mana tidak ada variabel dengan nama yang sama, maka fungsi tersebut akan menggunakan variabel dari luar fungsi."
   ]
  },
  {
   "cell_type": "markdown",
   "id": "52ab00b1-05ee-49fc-b7df-e32efc4271ca",
   "metadata": {
    "slideshow": {
     "slide_type": "subslide"
    },
    "tags": []
   },
   "source": [
    "Untuk lebih jelasnya, kita gunakan fungsi `func` terakhir kita yang mengombinasikan *positional argument* dan *variable-length positional/keyword argument*"
   ]
  },
  {
   "cell_type": "code",
   "execution_count": null,
   "id": "45453f1b-f9a9-4512-a9a8-90851c64b0ef",
   "metadata": {},
   "outputs": [],
   "source": [
    "def func(x, y, *args, **kwargs):\n",
    "    print(\"x inside function:\", x)\n",
    "    print(\"y inside function:\", y)\n",
    "    print(\"args:\", args)\n",
    "    print(\"kwargs\", kwargs)"
   ]
  },
  {
   "cell_type": "code",
   "execution_count": null,
   "id": "155281dd-98bb-4c48-ada8-223a74f926cd",
   "metadata": {},
   "outputs": [],
   "source": [
    "x = 10\n",
    "y = 100\n",
    "\n",
    "func(5, 50)\n",
    "\n",
    "print(\"x outside function:\", x)\n",
    "print(\"y outside function:\", y)"
   ]
  },
  {
   "cell_type": "code",
   "execution_count": null,
   "id": "b2fb4685-01c7-49e7-a7b6-a46657baf72f",
   "metadata": {},
   "outputs": [],
   "source": [
    "x = 10\n",
    "y = 100\n",
    "\n",
    "func(x, y)\n",
    "\n",
    "x += y\n",
    "\n",
    "print(\"x:\", x)\n",
    "print(\"y:\", y)"
   ]
  },
  {
   "cell_type": "code",
   "execution_count": null,
   "id": "ff6e33e3-f2c3-4afe-b15e-48033f953cb7",
   "metadata": {},
   "outputs": [],
   "source": [
    "zz = 100"
   ]
  },
  {
   "cell_type": "code",
   "execution_count": null,
   "id": "271740e0-aa01-4fef-b7b7-ab2c9fc64abe",
   "metadata": {},
   "outputs": [],
   "source": [
    "def scope(x, y):\n",
    "    \"demonstrate variable scope.\"\n",
    "    zz = 10\n",
    "    z = x * y\n",
    "    \n",
    "    def sum(x, y):\n",
    "        return x - y\n",
    "\n",
    "    return z + sum(x, y)\n",
    "\n",
    "total = scope(5, 10)\n",
    "print(\"total:\", total)\n",
    "print(\"total with sum:\", sum([5, 10]))"
   ]
  },
  {
   "cell_type": "markdown",
   "id": "cf976a39-56f0-4d39-9cdf-c414d4ff329a",
   "metadata": {
    "slideshow": {
     "slide_type": "subslide"
    },
    "tags": []
   },
   "source": [
    "> **Best Practice**\n",
    ">\n",
    "> It is best to define variables in the smallest scope they will be needed in. While functions can refer to variables defined in a larger scope, this is very rarely a good idea since you may not know what variables you have defined if your program has a lot of variables. {cite}`intro-python-udacity`"
   ]
  }
 ],
 "metadata": {
  "kernelspec": {
   "display_name": "Python 3 (ipykernel)",
   "language": "python",
   "name": "python3"
  },
  "language_info": {
   "codemirror_mode": {
    "name": "ipython",
    "version": 3
   },
   "file_extension": ".py",
   "mimetype": "text/x-python",
   "name": "python",
   "nbconvert_exporter": "python",
   "pygments_lexer": "ipython3",
   "version": "3.9.5"
  }
 },
 "nbformat": 4,
 "nbformat_minor": 5
}
