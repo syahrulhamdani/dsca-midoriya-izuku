{
 "cells": [
  {
   "cell_type": "markdown",
   "id": "066eed80-7063-4243-9922-756249be92ca",
   "metadata": {
    "slideshow": {
     "slide_type": "slide"
    },
    "tags": []
   },
   "source": [
    "# Dictionary\n",
    "\n",
    "*Dictionary* adalah objek pemetaan (*mapping*) yang memetakan **objek-objek yang memiliki nilai *hash* (*hashable*)** ke **sebarang objek**. Semua objek pemetaan memiliki karakteristik *mutable*, yaitu bisa diubah. Artinya, kita bisa mengubah elemen-elemen di dalam dictionary.\n",
    "\n",
    "Elemen dalam dictionary terdiri dari 2 jenis: **key** dan **value**.\n",
    "* **key**, adalah tipe data yang *hashable*, yang berarti antara angka, string, atau tuple, yang berfungsi sebagai indeks.\n",
    "* **value**, adalah objek sebarang tipe data yang melekat pada satu *key* tertentu."
   ]
  },
  {
   "cell_type": "markdown",
   "id": "fc83de47-dec9-4cc9-afa4-03dbc1434b93",
   "metadata": {
    "slideshow": {
     "slide_type": "slide"
    },
    "tags": []
   },
   "source": [
    "## List vs Dictionary\n",
    "\n",
    "Untuk list, kita bisa mengakses suatu elemen dengan menggunakan indeks yang dimulai dari `0` sampai dengan `n-1` atau negatif indeks yang dimulai dari `-n` sampai `-1`. Pada dictionary, kita menggunakan *key* untuk mengakses suatu *value*.\n",
    "\n",
    "Sebagai contoh, misalkan kita ingin mencatat data tinggi badan beberapa orang sebagai berikut: `166`, `169`, `172`. Dengan menggunakan dictionary, kita bisa masangkan nama orang dan tinggi badan orang tersebut dengan pemetaan berikut:\n",
    "* `john` → `166`\n",
    "* `stuart` → `169`\n",
    "* `kevin` → `171`\n",
    "\n",
    "Kita bisa memasukkan nama sebagai *key* dan menggunakannya sebagai indeks semacam `height[\"john\"]` untuk mengakses tinggi badan `john`."
   ]
  },
  {
   "cell_type": "code",
   "execution_count": null,
   "id": "63371e7a-915a-4a76-b923-5dcbb34276c8",
   "metadata": {},
   "outputs": [],
   "source": [
    "names = [\"john\", \"stuart\", \"kevin\"]\n",
    "weights = [166, 169, 172]\n",
    "\n",
    "print(\"weight john:\", weights[names.index(\"john\")])\n",
    "print(\"weight john:\", weights[names.index(\"stuart\")])"
   ]
  },
  {
   "cell_type": "markdown",
   "id": "b8d86d7d-ad96-420e-8f84-8201cc103213",
   "metadata": {
    "slideshow": {
     "slide_type": "slide"
    },
    "tags": []
   },
   "source": [
    "## Mendefinisikan Dictionary dengan `{}`\n",
    "\n",
    "Untuk kasus yang sama pada data tinggi badan di atas, maka kita bisa mendefinisikannya sebagai dictionary seperti di bawah ini.\n",
    "\n",
    "```python\n",
    "height = {\"john\": 166, \"stuart\": 169, \"kevin\": 171}\n",
    "```"
   ]
  },
  {
   "cell_type": "code",
   "execution_count": null,
   "id": "4751d86d-5de8-4b94-8043-2ad1e61ac111",
   "metadata": {},
   "outputs": [],
   "source": [
    "height = {\"john\": 166, \"stuart\": 169, \"kevin\": 171}\n",
    "\n",
    "print(height, type(height))"
   ]
  },
  {
   "cell_type": "markdown",
   "id": "2b2b6659-1c9d-4bde-a88c-72713c0dcde1",
   "metadata": {},
   "source": [
    "Jika kita ingin cari tahu berapa tinggi badan Stuart, dengan notasi *indexing* yang sama dengan list (`var[indeks]`), kita bisa langsung tulis saja\n",
    "\n",
    "```python\n",
    "print(height[\"stuart\"])\n",
    "```"
   ]
  },
  {
   "cell_type": "code",
   "execution_count": null,
   "id": "4aaea48d-774b-4883-98c4-36a426ace1e6",
   "metadata": {},
   "outputs": [],
   "source": [
    "print(height[\"john\"])\n",
    "print(height[\"stuart\"])\n",
    "print(height[\"kevin\"])"
   ]
  },
  {
   "cell_type": "markdown",
   "id": "0b8a0a08-e42f-4b56-9b72-3de0e94db48b",
   "metadata": {
    "slideshow": {
     "slide_type": "subslide"
    },
    "tags": []
   },
   "source": [
    "> Bagaimana jika kita mendefinisikan dictionary dengan duplikat *key*?\n",
    "\n",
    "Saat kita mendefinisikan dictionary dengan memasukkan *key* yang sama lebih dari satu kali, maka pasangan terakhir yang akan disimpan."
   ]
  },
  {
   "cell_type": "code",
   "execution_count": null,
   "id": "2387d3ae-a0a1-42e6-a3cc-f8a792c0e7e8",
   "metadata": {},
   "outputs": [],
   "source": [
    "height = {\"john\": 166, \"stuart\": 169, \"kevin\": 171, \"john\": 190, \"Kevin\": 170}\n",
    "\n",
    "print(height)"
   ]
  },
  {
   "cell_type": "markdown",
   "id": "2ad4c61d-6889-45ed-a76c-033f5b287d77",
   "metadata": {
    "slideshow": {
     "slide_type": "subslide"
    },
    "tags": []
   },
   "source": [
    "Karena dictionary merupakan *mutable* object, kita bisa mengubah elemen pada dictionary.\n",
    "\n",
    "```python\n",
    "height[\"Kevin\"] = 167\n",
    "```"
   ]
  },
  {
   "cell_type": "code",
   "execution_count": null,
   "id": "f6c213f5-6246-4cba-a2c4-a1d766499b1c",
   "metadata": {},
   "outputs": [],
   "source": [
    "# ubah value kevin dan Kevin\n",
    "height[\"kevin\"] = 180\n",
    "height[\"Kevin\"] = 167\n",
    "\n",
    "print(height)"
   ]
  },
  {
   "cell_type": "markdown",
   "id": "289f10f0-e17a-410b-aac6-d13a3acaf712",
   "metadata": {
    "slideshow": {
     "slide_type": "slide"
    },
    "tags": []
   },
   "source": [
    "## Mendefinisikan Dictionary dengan `dict()`\n",
    "\n",
    "Python menyediakan fungsi bawaan `dict()` untuk mendefinisikan dictionary baru dengan cara:\n",
    "* `dict()` untuk dictionary kosong\n",
    "* `dict(john=166, stuart=169, kevin=171)` untuk mendefinisikan dictionary yang sama pada kasus sebelumnya\n",
    "* `dict()` untuk menginisiasi dictionary kosong, kemudian mengisi pasangan *key-value* satu per satu, baris per baris\n",
    "\n",
    "```python\n",
    "# dictionary kosong\n",
    "empty_dict = dict()\n",
    "\n",
    "# cara 1\n",
    "functional_dict = dict(john=166, stuart=169, kevin=171)\n",
    "\n",
    "# cara 2\n",
    "sequential_dict = dict()\n",
    "sequential_dict[\"john\"] = 166\n",
    "sequential_dict[\"stuart\"] = 169\n",
    "sequential_dict[\"kevin\"] = 171\n",
    "```"
   ]
  },
  {
   "cell_type": "code",
   "execution_count": null,
   "id": "d3d88608-eb6f-4795-9299-b7d3f7b7cfb6",
   "metadata": {},
   "outputs": [],
   "source": [
    "dict() == {}\n",
    "dict_heights = dict(john=166, kevin=170)\n",
    "print(dict_heights)\n",
    "\n",
    "empty_dict = {}\n",
    "print(empty_dict)\n",
    "empty_dict[\"kevin\"] = 179\n",
    "empty_dict[\"andrew\"] = 166\n",
    "print(empty_dict)"
   ]
  },
  {
   "cell_type": "markdown",
   "id": "c878a66c-d4ef-439b-bded-edef93ba7da4",
   "metadata": {
    "slideshow": {
     "slide_type": "subslide"
    },
    "tags": []
   },
   "source": [
    "> **Kuis:** Buatlah dictionary dengan nama `population` yang berisikan data berikut ini.\n",
    ">\n",
    "> | keys | value |\n",
    "> | ---- | ----- |\n",
    "> | Jakarta | 20.8 |\n",
    "> | Surabaya | 18.2 |\n",
    "> | Bandung | 15.1 |\n",
    "> | Semarang | 12.3 |"
   ]
  },
  {
   "cell_type": "code",
   "execution_count": null,
   "id": "ed037a4c-7a6a-4afa-871f-abac15f282f4",
   "metadata": {},
   "outputs": [],
   "source": [
    "# KETIK DI SINI"
   ]
  },
  {
   "cell_type": "markdown",
   "id": "4fab962a-e3e9-4430-aa5f-5987bb741860",
   "metadata": {
    "slideshow": {
     "slide_type": "slide"
    },
    "tags": []
   },
   "source": [
    "## Fungsi dan Metode Bawaan Dictionary\n",
    "\n",
    "> Kita hanya mencoba fungsi dan metode bawaan dictionary yang paling sering dipakai karena jumlahnya yang banyak. Untuk detail fungsi dan metode apa saja serta apa kegunaannya, silakan dilihat di halaman [dokumentasi](https://docs.python.org/3.8/library/stdtypes.html#mapping-types-dict).\n",
    "\n",
    "Beberapa fungsi dan metode bawaan yang sering dipakai disajikan pada tabel di bawah ini.\n",
    "\n",
    "| name | function/method | usage | example |\n",
    "| --- | --- | --- | --- |\n",
    "| keys | *method* | return a sequence of dictionary's keys | `height.keys()` |\n",
    "| values | *method* | return a sequence of dictionary's values | `height.values()` |\n",
    "| items | *method* | return a sequence of tuple of key and value pair for first and second index, respectively | `height.items()` |\n",
    "| get | *method* | return a value of the *key* passed into `get` if exist. If not, choose to provide a default value or not | `height.get(\"kevin\")` |\n",
    "| len | *function* | return the length or number of element in dictionary | `len(height)` |\n",
    "| update | *method* | update the corresponding dictionary with new key-value pair, if the key is already exist, update the value instead | `height.update({\"kevin\": 190\"})` |"
   ]
  },
  {
   "cell_type": "code",
   "execution_count": null,
   "id": "04d77b04-bb23-49a9-8bfc-9b629550490c",
   "metadata": {
    "slideshow": {
     "slide_type": "subslide"
    },
    "tags": []
   },
   "outputs": [],
   "source": [
    "print(height.keys(), type(height.keys()))\n",
    "print(list(height.keys()))"
   ]
  },
  {
   "cell_type": "code",
   "execution_count": null,
   "id": "bb98b2dc-c6f9-44d9-9467-6931db68b0fc",
   "metadata": {},
   "outputs": [],
   "source": [
    "print(height.values())\n",
    "print(list(height.values()))"
   ]
  },
  {
   "cell_type": "code",
   "execution_count": null,
   "id": "9078fdfd-4ed0-4f3b-b47f-785ee288eac9",
   "metadata": {},
   "outputs": [],
   "source": [
    "print(height.items())"
   ]
  },
  {
   "cell_type": "code",
   "execution_count": null,
   "id": "b5b5d7f4-117b-41b0-80dd-a08680f8d5a7",
   "metadata": {},
   "outputs": [],
   "source": [
    "height.get(\"michael\")"
   ]
  },
  {
   "cell_type": "code",
   "execution_count": null,
   "id": "468b9183-8356-47d6-a8c7-57202bc3032c",
   "metadata": {},
   "outputs": [],
   "source": [
    "print(height.get(\"Kevin\"))\n",
    "print(height.get(\"michael\"))\n",
    "print(height.get(\"michael\", \"Oops. Key not found!\"))"
   ]
  },
  {
   "cell_type": "code",
   "execution_count": null,
   "id": "fb17ed9a-089d-4745-8457-483eca2153aa",
   "metadata": {},
   "outputs": [],
   "source": [
    "list_height_values"
   ]
  },
  {
   "cell_type": "code",
   "execution_count": null,
   "id": "2a403633-35e2-41b9-8024-62ff5196f4a0",
   "metadata": {},
   "outputs": [],
   "source": [
    "height.update({\"michael\": 177, \"kevin\": 190})\n",
    "print(height)"
   ]
  },
  {
   "cell_type": "code",
   "execution_count": null,
   "id": "46b26df7-ea40-4a4e-b608-d4df0338e7cf",
   "metadata": {},
   "outputs": [],
   "source": [
    "list_height_values = list(height.values())\n",
    "list_height_keys = list(height.keys())\n",
    "\n",
    "print(list_height_keys)\n",
    "print(list_height_values)\n",
    "value = 190\n",
    "idx_value = list_height_values.index(value)\n",
    "key = list_height_keys[idx_value]\n",
    "print(key, \":\", value)"
   ]
  },
  {
   "cell_type": "code",
   "execution_count": null,
   "id": "a481771f-cfc1-4c14-b217-e0bb86cc1d4c",
   "metadata": {},
   "outputs": [],
   "source": [
    "oneline = (\n",
    "    \"Ini adalah teks yang sangat panjang. \"\n",
    "    \"Sehingga, kita perlu membuat beberapa baris di sini. \"\n",
    "    \"Tapi \"\n",
    "    \"cukup \"\n",
    "    \"segini \"\n",
    "    \"saja \"\n",
    ")\n",
    "print(oneline)"
   ]
  }
 ],
 "metadata": {
  "kernelspec": {
   "display_name": "Python 3 (ipykernel)",
   "language": "python",
   "name": "python3"
  },
  "language_info": {
   "codemirror_mode": {
    "name": "ipython",
    "version": 3
   },
   "file_extension": ".py",
   "mimetype": "text/x-python",
   "name": "python",
   "nbconvert_exporter": "python",
   "pygments_lexer": "ipython3",
   "version": "3.9.5"
  }
 },
 "nbformat": 4,
 "nbformat_minor": 5
}
