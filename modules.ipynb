{
 "cells": [
  {
   "cell_type": "markdown",
   "id": "0b6a71b5-9c22-4ed9-87d5-d4259209f735",
   "metadata": {
    "slideshow": {
     "slide_type": "slide"
    },
    "tags": []
   },
   "source": [
    "# Modul dan Paket dalam Python\n",
    "\n",
    "Pada bagian ini, kita akan mulai membuat sebuah program Python secara menyeluruh dengan menerapkan semua yang sudah kita pelajari sebelumnya. Kita akan menulis modul buatan kita sendiri dan menggunakan modul bawaan dari Python, atau yang disebut dengan **Python's Standard Library** dan modul-modul lainnya."
   ]
  },
  {
   "cell_type": "markdown",
   "id": "92565258-ab02-4fa1-b573-5e0835d3fe2a",
   "metadata": {
    "slideshow": {
     "slide_type": "slide"
    },
    "tags": []
   },
   "source": [
    "## Apa Itu Modul (*Module*)?\n",
    "\n",
    "Modul sebenarnya adalah **sebuah file Python dengan format `.py`**. Semua file Python (modul) dapat digunakan oleh file Python (modul) yang lain. Kita bisa memanggil dan menggunakan kode dari modul lain dengan menggunakan pernyataan `import`."
   ]
  },
  {
   "cell_type": "markdown",
   "id": "90fc3052-ec86-48ab-bb39-10656aea9933",
   "metadata": {
    "slideshow": {
     "slide_type": "slide"
    },
    "tags": []
   },
   "source": [
    "## Mengimpor Modul\n",
    "\n",
    "Cara sederhana penggunaan `import` adalah `import module`, dengan `module` adalah nama file Python yang ingin kita gunakan (tanpa ekstensi `.py`).\n",
    "\n",
    "Misalkan, kita ingin memilih makanan untuk makan siang dari sekian banyak layanan cepat saji. Daripada kita repot berpikir atau berdiskusi dengan yang lain, mari kita biarkan komputer untuk memilih. Kita buat sebuah modul program yang berisi fungsi yang mengembalikan pilihan makanan cepat saji secara acak.\n",
    "\n",
    "<div align=\"middle\">\n",
    "<img src=\"../../../assets/images/fastfood.py.png\" style=\"border-radius: 1%\" width=\"50%\">\n",
    "</div>"
   ]
  },
  {
   "cell_type": "markdown",
   "id": "b2c5618c-0f4e-40c6-b811-00af021747e0",
   "metadata": {
    "slideshow": {
     "slide_type": "subslide"
    },
    "tags": []
   },
   "source": [
    "Kemudian, kita buat program utama kita dalam `lunch.py` yang akan mengimpor semua objek dalam `fastfood.py` ke dalam `lunch.py` untuk bisa diakses dan digunakan. Berikut kode program utama kita di `lunch.py`.\n",
    "\n",
    "<div align=\"middle\">\n",
    "<img src=\"../../../assets/images/lunch.py.png\" width=\"50%\" style=\"border-radius: 1%\">\n",
    "</div>\n",
    "\n",
    "Jika kedua file tersebut berada dalam satu direktori yang sama, maka kita bisa menjalankan program utama `lunch.py` melalui notebook atau terminal.\n",
    "\n",
    "Di anaconda prompt:\n",
    "\n",
    "```python\n",
    "python lunch.py\n",
    "```"
   ]
  },
  {
   "cell_type": "code",
   "execution_count": null,
   "id": "c7291aa2-cbe1-4155-b3e4-158571ea8cbf",
   "metadata": {
    "slideshow": {
     "slide_type": "subslide"
    },
    "tags": []
   },
   "outputs": [],
   "source": [
    "!python lunch.py"
   ]
  },
  {
   "cell_type": "code",
   "execution_count": null,
   "id": "2865a589-70b9-4670-abb2-8cdaee4a82f7",
   "metadata": {},
   "outputs": [],
   "source": [
    "!python lunch.py"
   ]
  },
  {
   "cell_type": "code",
   "execution_count": null,
   "id": "71362707-c535-458d-9858-33194279f1cf",
   "metadata": {},
   "outputs": [],
   "source": [
    "!python lunch.py"
   ]
  },
  {
   "cell_type": "markdown",
   "id": "8458363f-2b8f-4656-82de-986afb0e801e",
   "metadata": {
    "slideshow": {
     "slide_type": "subslide"
    },
    "tags": []
   },
   "source": [
    "Dari dua file Python tersebut, kita melakukan impor modul di dua tempat berbeda:\n",
    "* Program utama `lunch.py` yang mengimpor modul `fastfood`.\n",
    "* Modul `fastfood` yang mengimpor modul bawaan Python atau *Python's Standard Library* bernama `random`."
   ]
  },
  {
   "cell_type": "markdown",
   "id": "1d82b001-de44-460f-82dd-29e193afd64c",
   "metadata": {
    "slideshow": {
     "slide_type": "subslide"
    },
    "tags": []
   },
   "source": [
    "Kita juga melakukan impor dengan dua cara berbeda:\n",
    "* Pertama, kita mengimpor seluruh objek yang ada dalam `fastfood` dengan pernyataan `import fastfood`. Dengan cara ini, kita bisa menggunakan fungsi `pick` yang ada di dalamnya dengan awalan `fastfood.` (seperti pada akses atribut dan metode objek sebelumnya) sebelum nama fungsinya. Ini berguna agar tidak terjadi konflik jikalau ada fungsi dengan nama yang sama, `pick` pada modul `lunch` atau pada modul lain.\n",
    "* Kedua, kita menggunakan pernyataan `from random import choice` pada modul `fastfood` yang menyebabkan hanya fungsi `choice` saja yang tersedia untuk digunakan. Ini sangat direkomendasikan jika memang kita hanya menggunakan salah satu atau beberapa fungsi/kelas/variabel saja dari suatu modul dan tidak ingin mengakses semua objek di dalamnya karena alasan efisiensi memori."
   ]
  },
  {
   "cell_type": "markdown",
   "id": "2c0587c6-23f4-4130-ad98-4ee36adb43f9",
   "metadata": {
    "slideshow": {
     "slide_type": "slide"
    },
    "tags": []
   },
   "source": [
    "## Mengimpor Modul dengan Alias\n",
    "\n",
    "Kita memiliki opsi untuk mengimpor sebuah modul atau bagian dari modul dengan menggunakan sebuah **alias**. Ini bisa dilakukan dengan menambahkan kata kunci `as` pada setiap objek yang diimpor.\n",
    "\n",
    "Sebagai contoh, kita bisa memodifikasi program utama `lunch.py` untuk mengimpor `fastfood` menggunakan alias seperti di bawah ini.\n",
    "\n",
    "\n",
    "```python\n",
    "import fastfood as ff\n",
    "\n",
    "place = ff.pick()\n",
    "print(\"Let's go to {} for lunch.\".format(place))\n",
    "```"
   ]
  },
  {
   "cell_type": "markdown",
   "id": "fef8c167-4027-454d-b46c-1976711c86bf",
   "metadata": {
    "slideshow": {
     "slide_type": "slide"
    },
    "tags": []
   },
   "source": [
    "## Impor Hanya Yang Dibutuhkan\n",
    "\n",
    "Kita sudah menerapkan hal ini pada kasus kedua sebelumnya, di mana kita hanya mengimpor fungsi `choice` dari modul `random`. Sebagai contoh, karena kita hanya membutuhkan fungsi `pick` pada modul `fastfood` dan tidak membutuhkan `places`, kita bisa memodifikasi lagi program utama `lunch.py` menjadi berikut.\n",
    "\n",
    "```python\n",
    "from fastfood import pick\n",
    "\n",
    "place = pick()\n",
    "print(\"Let's go to {} for lunch.\".format(place))\n",
    "```\n",
    "\n",
    "Atau, kita gunakan alias seperti di bawah ini.\n",
    "\n",
    "```python\n",
    "from fastfood import pick as fastpick\n",
    "\n",
    "place = fastpick()\n",
    "print(\"Let's go to {} for lunch.\".format(place))\n",
    "```"
   ]
  },
  {
   "cell_type": "markdown",
   "id": "70c8618a-b0fd-4320-9f0a-62de21b0b64a",
   "metadata": {
    "slideshow": {
     "slide_type": "slide"
    },
    "tags": []
   },
   "source": [
    "> **Kuis:**\n",
    ">\n",
    "> Impor pustaka standar Python `math` dan gunakan modul `math` untuk menghitung $e^3$."
   ]
  },
  {
   "cell_type": "code",
   "execution_count": null,
   "id": "9fbf2a92-8940-47b6-8be5-f7cccc519ff9",
   "metadata": {},
   "outputs": [],
   "source": [
    "# KETIK DI SINI\n",
    "import math\n",
    "\n",
    "math.exp(3)"
   ]
  },
  {
   "cell_type": "markdown",
   "id": "5da592bd-3864-48a9-90de-6d36b921e37f",
   "metadata": {
    "slideshow": {
     "slide_type": "subslide"
    },
    "tags": []
   },
   "source": [
    "> **Riset**\n",
    ">\n",
    "> Lakukan riset dan eksplorasi tentang beberapa [pustaka standar Python](https://docs.python.org/3/library/) berikut dan coba beberapa modul di dalamnya:\n",
    "> 1. `datetime`\n",
    "2. `os`\n",
    "3. `time`\n",
    "4. `csv`\n",
    "5. `json`\n",
    "6. `random`"
   ]
  },
  {
   "cell_type": "code",
   "execution_count": null,
   "id": "4d610f8c-3630-4a6e-bbd7-13ca8e240487",
   "metadata": {},
   "outputs": [],
   "source": [
    "import datetime\n",
    "\n",
    "# KETIK DI SINI"
   ]
  },
  {
   "cell_type": "code",
   "execution_count": null,
   "id": "cf7a04f3-8668-4ed8-b1ff-f39d3cf6327b",
   "metadata": {},
   "outputs": [],
   "source": [
    "import random\n",
    "\n",
    "# KETIK DI SINI"
   ]
  },
  {
   "cell_type": "code",
   "execution_count": null,
   "id": "e9e62d30-4cb4-405b-9762-972005998f4e",
   "metadata": {},
   "outputs": [],
   "source": [
    "import csv\n",
    "\n",
    "# KETIK DI SINI"
   ]
  },
  {
   "cell_type": "markdown",
   "id": "8d125848-49b1-465c-99f1-9ddd846a0716",
   "metadata": {
    "slideshow": {
     "slide_type": "slide"
    },
    "tags": []
   },
   "source": [
    "## Paket (*Package*) dalam Python\n",
    "\n",
    "Secara singkat, paket (*package*) dalam Python berarti **kumpulan modul dalam sebuah folder** (kumpulan file berekstensi `.py` dalam sebuah folder). Dengan adanya *package*, kita bisa membuat beberapa modul yang dikelompokkan dalam sebuah direktori dengan tugas khusus. Sebuah *package* bisa saja terdiri dari beberapa *sub-package*, yang berarti direktori yang memiliki sub-direktori.\n",
    "\n",
    "Satu hal yang dibutuhkan agar Python mengenali bahwa sebuah direktori bukan direktori biasa, melainkan sebuah *package*, adalah modul `__init__.py` yang bisa berisi kode tambahan atau bahkan file kosong."
   ]
  },
  {
   "cell_type": "markdown",
   "id": "68e21679-594d-42e0-9d9a-45b62a2db0d6",
   "metadata": {
    "slideshow": {
     "slide_type": "subslide"
    },
    "tags": []
   },
   "source": [
    "Struktur direktori yang akan kita buat adalah seperti di bawah ini.\n",
    "\n",
    "```\n",
    "|--- questions.py\n",
    "|--- choices\n",
    "     |--- __init__.py\n",
    "     |--- fastfood.py\n",
    "     |--- advice.py\n",
    "```"
   ]
  },
  {
   "cell_type": "markdown",
   "id": "56395658-4e42-41fb-acaa-2abf1783e8bf",
   "metadata": {
    "slideshow": {
     "slide_type": "subslide"
    },
    "tags": []
   },
   "source": [
    "<div align=\"middle\">\n",
    "<img src=\"../../../assets/images/questions.py.png\" width=\"50%\" style=\"border-radius: 1%\">\n",
    "</div>"
   ]
  },
  {
   "cell_type": "markdown",
   "id": "3460b15e-7c16-45a3-b8cc-1490ba7b512c",
   "metadata": {
    "slideshow": {
     "slide_type": "subslide"
    },
    "tags": []
   },
   "source": [
    "<div align=\"middle\">\n",
    "<img src=\"../../../assets/images/fastfood.py.png\" width=\"50%\" style=\"border-radius: 1%\">\n",
    "</div>"
   ]
  },
  {
   "cell_type": "markdown",
   "id": "b4d42f9e-4f2a-433a-918e-825a70b673c3",
   "metadata": {
    "slideshow": {
     "slide_type": "subslide"
    },
    "tags": []
   },
   "source": [
    "<div align=\"middle\">\n",
    "<img src=\"../../../assets/images/choices.advice.py.png\" width=\"50%\" style=\"border-radius: 1%\">\n",
    "</div>"
   ]
  },
  {
   "cell_type": "markdown",
   "id": "be739be2-7d4d-49b1-9dbc-312b665c62b4",
   "metadata": {
    "slideshow": {
     "slide_type": "subslide"
    },
    "tags": []
   },
   "source": [
    "Untuk menjalankan program utama `questions.py`, tempatkan `questions.py` sejajar dengan direktori `choices`."
   ]
  },
  {
   "cell_type": "code",
   "execution_count": null,
   "id": "66b2f216-d762-422e-bf5b-f5eebbee7943",
   "metadata": {},
   "outputs": [],
   "source": [
    "!python questions.py"
   ]
  },
  {
   "cell_type": "code",
   "execution_count": null,
   "id": "5cdc8740-2749-424c-ae62-5e8e79038ab4",
   "metadata": {},
   "outputs": [],
   "source": [
    "!python questions.py"
   ]
  },
  {
   "cell_type": "code",
   "execution_count": null,
   "id": "df37c080-35de-4008-8f86-9d62ced546ac",
   "metadata": {},
   "outputs": [],
   "source": [
    "!python questions.py"
   ]
  },
  {
   "cell_type": "markdown",
   "id": "b5c64d63-7f20-48e1-a7ae-3397ef27f76a",
   "metadata": {
    "slideshow": {
     "slide_type": "slide"
    },
    "tags": []
   },
   "source": [
    "> **Kuis:**\n",
    ">\n",
    "> Buatlah sebuah *package* `password` yang memiliki sebuah fungsi `generate_password` yang **memilih 3 kata secara acak** dari sebuah daftar kata `word_list` yang memuat kata-kata dalam file `words.txt` dan menggabungkan ketiga karakter tersebut menjadi satu string. Jika *package* berfungsi dengan benar, maka bisa digunakan untuk membangkitkan kata sandi seperit di bawah ini.\n",
    ">\n",
    ">```python\n",
    "> pw = password.generate_password()\n",
    ">```\n",
    ">\n",
    "> <br>Silakan unduh file `words.txt` [di sini](https://storage.googleapis.com/bitlabs-dataset/words.txt)."
   ]
  },
  {
   "cell_type": "code",
   "execution_count": null,
   "id": "7952f9da-c799-4948-953f-44077e37fe78",
   "metadata": {},
   "outputs": [],
   "source": [
    "with open(\"words.txt\", \"r\") as f:\n",
    "    word_list = f.read().split(\"\\n\")\n",
    "print(word_list)    # oncebutof"
   ]
  },
  {
   "cell_type": "code",
   "execution_count": null,
   "id": "4a838d5f-0441-4c2b-b944-5001a3a0fe6e",
   "metadata": {},
   "outputs": [],
   "source": [
    "import password"
   ]
  },
  {
   "cell_type": "code",
   "execution_count": null,
   "id": "e851b6d9-1eaf-4f2c-a779-b7ea12a102d5",
   "metadata": {},
   "outputs": [],
   "source": [
    "pw = password.generate_password()\n",
    "print(pw)"
   ]
  },
  {
   "cell_type": "code",
   "execution_count": null,
   "id": "154ddc1e-edc6-4fc4-94c6-a418534cf8c6",
   "metadata": {},
   "outputs": [],
   "source": [
    "pw = password.generate_password()\n",
    "print(pw)"
   ]
  },
  {
   "cell_type": "code",
   "execution_count": null,
   "id": "90059a9f-a764-4a77-96fc-d5ce5128f006",
   "metadata": {},
   "outputs": [],
   "source": [
    "pw = password.generate_password()\n",
    "print(pw)"
   ]
  },
  {
   "cell_type": "code",
   "execution_count": null,
   "id": "6194438a-d46f-4945-bf4e-a8a7a3a2a4a0",
   "metadata": {},
   "outputs": [],
   "source": [
    "generator = password.PasswordGenerator()\n",
    "pw = generator.generate_password()\n",
    "print(pw)"
   ]
  }
 ],
 "metadata": {
  "kernelspec": {
   "display_name": "Python 3 (ipykernel)",
   "language": "python",
   "name": "python3"
  },
  "language_info": {
   "codemirror_mode": {
    "name": "ipython",
    "version": 3
   },
   "file_extension": ".py",
   "mimetype": "text/x-python",
   "name": "python",
   "nbconvert_exporter": "python",
   "pygments_lexer": "ipython3",
   "version": "3.9.5"
  }
 },
 "nbformat": 4,
 "nbformat_minor": 5
}
