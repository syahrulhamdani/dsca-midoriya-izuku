{
 "cells": [
  {
   "cell_type": "markdown",
   "id": "828cb9bc-be78-4127-807e-437e4747354e",
   "metadata": {
    "slideshow": {
     "slide_type": "slide"
    },
    "tags": []
   },
   "source": [
    "# Kenapa Harus Python?\n",
    "\n",
    "Sebelum kita mulai belajar Python, kita perlu tahu kenapa kita harus belajar Python. Pada materi ini kita akan mulai dengan sejarah awal adanya Python, tren perkembengan Python sampai sekarang, perbandingan dengan bahasa pemrograman yang lain, kelebihan Python yang berguna dalam data science, dan bagaimana perkembangan Python ke depannya."
   ]
  },
  {
   "cell_type": "markdown",
   "id": "d02dc4fd-6d51-4daf-98a7-999a5fab969e",
   "metadata": {
    "slideshow": {
     "slide_type": "slide"
    },
    "tags": []
   },
   "source": [
    "## Awal Mula Python\n",
    "\n",
    "Python dikembangkan oleh programmer asal Belanda bernama [Guido van Rossum](https://en.wikipedia.org/wiki/Guido_van_Rossum) di akhir tahun '80-an yang kemudian memublikasikan rilis pertama pada tahun 1991. Python dikembangkan sebagai bahasa pemrograman level tinggi (**high-level**) dan bertujuan umum (**general-purpose**).\n",
    "\n",
    "Sampai saat ini, versi terakhir Python yang sudah rilis ada versi 3.9.5. Mulai dari tahun 2020, pengembangan dan pemeliharan Python versi 2.x ke bawah (2.7, 2.6, 2.0, 1.8, dan seterusnya) telah dihentikan. Sehingga, sekarang pengguna dan komunitas sangat disarankan menggunakan Python versi 3.x ke atas.\n",
    "\n",
    "> Python 2.x masih bisa digunakan, hanya saja pengembangan dan pemeliharaannya tidak dilakukan lagi. ([ref](https://www.python.org/dev/peps/pep-0373/))"
   ]
  },
  {
   "cell_type": "markdown",
   "id": "454007c6-e4bb-4feb-9ee9-807c52e9babc",
   "metadata": {
    "slideshow": {
     "slide_type": "subslide"
    },
    "tags": []
   },
   "source": [
    "Di bawah ini visualisasi jadwal rilis beberapa versi Python diambil dari [geeksforgeeks](https://www.geeksforgeeks.org/history-of-python/).\n",
    "\n",
    "<div align=\"middle\">\n",
    "<img src=\"https://media.geeksforgeeks.org/wp-content/uploads/20190502023317/TIMELINE.jpg\" width=\"50%\">\n",
    "</div>"
   ]
  },
  {
   "cell_type": "markdown",
   "id": "f43a5e66-c2d7-4fbd-a6bb-0ea0536e1d67",
   "metadata": {
    "slideshow": {
     "slide_type": "slide"
    },
    "tags": []
   },
   "source": [
    "## Perbandingan dengan Bahasa Pemrograman Lain\n",
    "\n",
    "Selain Python, opsi bahasa pemrograman lain yang juga sering digunakan dalam melakukan data science adalah [R](https://www.r-project.org/). Baik R maupun Python merupakan bahasa pemorgraman yang dapat diakses dan digunakan secara gratis oleh siapa saja. Lalu kenapa kita tidak menggunakan R?\n",
    "\n",
    "Kita perlu membandingkan terlebih dahulu, apa kelebihan dan kekurangan dari masing-masing bahasa, baik R ataupun Python. Mari kita lihat."
   ]
  },
  {
   "cell_type": "markdown",
   "id": "b0a8f445-fb8b-49a0-821f-d622575d94c2",
   "metadata": {
    "slideshow": {
     "slide_type": "subslide"
    },
    "tags": []
   },
   "source": [
    "### R\n",
    "\n",
    "* Ditujukan untuk analisis statistik\n",
    "* Dikembangkan oleh statistikawan untuk statistikawan\n",
    "* Menyediakan visualisasi yang cantik dan beragam\n",
    "* Relatif lebih lambat dibandingkan dengan Python\n",
    "* Tidak bisa digunakan sebagai *back-end* sebuah aplikasi web"
   ]
  },
  {
   "cell_type": "markdown",
   "id": "b9e2011f-8436-4ec4-b604-88b8291d7cfd",
   "metadata": {
    "slideshow": {
     "slide_type": "subslide"
    },
    "tags": []
   },
   "source": [
    "### Python\n",
    "\n",
    "* Mudah untuk dipelajari\n",
    "* Bisa digunakan untuk berbagai macam tujuan, tidak hanya data science\n",
    "* Komunitas pengguna yang sangat aktif dan banyak\n",
    "* Visualisasi di Python lebih kompleks\n",
    "\n",
    "Karena beberapa poin di atas lah, kita memutuskan untuk menggunakan Python. Kita bisa beralih menggunakan R kalau memang proyek data science yang dikerjakan lebih berat dan seringkali berurusan dengan statistika."
   ]
  },
  {
   "cell_type": "markdown",
   "id": "8a2faa88-b3b0-4a12-bceb-9a5fce49880c",
   "metadata": {
    "slideshow": {
     "slide_type": "slide"
    },
    "tags": []
   },
   "source": [
    "## Tren Penggunaan Python Sekarang dan Masa Depan\n",
    "\n",
    "Dengan semakin banyaknya yang memakai Python, mulai dari untuk data science, web development, aplikasi permainan, dan lainnya, Python tumbuh dan berkembang menjadi bahasa pemrograman yang sangat populer. Selain itu juga, banyak pengembang yang membuat modul atau pustakanya sendiri untuk bisa dipakai oleh orang lain, sehingga dukungan dari komunitas Python juga besar.\n",
    "\n",
    "Survei yang dilakukan oleh [stackoverflow pada tahun 2020](https://insights.stackoverflow.com/survey/2020#technology-programming-scripting-and-markup-languages) menempatkan Python pada posisi 4 bahasa pemrograman paling populer, yang sebelumnya pada hasil [survei 2018](https://insights.stackoverflow.com/survey/2018#technology) berada pada posisi 7. Python berhasil mengalahkan (melangkahi) bahasa pemrogrman yang lain seperti SQL, Java, dan Bash/Shell.\n",
    "\n",
    "GitHub juga memublikasikan [data statistik](https://octoverse.github.com/) semua kode yang ditulis seluruh pengembang/pengguna GitHub. Terlihat tren peringkat Python dari 6 tahun terakhir mengalami kenaikan. Sampai pada tahun 2020 kemarin, Python sudah menduduki peringkat kedua di bawah javascript dan mengambil alih peringkat yang dimiliki oleh Java di tahun sebelumnya."
   ]
  },
  {
   "cell_type": "markdown",
   "id": "e421bf91-5b4d-43bb-8020-4f116e5a49c3",
   "metadata": {
    "slideshow": {
     "slide_type": "subslide"
    },
    "tags": []
   },
   "source": [
    "<div align=\"middle\">\n",
    "    <img src=\"../../assets/images/top-languages-gh-2020.png\" width=\"50%\">\n",
    "</div>"
   ]
  }
 ],
 "metadata": {
  "kernelspec": {
   "display_name": "Python 3",
   "language": "python",
   "name": "python3"
  },
  "language_info": {
   "codemirror_mode": {
    "name": "ipython",
    "version": 3
   },
   "file_extension": ".py",
   "mimetype": "text/x-python",
   "name": "python",
   "nbconvert_exporter": "python",
   "pygments_lexer": "ipython3",
   "version": "3.8.6"
  }
 },
 "nbformat": 4,
 "nbformat_minor": 5
}
