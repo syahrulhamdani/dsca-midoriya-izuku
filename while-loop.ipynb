{
 "cells": [
  {
   "cell_type": "markdown",
   "id": "b4c37ab6-0276-47cd-afd9-ff9160efc2ed",
   "metadata": {
    "slideshow": {
     "slide_type": "slide"
    },
    "tags": []
   },
   "source": [
    "# Perulangan dengan While\n",
    "\n",
    "Pada pernyataan kondisional, kode program masih dieksekusi dari atas ke bawah per baris. Perbedannya hanya ada pada apakah suatu blok kode dieksekusi atau tidak berdasarkan kondisi yang diberikan. Tapi, kita terkadang perlu juga untuk mengeksekusi sesuatu lebih dari satu kali dan berulang. Python membolehkan kita untuk melakukan hal tersebut dengan `while`."
   ]
  },
  {
   "cell_type": "markdown",
   "id": "22a66601-8b26-4a9c-a2e6-2a68fd603989",
   "metadata": {
    "slideshow": {
     "slide_type": "slide"
    },
    "tags": []
   },
   "source": [
    "## Perulangan\n",
    "\n",
    "Misalkan diberikan sebuah daftar nama dalam bentuk `list` di bawah ini. Jika kita ingin menampilkan setiap nama yang ada pada `names`, cara paling sederhana adalah dengan mengakses indeks satu per satu."
   ]
  },
  {
   "cell_type": "code",
   "execution_count": null,
   "id": "defeaacd-d3bf-4d47-a115-6e9d7f6e3a32",
   "metadata": {},
   "outputs": [],
   "source": [
    "names = [\"brown\", \"james\", \"jackson\", \"lee\", \"bitlabs\", \"python\", \"machine learning\", \"data\"]"
   ]
  },
  {
   "cell_type": "code",
   "execution_count": null,
   "id": "3b15a08d-b4ea-4e63-bd68-6ec569f30519",
   "metadata": {},
   "outputs": [],
   "source": [
    "print(names[0])\n",
    "print(names[1])\n",
    "print(names[2])\n",
    "print(names[3])"
   ]
  },
  {
   "cell_type": "markdown",
   "id": "f7382cbf-648a-4c17-b560-0bf7ee2f7411",
   "metadata": {
    "slideshow": {
     "slide_type": "subslide"
    },
    "tags": []
   },
   "source": [
    "Ini buang-buang waktu dan merepotkan jika ternyata ada lebih dari 100 nama di dalamnya.\n",
    "\n",
    "Dalam setiap bahasa pemrograman, kita bisa melakukan perulangan secara otomatis tanpa harus mendaftarkan semua elemen, begitu juga Python. Konsep ini dikenal dengan **Don't Repeat Yourself (DRY)**.\n",
    "\n",
    "> **Apa Itu DRY?**\n",
    ">\n",
    "> DRY is a principle of software development aimed at reducing repetition of software patterns,[1] replacing it with abstractions or using data normalization to avoid redundancy. {cite}`dry-wikipedia`"
   ]
  },
  {
   "cell_type": "markdown",
   "id": "c2e5fb97-bf86-425a-b877-3420be53d778",
   "metadata": {
    "slideshow": {
     "slide_type": "slide"
    },
    "tags": []
   },
   "source": [
    "## Penggunaan `while`\n",
    "\n",
    "Untuk menggunakan `while` kita perlu membuat **kondisi** yang selama kondisi itu benar (bernilai `True`), blok kode dalam `while` akan terus dieksekusi. Sintaks `while` juga mirip dengan `if`, yaitu\n",
    "\n",
    "```python\n",
    "while condition:\n",
    "    # run statement here\n",
    "```"
   ]
  },
  {
   "cell_type": "markdown",
   "id": "127ca225-5e2d-43f0-bd0c-886750c68029",
   "metadata": {
    "slideshow": {
     "slide_type": "subslide"
    },
    "tags": []
   },
   "source": [
    "Kita akan menggunakan jumlah elemen dalam `names` sebagai batas perulangan. Langkah-langkah perulangannya adalah sebagai berikut:\n",
    "\n",
    "1. Definisikan jumlah elemen (opsional, bisa langsung dalam kondisi).\n",
    "2. Mulai dari indeks pertama atau `0`.\n",
    "3. Cek kondisi, selama indeks \"saat ini\" masih **kurang dari** jumlah elemen, lakukan langkah 4-6. Jika indeks \"saat ini\" **sama dengan** jumlah elemen, lakukan langkah 7.\n",
    "4. Tampilkan indeks \"saat ini\".\n",
    "5. Tambah indeks untuk jadi indeks berikutnya.\n",
    "6. Kembali ke langkah 3.\n",
    "7. Jika langkah 3 terpenuhi, akhiri perulangan.\n",
    "\n",
    "Dari langkah-langkah yang sudah ditulis di atas, sintaks yang perlu ditulis adalah:"
   ]
  },
  {
   "cell_type": "code",
   "execution_count": null,
   "id": "386e33f9-ffa5-48eb-a840-6ea16e638c70",
   "metadata": {},
   "outputs": [],
   "source": [
    "num_names = len(names)\n",
    "index = 0\n",
    "\n",
    "print(\"starting from index:\", index)\n",
    "\n",
    "while index < num_names:\n",
    "    print(\"current index:\", index)\n",
    "    print(\"names[{}]: {}\".format(index, names[index]))\n",
    "    index += 1\n",
    "    print(\"index after:\", index)\n",
    "\n",
    "print(index)"
   ]
  },
  {
   "cell_type": "markdown",
   "id": "59cd955c-78f0-4835-98b9-af65a26dbcd2",
   "metadata": {
    "slideshow": {
     "slide_type": "subslide"
    },
    "tags": []
   },
   "source": [
    "> **Kuis:**\n",
    ">\n",
    "> Lakukan perulangan untuk `names` dengan menggunakan indeks negatif!"
   ]
  },
  {
   "cell_type": "code",
   "execution_count": null,
   "id": "a3fd748a-77da-41e0-b31e-dfdc36eb78c7",
   "metadata": {},
   "outputs": [],
   "source": [
    "# KETIK DI SINI\n",
    "neg_index = -num_names\n",
    "\n",
    "print(\"start index:\", neg_index)\n",
    "\n",
    "# while neg_index <= -1:\n",
    "while neg_index < 0:\n",
    "    print(\"current index:\", neg_index)\n",
    "    print(\"names[{}]: {}\".format(neg_index, names[neg_index]))\n",
    "    neg_index += 1\n",
    "    print(\"index after:\", neg_index)\n",
    "\n",
    "print(\"end index:\", neg_index)"
   ]
  },
  {
   "cell_type": "code",
   "execution_count": null,
   "id": "a2768818-5910-4dcf-a0c3-4769db1e64be",
   "metadata": {},
   "outputs": [],
   "source": [
    "# KETIK DI SINI\n",
    "index = -1\n",
    "\n",
    "print(\"start index:\", index)\n",
    "\n",
    "# while index <= -1:\n",
    "while index >= -num_names:\n",
    "    print(\"num_names[{}]: {}\".format(index, names[index]))\n",
    "    index -= 1\n",
    "\n",
    "print(\"end index:\", index)"
   ]
  },
  {
   "cell_type": "markdown",
   "id": "0bb350f0-32b6-445b-8053-33cf82ac8894",
   "metadata": {
    "slideshow": {
     "slide_type": "slide"
    },
    "tags": []
   },
   "source": [
    "### Keluar dari `while` dengan `break`\n",
    "\n",
    "Jika kita ingin melakukan perulangan sampai sesuatu terjadi, tapi kita tidak tahu kapan, kita bisa menggunakan pernyataan `break`."
   ]
  },
  {
   "cell_type": "code",
   "execution_count": null,
   "id": "6e7da76d-f5f7-4128-a80e-cd37a746370a",
   "metadata": {},
   "outputs": [],
   "source": [
    "names"
   ]
  },
  {
   "cell_type": "code",
   "execution_count": null,
   "id": "23fb0bc0-b2e0-4c22-b58c-70ff895f61a5",
   "metadata": {},
   "outputs": [],
   "source": [
    "idx = 0\n",
    "\n",
    "while idx < len(names):\n",
    "    print(\"length of name:\", len(names[idx]))\n",
    "    if len(names[idx]) < 5:\n",
    "        print(\"will break out of while statement\")\n",
    "        break\n",
    "    print(names[idx])\n",
    "    idx += 1\n",
    "\n",
    "# statement luar while\n",
    "print(\"statement outside while\")"
   ]
  },
  {
   "cell_type": "code",
   "execution_count": null,
   "id": "a8519153-90a1-4dc8-8f18-11652e55be3e",
   "metadata": {},
   "outputs": [],
   "source": [
    "idx = 0\n",
    "\n",
    "while idx < len(names):\n",
    "    if names[idx][-1] in [\"a\", \"i\", \"u\", \"e\", \"o\"]:\n",
    "        print(\"Found '{}' in {}. Done!\".format(names[idx][-1], names[idx]))\n",
    "        break\n",
    "    print(names[idx])\n",
    "    idx += 1"
   ]
  },
  {
   "cell_type": "markdown",
   "id": "4474b3d5-dbff-4868-8647-3469a1914a13",
   "metadata": {
    "slideshow": {
     "slide_type": "slide"
    },
    "tags": []
   },
   "source": [
    "### Pernyataan `continue` dalam Perulangan\n",
    "\n",
    "Dengan prinsip yang masih sama dengan `break`, misalkan kita ingin melanjutkan menampilkan nama dalam `names` tanpa menampilkan nama dengan jumlah karakter kurang dari 5. Kita bisa ganti `break` di atas dengan `continue` seperti di bawah ini."
   ]
  },
  {
   "cell_type": "code",
   "execution_count": null,
   "id": "312914b6-3870-46e3-9ae2-cc8260bd5805",
   "metadata": {},
   "outputs": [],
   "source": [
    "names.append(\"johnson\")"
   ]
  },
  {
   "cell_type": "code",
   "execution_count": null,
   "id": "02bc97d2-24eb-4f1c-8535-f0de16eededa",
   "metadata": {},
   "outputs": [],
   "source": [
    "idx = 0\n",
    "\n",
    "while idx < len(names):\n",
    "    if len(names[idx]) < 5:\n",
    "        # break\n",
    "        print(\"Found name ({}) with length ({}) < 5\".format(names[idx], len(names[idx])))\n",
    "        idx += 1\n",
    "        continue\n",
    "    print(names[idx])\n",
    "    idx += 1"
   ]
  },
  {
   "cell_type": "code",
   "execution_count": null,
   "id": "e62a5ee6-d3fd-4544-b0a8-30f2438a547c",
   "metadata": {},
   "outputs": [],
   "source": [
    "idx = 0\n",
    "\n",
    "while idx < len(names):\n",
    "    if names[idx][-1] not in [\"a\", \"i\", \"u\", \"e\", \"o\"]:\n",
    "        print(\"Found '{}' in {}. Skipping this name!\".format(names[idx][-1], names[idx]))\n",
    "        idx += 1\n",
    "        continue\n",
    "    print(names[idx])\n",
    "    idx += 1"
   ]
  },
  {
   "cell_type": "markdown",
   "id": "ef9ac2d7-48df-4be2-8464-0af1e60dfa5a",
   "metadata": {
    "slideshow": {
     "slide_type": "subslide"
    },
    "tags": []
   },
   "source": [
    "Pada dasarnya, perulangan dengan `while` tergolong ke dalam *infinite loop* karena kode akan selalu dieksekusi selama kondisi terpenuhi. Oleh karena itu, perulangan `while` memerlukan kondisi untuk berhenti dan logika kode supaya kondisi bisa jadi **tidak terpenuhi (`False`)** sedemikian sehingga perulangan bisa berhenti."
   ]
  },
  {
   "cell_type": "markdown",
   "id": "bddbee24-06a2-4143-9670-e57dda0c88a8",
   "metadata": {
    "slideshow": {
     "slide_type": "slide"
    },
    "tags": []
   },
   "source": [
    "> **Kuis:**\n",
    ">\n",
    "> Buat perulangan dengan `while` untuk membuat sebuah string *news* yang panjangnya **150 karakter** dari kumpulan judul berita dalam `headlines` yang setiap judul dipisahkan oleh **spasi**. Jika diperlukan, potong judul berita terakhir sedemikian hingga panjang keseluruhan `news` tepat **150 karakter**.\n",
    ">\n",
    "> ```python\n",
    "headlines = [\"Pemprov DKI Perpanjang PPKM Mikro hingga 14 Juni\",\n",
    "             \"Manchester City Dekati Sergio Ramos\",\n",
    "             \"8 Juta Dosis Vaksin Sinovac Tiba di Tanah Air\",\n",
    "             \"10 Potret Kece Tatjana Saphira Berkacamata, Stylish Banget!\",]\n",
    "```"
   ]
  },
  {
   "cell_type": "code",
   "execution_count": null,
   "id": "6cb8f57e-8343-48fb-913d-f115dca2e5c2",
   "metadata": {},
   "outputs": [],
   "source": [
    "headlines[0][:20]"
   ]
  },
  {
   "cell_type": "code",
   "execution_count": null,
   "id": "4ccea9ce-e75f-40ec-9677-b02336bde16d",
   "metadata": {},
   "outputs": [],
   "source": [
    "char_limit = 150\n",
    "headlines = [\"Pemprov DKI Perpanjang PPKM Mikro hingga 14 Juni\",\n",
    "             \"Manchester City Dekati Sergio Ramos\",\n",
    "             \"8 Juta Dosis Vaksin Sinovac Tiba di Tanah Air\",\n",
    "             \"10 Potret Kece Tatjana Saphira Berkacamata, Stylish Banget!\",]\n",
    "\n",
    "# KETIK DI SINI\n",
    "long_headlines = \" \".join(headlines)[:char_limit]\n",
    "print(long_headlines)\n",
    "\n",
    "index = 0\n",
    "new_long_headlines = \"\"\n",
    "\n",
    "while index < len(headlines):\n",
    "    new_long_headlines += headlines[index] + \" \"\n",
    "    index += 1\n",
    "new_long_headlines = new_long_headlines[:char_limit]\n",
    "print(new_long_headlines)"
   ]
  }
 ],
 "metadata": {
  "kernelspec": {
   "display_name": "Python 3 (ipykernel)",
   "language": "python",
   "name": "python3"
  },
  "language_info": {
   "codemirror_mode": {
    "name": "ipython",
    "version": 3
   },
   "file_extension": ".py",
   "mimetype": "text/x-python",
   "name": "python",
   "nbconvert_exporter": "python",
   "pygments_lexer": "ipython3",
   "version": "3.9.5"
  }
 },
 "nbformat": 4,
 "nbformat_minor": 5
}
