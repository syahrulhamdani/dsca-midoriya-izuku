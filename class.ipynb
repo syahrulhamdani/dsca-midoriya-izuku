{
 "cells": [
  {
   "cell_type": "markdown",
   "id": "a8b3cd17-3a75-4aa7-b49d-b5d6d0d19901",
   "metadata": {
    "slideshow": {
     "slide_type": "slide"
    },
    "tags": []
   },
   "source": [
    "# Objek dan Kelas dalam Python\n",
    "\n",
    "Semua yang ada di dalam Python adalah objek. Mulai dari angka (`int` sampai `complex`) sampai fungsi, semua adalah objek. Setiap ekspresi yang kita tulis, seperti penugasan pada variabel, dalam Python juga merupakan objek. Bahkan, kita sendiri juga bisa membuat objek secara manual dari awal, salah satunya menggunakan `class`."
   ]
  },
  {
   "cell_type": "markdown",
   "id": "8592892e-0c8c-47bc-96e8-80b76439869b",
   "metadata": {
    "slideshow": {
     "slide_type": "slide"
    },
    "tags": []
   },
   "source": [
    "## Apa Itu Objek?\n",
    "\n",
    "Objek adalah **sebuah abstraksi Python untuk data**. Semua data yang ada dalam sebuah program Python direpresentasikan oleh objek atau berelasi dengan objek. Bahkan, kode yang kita tulis juga merupakan objek.\n",
    "\n",
    "Sebuah objek merepresentasikan suatu individu, dan bagaimana objek tersebut berinteraksi dengan objek lain didefinisikan dengan metode yang melekat di dalamnya. Kita bisa menganggap objek sebagai **kata benda** dan metode yang melekat di dalamnya sebagai **kata kerja**."
   ]
  },
  {
   "cell_type": "markdown",
   "id": "8e273c58-4dfc-48a9-b13d-9a923b2c0873",
   "metadata": {
    "slideshow": {
     "slide_type": "subslide"
    },
    "tags": []
   },
   "source": [
    "Sebagai contoh, misalkan kita definisikan variabel `num = 7`.\n",
    "\n",
    "`num` merupakan sebuah *instance* dari objek `7` yang menyimpan nilai `7`. Metode yang berlaku seperti penjumlahan, perkalian, dan lainnya. Jika kita definisikan variabel lain yang menyimpan objek `8`, ini adalah objek yang berbeda. Dibalik layar, Python menyediakan kelas integer bawaan yang menyimpan nilai `7` dan `8`.\n",
    "\n",
    "Contoh yang lain adalah string `bitlabs` dan `bootcamp` juga merupakan objek dalam Python.  Metode yang berlaku untuk kedua string tersebut seperti `capitalize()` dan `join()`.\n",
    "\n",
    ">Setiap objek dalam Python memiliki sebuah **identitas**, **tipe data**, dan **nilai**. Untuk lebih jelasnya, bisa dibaca dokumentasi [data model dalam Python](https://docs.python.org/3/reference/datamodel.html)"
   ]
  },
  {
   "cell_type": "markdown",
   "id": "50a6636d-662c-40f3-af14-987ccbb2c678",
   "metadata": {
    "slideshow": {
     "slide_type": "slide"
    },
    "tags": []
   },
   "source": [
    "## Kelas dalam Python\n",
    "\n",
    "Secara umum, kelas (*class*) adalah sebuah cetak biru sebuah program untuk membuat objek baru beserta tipe data, atribut, dan perilaku baru. Dengan kelas, kita bisa mendesain bagaimana objek baru bisa terbuat dan apa yang bisa dilakukan oleh objek tersebut.\n",
    "\n",
    "Sintaks umum untuk membuat sebuah *class* adalah sebagai berikut.\n",
    "\n",
    "```python\n",
    "class ClassName:\n",
    "    <statement-1>\n",
    "    .\n",
    "    .\n",
    "    <statement-N>\n",
    "```"
   ]
  },
  {
   "cell_type": "code",
   "execution_count": null,
   "id": "97df9c5a-6646-4036-a856-3a1b708b9673",
   "metadata": {},
   "outputs": [],
   "source": [
    "class Cat:\n",
    "    pass"
   ]
  },
  {
   "cell_type": "markdown",
   "id": "7f69b136-df5f-4191-a8bd-28839d313c9d",
   "metadata": {
    "slideshow": {
     "slide_type": "subslide"
    },
    "tags": []
   },
   "source": [
    "Instansiasi objek dari kelas `Cat` bisa dilakukan dengan memanggil nama kelasnya sama seperti pemanggilan fungsi."
   ]
  },
  {
   "cell_type": "code",
   "execution_count": null,
   "id": "d3e488e4-f90a-4d63-9597-7671159ed5f4",
   "metadata": {},
   "outputs": [],
   "source": [
    "persian = Cat()\n",
    "scottish_fold = Cat()"
   ]
  },
  {
   "cell_type": "code",
   "execution_count": null,
   "id": "4b5e9775-c6f2-4dbb-91a4-bb3ff01844e8",
   "metadata": {},
   "outputs": [],
   "source": [
    "print(persian, type(persian))\n",
    "print(scottish_fold, type(scottish_fold))"
   ]
  },
  {
   "cell_type": "markdown",
   "id": "f5cc5f0d-18cf-4b88-872d-0d4c92afad13",
   "metadata": {
    "slideshow": {
     "slide_type": "subslide"
    },
    "tags": []
   },
   "source": [
    "Kita sudah membuat 2 buah objek, `Persian` dan `ScottishFold`. Pada pernyatan `print` di atas, karena kita tidak menentukan bagaimana implementasi fungsi `print` kelas `Cat`, kita akan mendapatkan sesuatu seperti `<__main__.Cat object at 0x108ea3340>`.\n",
    "\n",
    "Kedua objek tersebut masih tidak bisa melakukan apa-apa dan tidak memiliki informasi apapun karena kita tidak menyediakannya."
   ]
  },
  {
   "cell_type": "markdown",
   "id": "6b0e22db-6777-4105-86da-75d7888745a8",
   "metadata": {
    "slideshow": {
     "slide_type": "slide"
    },
    "tags": []
   },
   "source": [
    "### Atribut\n",
    "\n",
    "Atribut adalah **sebuah variabel yang berada dalam sebuah *class* atau objek**. Selama pendefinisian kelas atau setelah suatu objek dibuat dari kelas tersebut, kita bisa mendefinisikan atribut pada objek tersebut. Sebagai contoh, kita akan tambahkan atribut `kind` pada objek `persian` dan `scottish_fold` yang merepresentasikan jenis kucing."
   ]
  },
  {
   "cell_type": "code",
   "execution_count": null,
   "id": "b8be2f09-7cf4-485b-a468-2b26bd098139",
   "metadata": {},
   "outputs": [],
   "source": [
    "persian.kind = \"persian\"\n",
    "scottish_fold.kind = \"scottish fold\""
   ]
  },
  {
   "cell_type": "code",
   "execution_count": null,
   "id": "1c6a84c6-5cf2-42a9-8ab9-1a645228036f",
   "metadata": {},
   "outputs": [],
   "source": [
    "print(\"kind of cat:\", persian.kind)\n",
    "print(\"kinf of cat:\", scottish_fold.kind)"
   ]
  },
  {
   "cell_type": "markdown",
   "id": "2cd69d87-92dc-4437-a67e-f42e7c23c6cf",
   "metadata": {
    "slideshow": {
     "slide_type": "subslide"
    },
    "tags": []
   },
   "source": [
    "Cara pendefinisian atribut tersebut tidak efektif dan tidak akan melekat pada objek yang akan dibuat setelahnya. Untuk itulah, sangat disarankan mendefinisikan atribut objek pada saat pendefinisian *class*.\n",
    "\n",
    "Selain atribut objek, *class* juga bisa diberikan atribut kelas yang akan melekat pada kelas, bagaimanapun dan apapun objek yang kita buat, nilai atribut kelas akan tetap sama untuk satu kelas. Misalkan, karena semua kucing normal memiliki 4 kaki, kita bisa tambahkan informasi ini sebagai atribut kelas `Cat`."
   ]
  },
  {
   "cell_type": "code",
   "execution_count": null,
   "id": "e25579a7-6987-4dc0-8148-4f2e66c13fd2",
   "metadata": {},
   "outputs": [],
   "source": [
    "class Cat:\n",
    "    num_feet = 4"
   ]
  },
  {
   "cell_type": "code",
   "execution_count": null,
   "id": "a3d95aa3-d0b2-4838-926d-e0f091acbed2",
   "metadata": {
    "slideshow": {
     "slide_type": "subslide"
    },
    "tags": []
   },
   "outputs": [],
   "source": [
    "persian = Cat()\n",
    "persian.kind = \"persian\"\n",
    "\n",
    "scottish_fold = Cat()\n",
    "scottish_fold.kind = \"scottish fold\"\n",
    "\n",
    "print(\"num of feet of persian cat:\", persian.num_feet)\n",
    "print(\"num of feet of scottish fold cat:\", scottish_fold.num_feet)"
   ]
  },
  {
   "cell_type": "markdown",
   "id": "dfe99999-854e-44f3-b084-cb1c77a77f0a",
   "metadata": {},
   "source": [
    "Pada kode di atas, nilai `num_feet` akan selalu sama untuk satu kelas meskipun objek yang dibuat berbeda. Untuk pendefinisian atribut objek pada saat definisi kelas, kita bisa menggunakan metode `__init__`. Tapi, sebelum kita membahasnya lebih jauh, kita perlu tahu secara umum apa yang dimaksud dengan metode dalam sebuah kelas.\n"
   ]
  },
  {
   "cell_type": "markdown",
   "id": "3ecd0769-2026-47f9-ba8c-304b4328c9ef",
   "metadata": {
    "slideshow": {
     "slide_type": "slide"
    },
    "tags": []
   },
   "source": [
    "### Metode\n",
    "\n",
    "Pada dasarnya, metode adalah **sebuah fungsi yang melekat pada kelas atau objek**. Kita mengenal beberapa metode yang hanya dimiliki oleh tipe data tertentu, seperti `title()` yang hanya ada pada tipe data string, `append()` yang hanya ada pada tipe data list, dan lainnya. Karena kita sedang membuat sebuah objek baru, yang tentu saja akan melahirkan tipe data baru, kita juga bisa mendefinisikan metode tertentu **yang membantu tugas dan objektif dari kelas tersebut**."
   ]
  },
  {
   "cell_type": "markdown",
   "id": "7d8b5b62-d645-4e55-8bcc-fab0bf99946c",
   "metadata": {
    "slideshow": {
     "slide_type": "subslide"
    },
    "tags": []
   },
   "source": [
    "#### Metode Inisialisasi\n",
    "\n",
    "Metode pertama adalah metode inisialisasi yang digunakan untuk menginisialisasi atribut objek setiap kali objek baru dibuat. Metode ini, secara khusus, **harus didefinisikan dengan nama `__init__`** (perhatikan dua garis bawah `__` yang mengapit kata kunci `init`). Umumnya, bentuk sebuah definisi kelas dalam Python seperti di bawah ini.\n",
    "\n",
    "```python\n",
    "class Cat:\n",
    "    def __init__(self):\n",
    "        pass\n",
    "```\n",
    "\n",
    "Ada 2 kata kunci baru pada kode di atas: `__init__` dan `self`. *Keyword* `__init__` merupakan metode spesial bawaan Python untuk menginisialisasi objek baru dari kelas tersebut. Sedangkan, parameter `self` merujuk pada objek yang akan dibuat. Meskipun `self` bukanlah kata kunci bawaan Python dan kita bisa menggantinya dengan parameter lain, tapi ini adalah suatu konvensi dari komunitas Python untuk memudahkan perawatan kode di masa mendatang."
   ]
  },
  {
   "cell_type": "markdown",
   "id": "d12afe91-adf1-4cd3-8bbb-cad12a7346ee",
   "metadata": {
    "slideshow": {
     "slide_type": "subslide"
    },
    "tags": []
   },
   "source": [
    "> **Tips**\n",
    ">\n",
    "> * Pada bagian ini, kita mungkin akan sering melihat kata kunci sejenis sebagai penamaan metode dalam kelas. Python punya sebutan sendiri untuk memudahkan penyebutan, yaitu *dunder method*.\n",
    "> * Parameter pertama dari setiap metode yang didefinisikan dalam kelas harus merujuk pada objek yang akan dibuat, yaitu `self`.\n",
    "> * Sangat disarankan untuk mengikuti konvensi dari komunitas seperti menggunakan `self` dan bukan yang lainnya, supaya tidak ada orang (termasuk kita sendiri) yang harus menebak-nebak apa yang dimaksud dengan `self`."
   ]
  },
  {
   "cell_type": "markdown",
   "id": "724296e8-bfd6-4acf-a146-af9dc6555cfa",
   "metadata": {
    "slideshow": {
     "slide_type": "subslide"
    },
    "tags": []
   },
   "source": [
    "Misalkan, kita ingin membuat sebuah objek yang merepresentasikan seekor kucing lengkap dengan informasi seperti karakter, dan perilaku seekor kucing."
   ]
  },
  {
   "cell_type": "code",
   "execution_count": null,
   "id": "980676f8-009d-4dcc-92a1-a1a9eeee488f",
   "metadata": {},
   "outputs": [],
   "source": [
    "class Cat:\n",
    "    \"\"\"Cat class.\"\"\"\n",
    "    def __init__(self, name, kind=\"persian\", num_feet=4):\n",
    "        self.kind = kind\n",
    "        self.name = name\n",
    "        self.num_feet = num_feet\n",
    "\n",
    "    def sound(self):\n",
    "        return \"meow..\""
   ]
  },
  {
   "cell_type": "code",
   "execution_count": null,
   "id": "ed2eab8d-d343-457d-b8dd-cbff9629ab4c",
   "metadata": {
    "slideshow": {
     "slide_type": "subslide"
    },
    "tags": []
   },
   "outputs": [],
   "source": [
    "persian = Cat(\"molly\", kind=\"persian\")\n",
    "bengal = Cat(\"ben\", kind=\"bengal\")\n",
    "scottish_fold = Cat(kind=\"scottish fold\", name=\"queen\")\n",
    "\n",
    "print(\"{} is a {} cat. She sounds like {}..\".format(persian.name, persian.kind, persian.sound()))\n",
    "print(\"{} is a {} cat. He sounds like {}..\".format(bengal.name, bengal.kind, bengal.sound()))\n",
    "print(\"{} is a {} cat. He sounds like {}..\".format(scottish_fold.name, scottish_fold.kind, scottish_fold.sound()))\n",
    "print(type(persian))\n",
    "print(type(bengal))"
   ]
  },
  {
   "cell_type": "code",
   "execution_count": null,
   "id": "2458f507-cfb1-4cd9-aa89-639166f1f836",
   "metadata": {},
   "outputs": [],
   "source": [
    "persian.num_feet, bengal.num_feet"
   ]
  },
  {
   "cell_type": "markdown",
   "id": "695d8ae3-71d1-4929-a0b1-d80eb9931cf0",
   "metadata": {},
   "source": [
    "Perhatikan bahwa kita bisa mengakses atribut objek dengan menggunakan notasi `object.attr`, di mana `object` adalah objek yang dibuat (`persian`/`bengal`), dipisahkan oleh `.`, lalu nama atribut yang ingin diakses (`kind` dan `name`). Kita bisa menambahkan berapapun banyaknya atribut objek pada suatu kelas, tinggal tambahkan saja sebagai parameter pada metode inisialisasi `__init__`.\n",
    "\n",
    "Metode `sound` pada kelas `Cat` juga memiliki parameter `self` sebagai parameter pertama. Bahkan, hanya satu parameter saja, `self`. Ini sama saja seperti fungsi biasa yang tidak memiliki parameter karena pemanggilan metode sebuah objek menghiraukan `self`."
   ]
  },
  {
   "cell_type": "markdown",
   "id": "6a5e917e-5b63-4af4-8d44-473b7359cc25",
   "metadata": {
    "slideshow": {
     "slide_type": "slide"
    },
    "tags": []
   },
   "source": [
    "Mari kita perbarui kelas `Cat` dengan metode yang lebih kompleks seperti di bawah ini dan eksplor beberapa metode dan atributnya."
   ]
  },
  {
   "cell_type": "code",
   "execution_count": null,
   "id": "afdb34fc-fd70-4149-b288-9c5c795710a5",
   "metadata": {},
   "outputs": [],
   "source": [
    "class Cat:\n",
    "    \"\"\"Define a cat.\"\"\"\n",
    "    def __init__(self, name, food, kind=\"persian\", gender=\"male\"):\n",
    "        \"\"\"Initiate a cat.\n",
    "        \n",
    "        Args:\n",
    "            name: cat's name\n",
    "            food: cat's food\n",
    "            kind: cat breed. By default is persian.\n",
    "            gender: male/female. By default is male.\n",
    "        \"\"\"\n",
    "        self.name = name\n",
    "        self.food = food\n",
    "        self.kind = kind\n",
    "        self.is_male = True if gender == \"male\" else False\n",
    "\n",
    "    def sound(self):\n",
    "        return \"meow..\"\n",
    "\n",
    "    def eat(self, food):\n",
    "        \"\"\"Eat a given food.\"\"\"\n",
    "        if food == self.food:\n",
    "            return \"Yeay! it's {}. Time to eat!\".format(food)\n",
    "        return \"Oh no, it's {}. Only {}, please.\".format(food, self.food)\n",
    "\n",
    "    def greet_person(self, person):\n",
    "        \"\"\"Greet a given person.\"\"\"\n",
    "        return \"Hi, {}! nice to meet you.\".format(person)\n",
    "\n",
    "    def greet_cat(self, another_cat):\n",
    "        \"\"\"Greet another cat.\"\"\"\n",
    "        looks = \"handsome\" if another_cat.is_male else \"beautiful\"\n",
    "        return \"Hi, {}! You look {}\".format(another_cat.name, looks)"
   ]
  },
  {
   "cell_type": "code",
   "execution_count": null,
   "id": "5b8d82c2-6f03-486e-add2-b994991d6a59",
   "metadata": {
    "slideshow": {
     "slide_type": "subslide"
    },
    "tags": []
   },
   "outputs": [],
   "source": [
    "molly = Cat(\"Molly\", food=\"fish\")\n",
    "ben = Cat(\"Ben\", food=\"pizza\", kind=\"bengal\", gender=\"non-binary\")"
   ]
  },
  {
   "cell_type": "code",
   "execution_count": null,
   "id": "18b1f62b-cb5c-4e3f-bcb7-f249ae484cae",
   "metadata": {},
   "outputs": [],
   "source": [
    "is_male = False\n",
    "\n",
    "if is_male:\n",
    "    gender = \"male\"\n",
    "else:\n",
    "    gender = \"female\"\n",
    "    \n",
    "print(gender)"
   ]
  },
  {
   "cell_type": "code",
   "execution_count": null,
   "id": "ce60ee60-2323-4e67-9b4c-f91bb5099fe0",
   "metadata": {},
   "outputs": [],
   "source": [
    "is_male = True\n",
    "gender = \"male\" if is_male else \"female\"\n",
    "print(gender)"
   ]
  },
  {
   "cell_type": "code",
   "execution_count": null,
   "id": "e32ba0e5-6587-4c91-940e-76748c4d1e54",
   "metadata": {},
   "outputs": [],
   "source": [
    "gender = \"male\" if molly.is_male else \"female\"\n",
    "print(\"name:\", molly.name)\n",
    "print(\"breed:\", molly.kind)\n",
    "print(\"gender:\", gender)\n",
    "print(\"favorite food:\", molly.food)\n",
    "print(molly.greet_person(\"John\"))\n",
    "print(molly.greet_cat(ben))"
   ]
  },
  {
   "cell_type": "code",
   "execution_count": null,
   "id": "3ba1ed0d-8da4-4368-bda5-b552b9b6ab8d",
   "metadata": {
    "slideshow": {
     "slide_type": "subslide"
    },
    "tags": []
   },
   "outputs": [],
   "source": [
    "print(\"name:\", ben.name)\n",
    "print(\"breed:\", ben.kind)\n",
    "print(\"gender:\", \"male\" if ben.is_male else \"female\")\n",
    "print(\"favorite food:\", ben.food)\n",
    "print(ben.greet_person(\"anna\"))\n",
    "print(ben.greet_cat(molly))"
   ]
  },
  {
   "cell_type": "code",
   "execution_count": null,
   "id": "45766c3d-58b7-461d-b6d7-2a137356a827",
   "metadata": {},
   "outputs": [],
   "source": [
    "print(molly.eat(\"fish\"))"
   ]
  },
  {
   "cell_type": "code",
   "execution_count": null,
   "id": "d64aa51e-f68b-49f0-8afc-023b823ac0ad",
   "metadata": {},
   "outputs": [],
   "source": [
    "print(ben.eat(\"pizza\"))"
   ]
  },
  {
   "cell_type": "markdown",
   "id": "ed115160-18c0-41c2-8445-68d6c45dc167",
   "metadata": {
    "slideshow": {
     "slide_type": "slide"
    },
    "tags": []
   },
   "source": [
    "> **Kuis:** Buatlah sebuah kelas `ProductList` yang merepresentasikan daftar produk suatu toko yang menyimpan daftar nama produk yang masih/akan dijual dan daftar nama produk yang sudah terjual. Sebagai sebuah daftar produk suatu toko, beberapa perilaku yang bisa dilakukan atau dikenai pekerjaan adalah sebagai berikut:\n",
    "> * Menambah produk baru ke dalam produk yang akan dijual (`add_product`).\n",
    "> * Memindahkan produk yang terjual dari daftar produk dijual ke dalam daftar produk terjual (`move_to_sold`), tanpa argumen.\n",
    "> * Menampilkan daftar produk yang sedang dijual (`show_product_list`).\n",
    "> * Menampilkan daftar produk yang sudah terjual (`show_sold_list`)."
   ]
  },
  {
   "cell_type": "code",
   "execution_count": null,
   "id": "e093a7c9-4497-4492-aa6c-1452cd8c9662",
   "metadata": {},
   "outputs": [],
   "source": [
    "# KETIK DI SINI\n",
    "class ProductList:\n",
    "    pass"
   ]
  }
 ],
 "metadata": {
  "kernelspec": {
   "display_name": "Python 3 (ipykernel)",
   "language": "python",
   "name": "python3"
  },
  "language_info": {
   "codemirror_mode": {
    "name": "ipython",
    "version": 3
   },
   "file_extension": ".py",
   "mimetype": "text/x-python",
   "name": "python",
   "nbconvert_exporter": "python",
   "pygments_lexer": "ipython3",
   "version": "3.9.5"
  }
 },
 "nbformat": 4,
 "nbformat_minor": 5
}
