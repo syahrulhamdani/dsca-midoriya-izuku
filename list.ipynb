{
 "cells": [
  {
   "cell_type": "markdown",
   "id": "d8e5a33e-1998-4df8-b5b4-b34e24c64066",
   "metadata": {
    "slideshow": {
     "slide_type": "slide"
    },
    "tags": []
   },
   "source": [
    "# List\n",
    "\n",
    "List adalah salah satu struktur data Python di mana kita bisa menggabungkan atau menyimpan barisan objek Python yang lain, sesuai dengan arti harafiahnya. List digunakan jika kita ingin membuat sebuah barisan data dalam urutan tertentu dan bisa berubah (diganti, ditambah, atau dikurangi) sewaktu-waktu.\n",
    "\n",
    "> Tipe data **barisan** (*sequence*) dalam Python dibedakan menjadi 2 jenis:\n",
    "> 1. Barisan yang bisa diubah (**mutable**)\n",
    "> 2. Barisan yang tidak bisa diubah (**immutable**)\n",
    ">\n",
    "> `list` termasuk ke dalam jenis tipe data barisan yang bisa diubah (*mutable*)\n"
   ]
  },
  {
   "cell_type": "markdown",
   "id": "e37ef5d4-ba78-4d64-90ca-13df81f6a280",
   "metadata": {
    "slideshow": {
     "slide_type": "slide"
    },
    "tags": []
   },
   "source": [
    "## Mendefinsikan List dengan `[]`\n",
    "\n",
    "Kita bisa mendefinisikan list dengan menggunakan kurung siku (`[]`) dan data-data yang ada di dalamnya dipisahkan dengan koma (`,`), misalkan `[item_1, item_2, item_3, ..., item_n]`.\n",
    "\n",
    "```python\n",
    "empty_list = []\n",
    "first_quarter_months = [\"January\", \"February\", \"March\"]\n",
    "last_5_years = [2016, 2017, 2018, 2019, 2020]\n",
    "list_mix = [100, 3.14, \"bitlabs\", True, -9, 7+2j, -1.]\n",
    "```"
   ]
  },
  {
   "cell_type": "code",
   "execution_count": null,
   "id": "6ecaa73a-a850-4d8d-9cba-387249f6c62a",
   "metadata": {},
   "outputs": [],
   "source": [
    "print([], type([]))\n",
    "print([1, 1, 2, 3], type([1, 1, 2, 3]))"
   ]
  },
  {
   "cell_type": "markdown",
   "id": "043a7633-1b28-407d-a8d8-ad7849f78faf",
   "metadata": {
    "slideshow": {
     "slide_type": "subslide"
    },
    "tags": []
   },
   "source": [
    "Karena list merupakan barisan data, sangat masuk akal jika penasaran berapa jumlah elemen yang ada di dalamnya. Python menyediakan fungsi bawaan `len` yang bisa digunakan untuk mengembalikan jumlah elemen dari suatu `list`. Dokumentasi dari fungsi `list` bisa dilihat [di sini](https://docs.python.org/3/library/functions.html#len)."
   ]
  },
  {
   "cell_type": "code",
   "execution_count": null,
   "id": "6b11c124-aaca-40f7-a32c-0c3ae72192df",
   "metadata": {},
   "outputs": [],
   "source": [
    "# define lists\n",
    "empty_list = []\n",
    "last_5_years = [2016, 2017, 2018, 2019, 2020]\n",
    "list_mix = [100, 3.14, \"bitlabs\", True, -9, 7+2j, -1.]\n",
    "\n",
    "print(\"length of empty_list var:\", len(empty_list), empty_list)\n",
    "print(\"length of last_5_years var:\", len(last_5_years), last_5_years)\n",
    "print(\"length of list_mix:\", len(list_mix), list_mix)"
   ]
  },
  {
   "cell_type": "markdown",
   "id": "6b9155a8-0faa-42fd-b6b0-4a12b1a04537",
   "metadata": {
    "slideshow": {
     "slide_type": "slide"
    },
    "tags": []
   },
   "source": [
    "## Fungsi Bawaan `list()`\n",
    "\n",
    "Selain dengan mendaftarkan manual barisan data menjadi `list` dengan `[]`, kita juga bisa menggunakan fungsi bawaan `list()` yang bisa mengonversi tipe data barisan yang lain menjadi sebuah `list`. Sebagai contoh, kita mengubah string `\"bitlabs\"` menjadi sebuah barisan karakter yang menyusunnya dengan `list(\"bitlabs\")`, yang menghasilkan list `[\"b\", \"i\", \"t\", \"l\", \"a\", \"b\", \"s\"]`."
   ]
  },
  {
   "cell_type": "code",
   "execution_count": null,
   "id": "35d943c3-75d1-4073-ac38-05f894b70f4c",
   "metadata": {},
   "outputs": [],
   "source": [
    "print(str(), int(), float(), bool())"
   ]
  },
  {
   "cell_type": "code",
   "execution_count": null,
   "id": "bdb890ec-a5c0-433a-ad04-de662a951a7c",
   "metadata": {},
   "outputs": [],
   "source": [
    "print(list())    # []\n",
    "print(list(\"bitlabs\"))\n",
    "# print(list(10))    # will throw error"
   ]
  },
  {
   "cell_type": "markdown",
   "id": "35c27529-63af-473a-a146-354b34c17206",
   "metadata": {
    "slideshow": {
     "slide_type": "subslide"
    },
    "tags": []
   },
   "source": [
    "Beberapa fungsi atau metode bawaan Python lainnya yang bisa digunakan pada tipe data list seperti:\n",
    "* `max` - mengembalikan elemen terbesar dalam barisan\n",
    "* `min` - mengembalikan elemen terkecil dalam barisan\n",
    "* `sorted` - mengembalikan duplikat barisan yang terurut dari yang paling kecil ke paling besar, atau sebaliknya\n",
    "* `append` - menambahkan elemen baru setelah elemen terakhir dari barisan tersebut\n",
    "* `join` - sebuah metode pada string yang argumen masukan sebuah list dan mengembalikan gabungan elemen-elemen di dalamnya dalam bentuk string yang dipisah oleh string tersebut.\n",
    "\n",
    "> Perbedaan fungsi dan metode:\n",
    "> * Sebuah fungsi bisa digunakan untuk beberapa tipe data, misal `print`, `max`, dan lainnya.\n",
    "> * Sebuah metode **hanya** bisa digunakan untuk tipe data tertentu. Misalkan, metode `split` hanya bisa digunakan untuk tipe data string dan metode `append` yang hanya bisa digunakan untuk tipe data list.\n",
    ">\n",
    "> Detail fungsi bawaan yang disediakan oleh Python dapat diakses dan kemudian dibaca di [dokumentasi](https://docs.python.org/3.8/library/functions.html). Khusus untuk metode dalam list, silakan baca [dokumentasi khusus list](https://docs.python.org/3.8/library/stdtypes.html#lists)."
   ]
  },
  {
   "cell_type": "markdown",
   "id": "31f9e5b5-73c0-4e69-b5b8-33778dda3e25",
   "metadata": {
    "slideshow": {
     "slide_type": "subslide"
    },
    "tags": []
   },
   "source": [
    "<div class=\"alert alert-block alert-info\">\n",
    "<b>Kuis:</b>\n",
    "<ol>\n",
    "    <li>Buatlah sebuah list <code>less_than_ten</code> yang berisi bilangan 0 sampai 9: <code>[0, 1, 2, 3, ..., 9]</code></li>\n",
    "    <li>Urutkan list <code>less_than_ten</code> dimulai dari yang paling besar hingga paling kecil.</li>\n",
    "    <li>Buat sebuah string dari elemen-elemen <code>less_than_ten</code> yang dipisahkan oleh kata <code>\"bit\"</code>.</li>\n",
    "</ol>\n",
    "</div>"
   ]
  },
  {
   "cell_type": "code",
   "execution_count": null,
   "id": "b3cb330d-cbc4-494f-b592-0a9e10f6c908",
   "metadata": {},
   "outputs": [],
   "source": [
    "# KETIK DI SINI\n",
    "less_than_ten = [\"0\", \"1\", \"2\", \"3\", \"4\", \"5\", \"6\", \"7\", \"8\", \"9\"]\n",
    "print(\"Numbers less than ten:\", less_than_ten)\n",
    "\n",
    "reverse_less_than_ten = sorted(less_than_ten, reverse=True)\n",
    "print(\"Descending order:\", reverse_less_than_ten)\n",
    "\n",
    "# 3. \"0bit1bit2bit3bit4bit5...bit9\"\n",
    "text_bit = \"bit\"\n",
    "text_bit_ten = text_bit.join(less_than_ten)\n",
    "print(text_bit_ten)"
   ]
  },
  {
   "cell_type": "markdown",
   "id": "7d10c5aa-0783-47d2-8ec7-890bc3f17086",
   "metadata": {
    "slideshow": {
     "slide_type": "slide"
    },
    "tags": []
   },
   "source": [
    "## *Indexing* dan *Slicing*\n",
    "\n",
    "Misalkan dipunyai list \n",
    "\n",
    "```python\n",
    "names = [\"John\", \"Andrew\", \"Sebastian\", \"Josh\"]\n",
    "```\n",
    "\n",
    "Terdapat 4 elemen pada list `names`. Penomoran indeks dalam list dimulai dari `0`, `1`, `2`, dan seterusnya sampai elemen terakhir berindeks `n-1`, dengan `n` adalah jumlah elemen.\n",
    "\n",
    "Selain *indexing* yang dimulai dari `0`, penomoran indeks dalam list juga bisa menggunakan integer negatif. Penomoran indeks negatif ini dimulai dari elemen paling belakang ke elemen paling depan/awal dengan indeks `-1`, `-2`, sampai dengan `-n`."
   ]
  },
  {
   "cell_type": "code",
   "execution_count": null,
   "id": "3706740c-a5dc-4a5e-839f-852100baf079",
   "metadata": {
    "tags": []
   },
   "outputs": [],
   "source": [
    "names = [\"John\", \"Andrew\", \"Sebastian\", \"Josh\"]\n",
    "n_names = len(names)\n",
    "\n",
    "print(\"names[0]:\", names[0])\n",
    "print(\"names[1]:\", names[1])\n",
    "print(\"names[2]:\", names[2])\n",
    "print(\"names[3]:\", names[3])\n",
    "print()\n",
    "print(\"names[-4]:\", names[-4])\n",
    "print(\"names[-3]:\", names[-3])\n",
    "print(\"names[-2]:\", names[-2])\n",
    "print(\"names[-1]:\", names[-1])\n",
    "print()\n",
    "print(\"first name:\", names[0], names[-n_names])\n",
    "print(\"last name:\", names[n_names-1], names[-1])"
   ]
  },
  {
   "cell_type": "code",
   "execution_count": null,
   "id": "84143a34-9323-43c4-a8cb-9c7f53726d66",
   "metadata": {},
   "outputs": [],
   "source": [
    "print(names[0:3])    # 0 0+1=1 1+1=2 2+1=3 ...\n",
    "print(names[:3])\n",
    "print(names[1:3])\n",
    "print(names[1:4])\n",
    "print(names[1:])\n",
    "print()\n",
    "print(names[0:3:2])    # 0 0+2=2 2+2=4\n",
    "print(names[1::2])\n",
    "print(names)\n",
    "print(names[::2])\n",
    "print()\n",
    "print(names[-3:-1])\n",
    "print(names[-4:])"
   ]
  },
  {
   "cell_type": "code",
   "execution_count": null,
   "id": "51d270eb-1146-4bc7-83a1-e288bec40c4e",
   "metadata": {},
   "outputs": [],
   "source": [
    "print(names, names, names, names, names)"
   ]
  },
  {
   "cell_type": "code",
   "execution_count": null,
   "id": "eab13317-1d40-43c0-b0fd-77fe183523f3",
   "metadata": {},
   "outputs": [],
   "source": [
    "names, names, names, names, names"
   ]
  },
  {
   "cell_type": "markdown",
   "id": "887d9908-185a-48ba-89b4-b60d9387215e",
   "metadata": {
    "slideshow": {
     "slide_type": "subslide"
    },
    "tags": []
   },
   "source": [
    "Kita juga bisa mengakses dua atau lebih elemen dari sebuah list dengan menggunakan teknik *slicing*. Hasil dari *slicing* juga merupakan list. *Slicing* bekerja dengan notasi `list[start:stop:step]` yang berarti \"ambil elemen dari indeks nomor `start` sampai indeks nomor `stop-1` sebesar `step`, di mana nilai default `step` adalah `1`\".\n",
    "\n",
    "<div class=\"alert alert-block alert-info\">\n",
    "    <b>Kuis</b> Dari list <code>random_dates</code> di bawah ini, coba tampilkan tanggal-tanggal dengan tahun genap dan juga gasal.\n",
    "</div>"
   ]
  },
  {
   "cell_type": "code",
   "execution_count": null,
   "id": "dd6a260c-34b3-48cd-828b-8ce0dad3cac2",
   "metadata": {},
   "outputs": [],
   "source": [
    "random_dates = ['June 21, 2001', 'December 4, 2002', 'August 23, 2003',\n",
    "                'March 29, 2004', 'August 1, 2005', 'July 22, 2006',\n",
    "                'July 11, 2007', 'November 13, 2008', 'March 20, 2009',\n",
    "                'March 9, 2010']\n",
    "\n",
    "# KETIK DI SINI - tanggal dengan tahun genap (split, int)\n",
    "even_year = []\n",
    "\n",
    "# KETIK DI SINI - tanggal dengan tahun gasal\n",
    "odd_year = []"
   ]
  }
 ],
 "metadata": {
  "kernelspec": {
   "display_name": "Python 3 (ipykernel)",
   "language": "python",
   "name": "python3"
  },
  "language_info": {
   "codemirror_mode": {
    "name": "ipython",
    "version": 3
   },
   "file_extension": ".py",
   "mimetype": "text/x-python",
   "name": "python",
   "nbconvert_exporter": "python",
   "pygments_lexer": "ipython3",
   "version": "3.9.5"
  }
 },
 "nbformat": 4,
 "nbformat_minor": 5
}
