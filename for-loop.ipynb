{
 "cells": [
  {
   "cell_type": "markdown",
   "id": "21b77e7f-e732-42f4-8fd1-1298d1096032",
   "metadata": {
    "slideshow": {
     "slide_type": "slide"
    },
    "tags": []
   },
   "source": [
    "# Perulangan dengan For\n",
    "\n",
    "Berbeda dengan `while`, `for` merupakan jenis perulangan berbatas atau *finite loop* yang **akan berhenti tanpa perlu diberi kondisi**. Oleh karena itu, kita tidak perlu mendefinisikan kondisi yang membuat perulangan tersebut berhenti dan hanya memerlukan objek *iterable*.\n",
    "\n",
    "> *Iterable* adalah suatu objek yang dapat mengembalikan salah satu elemennya dalam satu waktu. Beberapa tipe data yang termasuk dalam *iterable* adalah tipe barisan (`list`, `tuple`, dan `range`), string, dan pemetaan seperti `dict`."
   ]
  },
  {
   "cell_type": "markdown",
   "id": "379fa587-4b44-4a75-ac72-21134c117874",
   "metadata": {
    "slideshow": {
     "slide_type": "slide"
    },
    "tags": []
   },
   "source": [
    "## Komponen Pernyataan `for`\n",
    "\n",
    "Berbeda dengan `while`, pernyataan `for` memiliki beberapa komponen sebagai berikut:\n",
    "\n",
    "1. Pernyataan dimulai dengan kata kunci `for` yang menyatakan bahwa pernyataan ini adalah sebuah perulangan dengan `for`.\n",
    "2. Setelah `for`, dilanjutkan dengan sintaks `item in iterable`. Kata kunci `in` yang merupakan operator keanggotaan dan diapit oleh `item` dan `iterable`. Secara berturut-turut, `item` adalah **variabel iterasi** yang mewakili setiap elemen dalam `iterable` dan `iterable` adalah objek `iterable` tempat kita melakukan perulangan.\n",
    "3. Diakhiri dengan titik dua `:`.\n",
    "4. Diikuti oleh blok kode `for` seperti pada blok kode yang lain."
   ]
  },
  {
   "cell_type": "markdown",
   "id": "2040b0c8-5fff-4fa2-b5fb-1c55276d1ca0",
   "metadata": {
    "slideshow": {
     "slide_type": "slide"
    },
    "tags": []
   },
   "source": [
    "## Penggunaan `for`\n",
    "\n",
    "Dengan tujuan yang sama denan `while`, penggunaan `for` bisa ditulis seperti potongan kode di bawah.\n",
    "\n",
    "```python\n",
    "for item in names:\n",
    "    print(item)\n",
    "```\n",
    "\n",
    "Di sini, `item` akan menjadi variabel dengan nilai setiap elemen dalam `names`. Supaya lebih gampang dipahami dan representatif, kita pakai variabel `name` dibandingkan dengan `item`."
   ]
  },
  {
   "cell_type": "code",
   "execution_count": null,
   "id": "b4d3a241-7257-438a-9c3e-b43cde798638",
   "metadata": {},
   "outputs": [],
   "source": [
    "names = [\"brown\", \"james\", \"jackson\", \"lee\", \"johnson\", \"michael\", \"stephany\"]"
   ]
  },
  {
   "cell_type": "code",
   "execution_count": null,
   "id": "cc866288-95b6-45b4-9328-b8e8bcb76def",
   "metadata": {
    "slideshow": {
     "slide_type": "fragment"
    },
    "tags": []
   },
   "outputs": [],
   "source": [
    "for name in names:\n",
    "    print(name)"
   ]
  },
  {
   "cell_type": "code",
   "execution_count": null,
   "id": "7205f3b4-fb89-4b41-b295-9e23cfeb530b",
   "metadata": {},
   "outputs": [],
   "source": [
    "for name in names:\n",
    "    print(name)\n",
    "    for char in name[1:]:\n",
    "        print(char)\n",
    "    print()"
   ]
  },
  {
   "cell_type": "markdown",
   "id": "db03eb55-daea-45fa-8fd0-bf022acae6d1",
   "metadata": {
    "slideshow": {
     "slide_type": "subslide"
    },
    "tags": []
   },
   "source": [
    "Sekarang, kita coba bandingkan dengan potongan kode `while` sebelumnya.\n",
    "\n",
    "```python\n",
    "idx = 0\n",
    "while idx < len(names):\n",
    "    print(names[idx])\n",
    "    idx += 1\n",
    "```"
   ]
  },
  {
   "cell_type": "markdown",
   "id": "8aa8880e-3905-47fe-a6a4-ea56438c07b8",
   "metadata": {
    "slideshow": {
     "slide_type": "slide"
    },
    "tags": []
   },
   "source": [
    "### Perulangan `for` dengan `break` dan `continue`\n",
    "\n",
    "> **Contoh Kasus:**\n",
    ">\n",
    "> Misalkan kita ingin mengisi sebuah kargo dengan beberapa barang. Biasanya, ada **kapasitas maksimum** yang dimiliki oleh kargo, sehingga hanya beberapa barang saja yang bisa muat. Bagaimana implementasi masalah tersebut dengan menggunakan `for` dan mungkin menggunakan `break` dan/atau `continue`, jika didefinisikan `manifesto` di bawah ini?\n",
    ">\n",
    "> ```python\n",
    "manifesto = [(\"bananas\", 15), (\"mattresses\", 24), (\"dog kernels\", 42), (\"computer\", 120), (\"cheeses\", 5)]\n",
    "```"
   ]
  },
  {
   "cell_type": "code",
   "execution_count": null,
   "id": "e7be0dd3-3dca-4af1-9256-6c345799b153",
   "metadata": {},
   "outputs": [],
   "source": [
    "manifesto = [\n",
    "    (\"bananas\", 15),\n",
    "    (\"mattresses\", 24),\n",
    "    (\"dog kennels\", 42),\n",
    "    (\"computer\", 120),\n",
    "    (\"cheeses\", 5),\n",
    "    (\"drugs\", 5)\n",
    "]\n",
    "cargo = []\n",
    "total_weight = 0\n",
    "max_capacity = 100"
   ]
  },
  {
   "cell_type": "code",
   "execution_count": null,
   "id": "e9dccf7f-6253-458a-b552-57fa23d5c2dd",
   "metadata": {},
   "outputs": [],
   "source": [
    "location = (2, 3)\n",
    "loc_a, loc_b = location\n",
    "print(loc_a)\n",
    "print(loc_b)"
   ]
  },
  {
   "cell_type": "code",
   "execution_count": null,
   "id": "f46f29d2-27e8-4fe8-b9e0-3bb561d941bb",
   "metadata": {},
   "outputs": [],
   "source": [
    "for item, weight in manifesto:\n",
    "    print(\"item:\", item)\n",
    "    print(\"weight:\", weight)\n",
    "    print()"
   ]
  },
  {
   "cell_type": "code",
   "execution_count": null,
   "id": "80a0f336-d2a3-4343-bbec-50be9fe301a2",
   "metadata": {
    "slideshow": {
     "slide_type": "subslide"
    },
    "tags": []
   },
   "outputs": [],
   "source": [
    "for cargo_name, cargo_weight in manifesto:\n",
    "    print(\"current manifesto in cargo:\", cargo)\n",
    "    print(\"current weight:\", total_weight)\n",
    "    if total_weight >= max_capacity:\n",
    "        print(\"Stop loading. Total weight:\", total_weight)\n",
    "        break\n",
    "\n",
    "    if cargo_weight + total_weight > 100:\n",
    "        print(\":: Skipping {} (weight: {})\".format(cargo_name, cargo_weight))\n",
    "        continue\n",
    "\n",
    "    print(\"- Adding {} to cargo (weight: {})\".format(cargo_name, cargo_weight))\n",
    "    cargo.append(cargo_name)\n",
    "    total_weight += cargo_weight\n",
    "    \n",
    "\n",
    "print(\"\\nFinal weight:\", total_weight)\n",
    "print(\"Items in cargo:\", cargo)"
   ]
  },
  {
   "cell_type": "markdown",
   "id": "928860f2-bba4-42ae-bab8-3d7a767d1393",
   "metadata": {
    "slideshow": {
     "slide_type": "slide"
    },
    "tags": []
   },
   "source": [
    "### Penggunaan `range` dalam `for`\n",
    "\n",
    "Fungsi bawaah `range` digunakan untuk menghasilkan sebuah objek sejenis barisan berurut yang dimulai dari `start` sampai `stop-1` dengan selisih antar elemen sebesar `step`. Nilai-nilai ini ditentukan ketika kita memanggil fungsi `range` dengan sintaks berikut:\n",
    "\n",
    "```python\n",
    "range(start, stop[, step])\n",
    "```"
   ]
  },
  {
   "cell_type": "code",
   "execution_count": null,
   "id": "a39eae4a-71c7-4745-aec4-1891520aedb2",
   "metadata": {
    "slideshow": {
     "slide_type": "subslide"
    },
    "tags": []
   },
   "outputs": [],
   "source": [
    "five_to_nine = range(5, 10)\n",
    "to_ten = range(10)\n",
    "to_ten_with_two = range(0, 10, 2)\n",
    "\n",
    "print(five_to_nine, type(five_to_nine))\n",
    "print(to_ten, type(to_ten))\n",
    "print(to_ten_with_two, type(to_ten_with_two))"
   ]
  },
  {
   "cell_type": "markdown",
   "id": "ddf9eb32-2f79-49b9-8ba2-f33b82187e4f",
   "metadata": {
    "slideshow": {
     "slide_type": "subslide"
    },
    "tags": []
   },
   "source": [
    "Fungsi `range` akan menghasilkan tipe data `range`. Jika kita ingin melihat isi dari tipe data `range`, kita harus mengubahnya ke dalam jenis barisan yang lain, seperti `list` atau `tuple`."
   ]
  },
  {
   "cell_type": "code",
   "execution_count": null,
   "id": "4c94d3ec-ad76-45b5-a7e1-c2bb84257bfb",
   "metadata": {},
   "outputs": [],
   "source": [
    "print(list(five_to_nine), tuple(five_to_nine), set(five_to_nine))\n",
    "print(list(to_ten), tuple(to_ten), set(to_ten))\n",
    "print(list(to_ten_with_two), tuple(to_ten_with_two), set(to_ten_with_two))"
   ]
  },
  {
   "cell_type": "code",
   "execution_count": null,
   "id": "bea73234-c0a7-4465-bef6-78ec3782afa2",
   "metadata": {},
   "outputs": [],
   "source": [
    "long_list_numbers = list(range(1000))\n",
    "print(long_list_numbers, type(long_list_numbers))"
   ]
  },
  {
   "cell_type": "markdown",
   "id": "2ae940b0-d8e5-463c-a75d-2cc06eb595fc",
   "metadata": {
    "slideshow": {
     "slide_type": "subslide"
    },
    "tags": []
   },
   "source": [
    "Karena `range` juga termasuk dalam objek *iterable*, maka kita bisa melakukan perulangan menggunakan `range` seperti berikut"
   ]
  },
  {
   "cell_type": "code",
   "execution_count": null,
   "id": "c7c1dbab-8f57-4c02-8ba8-99186b42c09b",
   "metadata": {},
   "outputs": [],
   "source": [
    "for x in five_to_nine:\n",
    "    print(x)\n",
    "print()\n",
    "\n",
    "for x in to_ten:\n",
    "    print(x)\n",
    "print()\n",
    "\n",
    "for x in to_ten_with_two:\n",
    "    print(x)"
   ]
  },
  {
   "cell_type": "markdown",
   "id": "aaa4d91d-f8f2-4f88-9f94-a6f07581a8c9",
   "metadata": {
    "slideshow": {
     "slide_type": "subslide"
    },
    "tags": []
   },
   "source": [
    "Karena dengan `range` kita punyai bilangan integer, kita bisa menggunakannya untuk melakukan *indexing* pada tipe barisan seperti `list`, yang secara sintaks lebih mirip dengan penggunaan `while`. Perhatikan perulangan `for` di bawah ini pada `names`."
   ]
  },
  {
   "cell_type": "code",
   "execution_count": null,
   "id": "d8476a3c-98f1-4954-b320-44a6714b8e01",
   "metadata": {},
   "outputs": [],
   "source": [
    "len(names), range(7), range(len(names)), list(range(len(names)))"
   ]
  },
  {
   "cell_type": "code",
   "execution_count": null,
   "id": "95075151-551e-4565-9baa-8894a90a12ba",
   "metadata": {},
   "outputs": [],
   "source": [
    "names = [\"brown\", \"james\", \"jackson\", \"lee\", \"johnson\", \"michael\", \"stephany\"]\n",
    "print(\"orig names:\", names)\n",
    "for i in range(len(names)):\n",
    "    if i+1 == len(names):\n",
    "        break\n",
    "    names[i], names[i+1] = names[i+1], names[i]\n",
    "    print(names)"
   ]
  },
  {
   "cell_type": "code",
   "execution_count": null,
   "id": "dc739480-274d-430d-80c5-9527358182e0",
   "metadata": {},
   "outputs": [],
   "source": [
    "sorted(names), max(names), min(names)"
   ]
  },
  {
   "cell_type": "code",
   "execution_count": null,
   "id": "3a3479c0-df60-4d02-936d-775d3042c05d",
   "metadata": {},
   "outputs": [],
   "source": [
    "for name in names:\n",
    "    print(name)"
   ]
  },
  {
   "cell_type": "markdown",
   "id": "1c87a626-3cbb-40f1-8890-5c64866cde6d",
   "metadata": {
    "slideshow": {
     "slide_type": "slide"
    },
    "tags": []
   },
   "source": [
    "## Perulangan pada Dictionary\n",
    "\n",
    "Dictionary mempunyai metode bawaan `items()` yang mengembalikan sebuah `list` atas pasangan-pasangan `key` dan `value` sebagai `tuple`. Sehingga, dengan perulangan `for`, kita bisa mengakses `key` dan `value` seperti pada contoh kasus pertama di atas.\n",
    "\n",
    "> **Kuis:**\n",
    "Misalkan kita punyai variabel `dict_manifesto` yang merupakan `manifesto` dalam bentuk dictionary dengan `key` adalah nama barang dan `value` adalah beratnya.\n",
    "> 1. Definisikan `dict_manifesto` sebagai representasi dictionary dari `manifesto`.\n",
    "2. Menggunakan `items()`, tampilkan pasangan `key` dan `value` dalam pola `key: value` menggunakan fungsi `print`."
   ]
  },
  {
   "cell_type": "code",
   "execution_count": null,
   "id": "9571f4d7-69b5-4e76-9a27-a5e8c08ba01b",
   "metadata": {},
   "outputs": [],
   "source": [
    "# KETIK DI SINI\n",
    "dict_manifesto = dict(manifesto)\n",
    "print(dict_manifesto)\n",
    "\n",
    "for key, value in dict_manifesto.items():\n",
    "    print(\"{}: {}\".format(key, value))"
   ]
  },
  {
   "cell_type": "markdown",
   "id": "974838f7-822c-4d36-88e9-f5edd251feb8",
   "metadata": {
    "slideshow": {
     "slide_type": "subslide"
    },
    "tags": []
   },
   "source": [
    "> **Kuis:**\n",
    "Dengan masih menggunakan `dict_manifesto`, definisikan dulu `purchased_product` sebagai pemetaan antara nama produk dengan jumlah yang dibeli. Dari `purchased_product` di terasebut, kita ingin mengirimkan produk-produk di dalamnya ke para pembeli. Jika sekarang batas maksimal muatan dalam kargo adalah 1000, produk apa saja dalam `purchased_product` yang bisa dikirim, dengan berat masing-masing produk sesuai pada `dict_manifesto`?\n",
    ">\n",
    "> ```python\n",
    "purchased_product = {\"computer\": 3, \"cheeses\": 10, \"dog kennels\": 5, \"bananas\": 20}\n",
    "```"
   ]
  },
  {
   "cell_type": "code",
   "execution_count": null,
   "id": "d6b07a07-be34-4a6c-ae9b-a909d726cf4d",
   "metadata": {},
   "outputs": [],
   "source": [
    "# KETIK DI SINI"
   ]
  },
  {
   "cell_type": "markdown",
   "id": "5ff739a5-b7b5-43e8-8c45-45680eae0052",
   "metadata": {
    "slideshow": {
     "slide_type": "slide"
    },
    "tags": []
   },
   "source": [
    "## *List*, *Set*, dan *Dictionary Comprehension*\n",
    "\n",
    "Setelah kita belajar perulangan `for`, ada cara yang lebih efektif dan cepat untuk mendefinisikan `list`, `set`, maupun `dict`.\n",
    "\n",
    "> **Contoh Kasus**\n",
    ">\n",
    "> Misal didefinisikan `list` dari nama-nama baru dalam `new_names` berikut.\n",
    ">\n",
    ">\n",
    "> ```python\n",
    "> new_names = [\"joko\", \"abdul\", \"toni\", \"marcus\", \"james\"]\n",
    "> ```\n",
    ">\n",
    "> Tugas kita ada 2:\n",
    "> 1. Dari `manifesto`, coba buat sebuah `list` yang diberi nama `list_product`. yang berisikan produk-produk dalam `manifesto`.\n",
    "> 2. Membuat variabel `unique_names` yang berisikan nama-nama dalam `names` yang baru dan tidak boleh ada duplikat"
   ]
  },
  {
   "cell_type": "code",
   "execution_count": null,
   "id": "722f5251-9798-4ead-b011-e7eba24367dc",
   "metadata": {},
   "outputs": [],
   "source": [
    "manifesto"
   ]
  },
  {
   "cell_type": "code",
   "execution_count": null,
   "id": "bc97672c-2a93-45bc-a3cc-e3cbc4b93848",
   "metadata": {},
   "outputs": [],
   "source": [
    "list(dict(manifesto).keys())"
   ]
  },
  {
   "cell_type": "code",
   "execution_count": null,
   "id": "154ddfe2-2de5-4ea7-9223-af83df170cfc",
   "metadata": {},
   "outputs": [],
   "source": [
    "for product, _ in manifesto:\n",
    "    print(product, _)"
   ]
  },
  {
   "cell_type": "code",
   "execution_count": null,
   "id": "f119517a-b7ca-429d-b14c-5e157bf8c4ac",
   "metadata": {
    "slideshow": {
     "slide_type": "subslide"
    },
    "tags": []
   },
   "outputs": [],
   "source": [
    "list_product = []\n",
    "for product, _ in manifesto:\n",
    "    list_product.append(product)\n",
    "\n",
    "print(list_product)"
   ]
  },
  {
   "cell_type": "markdown",
   "id": "7dae7356-adfe-43c1-b222-1169c3188609",
   "metadata": {},
   "source": [
    "> Penggunaan `_` dalam pernyataan `for` di atas dikarenakan kita hanya memerlukan elemen pertama dari setiap elemen `tuple` dalam `manifesto`, sehingga untuk menghemat memori, kita bisa pakai `_`. Ini sama saja dengan mengatakan \"hiraukan elemen kedua dari setiap elemen `tuple`\"."
   ]
  },
  {
   "cell_type": "markdown",
   "id": "b0eea3b4-e91a-42e9-8232-eeaaba40b625",
   "metadata": {
    "slideshow": {
     "slide_type": "subslide"
    },
    "tags": []
   },
   "source": [
    "Kita butuh setidaknya 3 baris untuk membuat `list_product`. Dengan menggunakan *list comprehension*, kita hanya membutuhkan 1 baris. Bentuk *list comprehension* adalah sebagai berikut.\n",
    "\n",
    "```python\n",
    "[expression for item in iterable]\n",
    "```"
   ]
  },
  {
   "cell_type": "code",
   "execution_count": null,
   "id": "b67bd9d6-b918-4847-a1c5-379c3f184663",
   "metadata": {},
   "outputs": [],
   "source": [
    "list_product_comprehension = [product for product, _ in manifesto]\n",
    "list_weight_comprehension = [weight for _, weight in manifesto]\n",
    "print(list_product_comprehension)\n",
    "print(list_product == list_product_comprehension)\n",
    "print(list_weight_comprehension)"
   ]
  },
  {
   "cell_type": "code",
   "execution_count": null,
   "id": "35b5bcfc-f6c2-427a-9926-7a05b6578c78",
   "metadata": {},
   "outputs": [],
   "source": [
    "numbers = [1, 2, 3, 4, 5]\n",
    "doubled_numbers = [5*number for number in numbers]\n",
    "\n",
    "print(numbers)\n",
    "print(doubled_numbers)"
   ]
  },
  {
   "cell_type": "markdown",
   "id": "431bc792-fc9b-4fff-86fb-d189bea19bb3",
   "metadata": {
    "slideshow": {
     "slide_type": "fragment"
    },
    "tags": []
   },
   "source": [
    "> Jika memungkinkan, dalam mendefinisikan sebuah barisan, lakukanlah *list comprehension* dibanding perulangan `for` biasa. Hal ini karena *list comprehension* lebih efektif dan cepat dari segi memori dan *runtime*."
   ]
  },
  {
   "cell_type": "markdown",
   "id": "e9fb048b-3081-4647-95c9-c96cbffc9f9f",
   "metadata": {
    "slideshow": {
     "slide_type": "subslide"
    },
    "tags": []
   },
   "source": [
    "Implementasi *set comprehension* juga serupa dengan *list comprehension*, yang membedakan hanyalah `set` menggunakan `{}`. Sehingga, bentuk *set comprehension* adalah `{expression for item in iterable}`.\n",
    "\n",
    "> Untuk kasus nomor 2, silakan dicoba sendiri. Silakan definisikan `unique_names` sebagai `set`.\n",
    ">\n",
    "> 2. Membuat variabel `unique_names` yang berisikan nama-nama dalam `names` yang baru dan tidak boleh ada duplikat"
   ]
  },
  {
   "cell_type": "code",
   "execution_count": null,
   "id": "8f94f612-b860-489f-b2ea-8ddc2b9eeb8b",
   "metadata": {},
   "outputs": [],
   "source": [
    "# KETIK DI SINI"
   ]
  },
  {
   "cell_type": "markdown",
   "id": "267ca42b-83a6-40f3-993c-3c5bd6337a0a",
   "metadata": {
    "slideshow": {
     "slide_type": "slide"
    },
    "tags": []
   },
   "source": [
    "Untuk *dictionary comprehension* juga memiliki implementasi yang serupa dengan *set comprehension* dalam hal kurung kurawal `{}`. Akan tetapi, yang membedakan adalah adanya `key` dan `value` yang harus ditulis dalam `expression`. Sehingga, implementasi *dictionary comprehension* adalah sebagai berikut.\n",
    "\n",
    "```python\n",
    "{key: value for item in iterable}\n",
    "```"
   ]
  },
  {
   "cell_type": "markdown",
   "id": "88603537-bb70-4763-90de-5f7d51e22796",
   "metadata": {
    "slideshow": {
     "slide_type": "slide"
    },
    "tags": []
   },
   "source": [
    "> **Kuis:**\n",
    ">\n",
    "> Misalkan diketahui harga produk pada setiap barang pada `manifesto` adalah seperti pada tabel berikut.\n",
    "> \n",
    "> | product | price |\n",
    "| --- | --- |\n",
    "| bananas | 5.000 |\n",
    "| mattresses | 100.000 |\n",
    "| dog kennels | 250.000 |\n",
    "| computer | 1.000.000 |\n",
    "| cheeses | 10.000 |\n",
    "| drugs | 50.000 |\n",
    ">"
   ]
  },
  {
   "cell_type": "markdown",
   "id": "0106f786-f7d4-44df-a6dd-045c11ac3c00",
   "metadata": {
    "slideshow": {
     "slide_type": "subslide"
    },
    "tags": []
   },
   "source": [
    "> Buatlah variabel bertipe `dict`, `product_to_price`, yang memetakan produk dengan harganya!\n",
    ">\n",
    "> Kemudian, dari histori transaksi pada tabel di bawah ini, buatlah variabel `users_spending` yang memetakan setiap nama pada `names` dan total pengeluaran masing-masing orang.\n",
    ">\n",
    "> | name | purchase history |\n",
    "| --- | --- |\n",
    "| brown | {\"bananas\": 10, \"drugs\": 5} |\n",
    "| james | {\"drugs\": 2} |\n",
    "| jackson | {\"computer\": 1, \"matresses\": 2} |\n",
    "| lee | {\"cheeses\": 5, \"bananas\": 5} |\n",
    "| johnson | {\"computer\": 2} |\n",
    "| michael | {\"drugs\": 1, \"bananas\": 1, \"mattresses\": 2} |\n",
    "| stephany | {\"drugs\": 10} |\n",
    "| joko | {\"computer\": 2, \"mattresses\": 3} |\n",
    "| abdul | {\"mattresses\": 5, \"drugs\": 1, \"computer\": 1, \"dog kennels\": 2} |\n",
    "| toni | {\"dog kennels\": 2, \"drugs\": 2} |\n",
    "| marcus | {\"cheeses\": 10} |"
   ]
  },
  {
   "cell_type": "code",
   "execution_count": null,
   "id": "08430d0a-0458-4965-a5da-b40dc56d9902",
   "metadata": {},
   "outputs": [],
   "source": [
    "# KETIK DI SINI\n",
    "product_to_price = {\n",
    "    \"bananas\": 5000,\n",
    "    \"mattresses\": 100000,\n",
    "    \"dog kennels\": 250000,\n",
    "    \"computer\": 1000000,\n",
    "    \"cheeses\": 10000,\n",
    "    \"drugs\": 50000\n",
    "}\n",
    "print(product_to_price)\n",
    "\n",
    "purchase_history = {\n",
    "    \"james\": {\"drugs\": 2},\n",
    "    \"brown\": {\"bananas\": 10, \"drugs\": 5},\n",
    "    \"toni\": {\"dog kennels\": 2, \"drugs\": 2}\n",
    "}\n",
    "print(purchase_history)\n",
    "\n",
    "users_spending = {\n",
    "    user: sum([quantity*product_to_price.get(product_name, 0) for product_name, quantity in dict_products.items()])\n",
    "    for user, dict_products in purchase_history.items()\n",
    "}\n",
    "print(users_spending)"
   ]
  },
  {
   "cell_type": "code",
   "execution_count": null,
   "id": "1890a99b-164c-4595-bde5-39bea84a4c69",
   "metadata": {},
   "outputs": [],
   "source": [
    "dict_spending = {}\n",
    "for user, dict_products in purchase_history.items():\n",
    "    total_spending = 0\n",
    "    for product_name, quantity in dict_products.items():\n",
    "        total_spending += quantity * product_to_price.get(product_name, 0)\n",
    "    dict_spending[user] = total_spending\n",
    "print(dict_spending)"
   ]
  }
 ],
 "metadata": {
  "kernelspec": {
   "display_name": "Python 3 (ipykernel)",
   "language": "python",
   "name": "python3"
  },
  "language_info": {
   "codemirror_mode": {
    "name": "ipython",
    "version": 3
   },
   "file_extension": ".py",
   "mimetype": "text/x-python",
   "name": "python",
   "nbconvert_exporter": "python",
   "pygments_lexer": "ipython3",
   "version": "3.9.5"
  }
 },
 "nbformat": 4,
 "nbformat_minor": 5
}
